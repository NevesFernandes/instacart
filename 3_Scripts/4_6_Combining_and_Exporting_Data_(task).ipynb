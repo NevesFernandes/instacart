{
 "cells": [
  {
   "cell_type": "markdown",
   "id": "83b4a3c6-bb32-443f-9951-c12038897d89",
   "metadata": {},
   "source": [
    "# Task"
   ]
  },
  {
   "cell_type": "markdown",
   "id": "a4ad2936-2016-4e96-91e2-11ec1e34dfa2",
   "metadata": {},
   "source": [
    "### Step 3 - import pickle file (previous steps were done in another notebook)"
   ]
  },
  {
   "cell_type": "code",
   "execution_count": null,
   "id": "8b4b95a6-c306-4a5c-8a2a-5e55b7cadbb0",
   "metadata": {},
   "outputs": [],
   "source": [
    "#initial setup, imports, defs, dataframe loading\n",
    "\n",
    "import pandas as pd\n",
    "import os\n",
    "prep_data_path = '../2_Data/2_Prepared_Data'\n",
    "df_orders_products_combined = pd.read_pickle(os.path.join(prep_data_path, 'orders_products_combined.pkl'))"
   ]
  },
  {
   "cell_type": "markdown",
   "id": "05463a3d-4b22-45a6-be5e-b6cebbeffee6",
   "metadata": {},
   "source": [
    "### Step 4 - check the shape of the imported pickle file"
   ]
  },
  {
   "cell_type": "code",
   "execution_count": 2,
   "id": "0e8bf332-7507-4b4f-9db8-1d29c513f322",
   "metadata": {},
   "outputs": [
    {
     "data": {
      "text/plain": [
       "(32434489, 7)"
      ]
     },
     "execution_count": 2,
     "metadata": {},
     "output_type": "execute_result"
    }
   ],
   "source": [
    "df_orders_products_combined.shape"
   ]
  },
  {
   "cell_type": "markdown",
   "id": "ef1c5303-687c-4a0a-944c-3c9520055372",
   "metadata": {},
   "source": [
    "It kept the shape, as expected!"
   ]
  },
  {
   "cell_type": "markdown",
   "id": "eac2f028-4920-4def-94fa-b06f4799cf48",
   "metadata": {},
   "source": [
    "### Step 5 - Determine a suitable way to combine products_checked and orders_products_combined dataframes"
   ]
  },
  {
   "cell_type": "code",
   "execution_count": 3,
   "id": "98d50658-b075-416e-b3e4-4777685673e3",
   "metadata": {},
   "outputs": [],
   "source": [
    "#load products checked file\n",
    "df_products_chk = pd.read_csv(os.path.join(prep_data_path, 'products_checked.csv'))"
   ]
  },
  {
   "cell_type": "markdown",
   "id": "9ca6a0b7-0f55-4c67-8aa6-f644564f9e9e",
   "metadata": {},
   "source": [
    "Considerations:\n",
    "\n",
    "* It's clear to me that we should use a `df.merge()` using as common field `product_id`\n",
    "\n",
    "* at this point, we should remember that we cleaned up 16 products that had no name. It's likely that the orders dataframe has records with `product_id` matching those that were cleaned (that don't exist anymore in the cleaned df)\n",
    "  \n",
    "* Now the question is: do we want to keep the records with orders of products that we don't even know the name? If yes, then we should do a left join, keeping all records from `df_orders_products_combined`. But for me doesn't make much sense, so i'll apply an inner join, keeping only orders where the `product_id` has a match in `df_products_checked`"
   ]
  },
  {
   "cell_type": "code",
   "execution_count": 4,
   "id": "209f6242-0df1-4e26-8103-ee210e606328",
   "metadata": {},
   "outputs": [],
   "source": [
    "#applying merge and storing it in a new dataframe (to be exported)\n",
    "df_orders_products_merged = df_orders_products_combined.merge(df_products_chk, on = 'product_id', indicator = True)"
   ]
  },
  {
   "cell_type": "markdown",
   "id": "6ccda415-6079-4718-8d6f-11b91222647c",
   "metadata": {},
   "source": [
    "### Step 6 - confirm the results with the merge flag"
   ]
  },
  {
   "cell_type": "code",
   "execution_count": 5,
   "id": "314d5403-065b-43a5-b125-5c969a9f2bf4",
   "metadata": {},
   "outputs": [
    {
     "data": {
      "text/plain": [
       "_merge\n",
       "both          32403719\n",
       "left_only            0\n",
       "right_only           0\n",
       "Name: count, dtype: int64"
      ]
     },
     "execution_count": 5,
     "metadata": {},
     "output_type": "execute_result"
    }
   ],
   "source": [
    "df_orders_products_merged['_merge'].value_counts()"
   ]
  },
  {
   "cell_type": "code",
   "execution_count": 6,
   "id": "ef8990ee-cac3-4488-80d6-80bd522660f5",
   "metadata": {},
   "outputs": [],
   "source": [
    "#after verification, dropping unneeded column\n",
    "df_orders_products_merged.drop('_merge',axis=1,inplace=True)"
   ]
  },
  {
   "cell_type": "markdown",
   "id": "cd2d18cd-121b-45e5-9453-d38c153903ab",
   "metadata": {},
   "source": [
    "### Step 7 - export merged dataframe"
   ]
  },
  {
   "cell_type": "code",
   "execution_count": 7,
   "id": "9cf92f57-a28c-4de2-923e-6278eec0605a",
   "metadata": {},
   "outputs": [],
   "source": [
    "#due to size, best is to export to a pickle file\n",
    "df_orders_products_merged.to_pickle(os.path.join(prep_data_path, 'orders_products_merged.pkl'))"
   ]
  },
  {
   "cell_type": "code",
   "execution_count": null,
   "id": "4c39aa68-772a-440b-b296-989f620783f9",
   "metadata": {},
   "outputs": [],
   "source": []
  }
 ],
 "metadata": {
  "kernelspec": {
   "display_name": "Python 3 (ipykernel)",
   "language": "python",
   "name": "python3"
  },
  "language_info": {
   "codemirror_mode": {
    "name": "ipython",
    "version": 3
   },
   "file_extension": ".py",
   "mimetype": "text/x-python",
   "name": "python",
   "nbconvert_exporter": "python",
   "pygments_lexer": "ipython3",
   "version": "3.12.2"
  }
 },
 "nbformat": 4,
 "nbformat_minor": 5
}
