{
 "cells": [
  {
   "cell_type": "markdown",
   "id": "5e8be80b-573c-4c1a-a2f9-845400136a77",
   "metadata": {},
   "source": [
    "# Exercise Walkthrough (with memory mitigation plan A)"
   ]
  },
  {
   "cell_type": "code",
   "execution_count": 1,
   "id": "7491bd1d-1ac6-4856-90de-69184415a8c1",
   "metadata": {},
   "outputs": [],
   "source": [
    "import pandas as pd\n",
    "import os"
   ]
  },
  {
   "cell_type": "code",
   "execution_count": 2,
   "id": "0f1a6add-895f-48d1-ac6a-7d80c59d7376",
   "metadata": {},
   "outputs": [],
   "source": [
    "data_path = r'../2_Data/'\n",
    "df_orders_prior = pd.read_csv(os.path.join(data_path, '1_Original_Data', 'orders_products_prior.csv'), index_col = False)"
   ]
  },
  {
   "cell_type": "code",
   "execution_count": 3,
   "id": "395307b2-261c-4ed6-9362-c40394f740dc",
   "metadata": {},
   "outputs": [
    {
     "data": {
      "text/plain": [
       "(32434489, 4)"
      ]
     },
     "execution_count": 3,
     "metadata": {},
     "output_type": "execute_result"
    }
   ],
   "source": [
    "df_orders_prior.shape"
   ]
  },
  {
   "cell_type": "code",
   "execution_count": 4,
   "id": "02b54f5e-0e13-4d11-a685-86c4ce2f6ddb",
   "metadata": {},
   "outputs": [
    {
     "data": {
      "text/html": [
       "<div>\n",
       "<style scoped>\n",
       "    .dataframe tbody tr th:only-of-type {\n",
       "        vertical-align: middle;\n",
       "    }\n",
       "\n",
       "    .dataframe tbody tr th {\n",
       "        vertical-align: top;\n",
       "    }\n",
       "\n",
       "    .dataframe thead th {\n",
       "        text-align: right;\n",
       "    }\n",
       "</style>\n",
       "<table border=\"1\" class=\"dataframe\">\n",
       "  <thead>\n",
       "    <tr style=\"text-align: right;\">\n",
       "      <th></th>\n",
       "      <th>order_id</th>\n",
       "      <th>product_id</th>\n",
       "      <th>add_to_cart_order</th>\n",
       "      <th>reordered</th>\n",
       "    </tr>\n",
       "  </thead>\n",
       "  <tbody>\n",
       "    <tr>\n",
       "      <th>0</th>\n",
       "      <td>2</td>\n",
       "      <td>33120</td>\n",
       "      <td>1</td>\n",
       "      <td>1</td>\n",
       "    </tr>\n",
       "    <tr>\n",
       "      <th>1</th>\n",
       "      <td>2</td>\n",
       "      <td>28985</td>\n",
       "      <td>2</td>\n",
       "      <td>1</td>\n",
       "    </tr>\n",
       "    <tr>\n",
       "      <th>2</th>\n",
       "      <td>2</td>\n",
       "      <td>9327</td>\n",
       "      <td>3</td>\n",
       "      <td>0</td>\n",
       "    </tr>\n",
       "    <tr>\n",
       "      <th>3</th>\n",
       "      <td>2</td>\n",
       "      <td>45918</td>\n",
       "      <td>4</td>\n",
       "      <td>1</td>\n",
       "    </tr>\n",
       "    <tr>\n",
       "      <th>4</th>\n",
       "      <td>2</td>\n",
       "      <td>30035</td>\n",
       "      <td>5</td>\n",
       "      <td>0</td>\n",
       "    </tr>\n",
       "  </tbody>\n",
       "</table>\n",
       "</div>"
      ],
      "text/plain": [
       "   order_id  product_id  add_to_cart_order  reordered\n",
       "0         2       33120                  1          1\n",
       "1         2       28985                  2          1\n",
       "2         2        9327                  3          0\n",
       "3         2       45918                  4          1\n",
       "4         2       30035                  5          0"
      ]
     },
     "execution_count": 4,
     "metadata": {},
     "output_type": "execute_result"
    }
   ],
   "source": [
    "df_orders_prior.head()"
   ]
  },
  {
   "cell_type": "markdown",
   "id": "0ff952e4-bc4a-42ce-9ba3-f07763f531f7",
   "metadata": {},
   "source": [
    "after reaching the final task of the achievement, I undestood that `add_to_cart_order` and `reordered` will not be used. Since the memory optimization is of the essence, I'm dropping these two fields at this stage, before merging."
   ]
  },
  {
   "cell_type": "code",
   "execution_count": 5,
   "id": "8b10b106-abcf-4b1a-8797-27d2641051bd",
   "metadata": {},
   "outputs": [],
   "source": [
    "df_orders_prior.drop(['add_to_cart_order','reordered'],axis=1,inplace=True)"
   ]
  },
  {
   "cell_type": "code",
   "execution_count": 6,
   "id": "6713925b-2851-4ca6-bca1-441190e04461",
   "metadata": {},
   "outputs": [],
   "source": [
    "df_orders = pd.read_csv(os.path.join(data_path, '2_Prepared_Data', 'orders_checked.csv'), index_col = False)"
   ]
  },
  {
   "cell_type": "code",
   "execution_count": 7,
   "id": "fe10e5d8-bf13-434f-92c3-39cac9e07c2f",
   "metadata": {},
   "outputs": [
    {
     "data": {
      "text/plain": [
       "(3421083, 6)"
      ]
     },
     "execution_count": 7,
     "metadata": {},
     "output_type": "execute_result"
    }
   ],
   "source": [
    "df_orders.shape"
   ]
  },
  {
   "cell_type": "code",
   "execution_count": 8,
   "id": "94785f87-f904-4ed2-beac-aa7f114935e1",
   "metadata": {},
   "outputs": [
    {
     "data": {
      "text/html": [
       "<div>\n",
       "<style scoped>\n",
       "    .dataframe tbody tr th:only-of-type {\n",
       "        vertical-align: middle;\n",
       "    }\n",
       "\n",
       "    .dataframe tbody tr th {\n",
       "        vertical-align: top;\n",
       "    }\n",
       "\n",
       "    .dataframe thead th {\n",
       "        text-align: right;\n",
       "    }\n",
       "</style>\n",
       "<table border=\"1\" class=\"dataframe\">\n",
       "  <thead>\n",
       "    <tr style=\"text-align: right;\">\n",
       "      <th></th>\n",
       "      <th>order_id</th>\n",
       "      <th>user_id</th>\n",
       "      <th>customer_sequential_order_number</th>\n",
       "      <th>orders_day_of_week</th>\n",
       "      <th>order_hour_of_day</th>\n",
       "      <th>days_since_prior_order</th>\n",
       "    </tr>\n",
       "  </thead>\n",
       "  <tbody>\n",
       "    <tr>\n",
       "      <th>0</th>\n",
       "      <td>2539329</td>\n",
       "      <td>1</td>\n",
       "      <td>1</td>\n",
       "      <td>2</td>\n",
       "      <td>8</td>\n",
       "      <td>NaN</td>\n",
       "    </tr>\n",
       "    <tr>\n",
       "      <th>1</th>\n",
       "      <td>2398795</td>\n",
       "      <td>1</td>\n",
       "      <td>2</td>\n",
       "      <td>3</td>\n",
       "      <td>7</td>\n",
       "      <td>15.0</td>\n",
       "    </tr>\n",
       "    <tr>\n",
       "      <th>2</th>\n",
       "      <td>473747</td>\n",
       "      <td>1</td>\n",
       "      <td>3</td>\n",
       "      <td>3</td>\n",
       "      <td>12</td>\n",
       "      <td>21.0</td>\n",
       "    </tr>\n",
       "    <tr>\n",
       "      <th>3</th>\n",
       "      <td>2254736</td>\n",
       "      <td>1</td>\n",
       "      <td>4</td>\n",
       "      <td>4</td>\n",
       "      <td>7</td>\n",
       "      <td>29.0</td>\n",
       "    </tr>\n",
       "    <tr>\n",
       "      <th>4</th>\n",
       "      <td>431534</td>\n",
       "      <td>1</td>\n",
       "      <td>5</td>\n",
       "      <td>4</td>\n",
       "      <td>15</td>\n",
       "      <td>28.0</td>\n",
       "    </tr>\n",
       "  </tbody>\n",
       "</table>\n",
       "</div>"
      ],
      "text/plain": [
       "   order_id  user_id  customer_sequential_order_number  orders_day_of_week  \\\n",
       "0   2539329        1                                 1                   2   \n",
       "1   2398795        1                                 2                   3   \n",
       "2    473747        1                                 3                   3   \n",
       "3   2254736        1                                 4                   4   \n",
       "4    431534        1                                 5                   4   \n",
       "\n",
       "   order_hour_of_day  days_since_prior_order  \n",
       "0                  8                     NaN  \n",
       "1                  7                    15.0  \n",
       "2                 12                    21.0  \n",
       "3                  7                    29.0  \n",
       "4                 15                    28.0  "
      ]
     },
     "execution_count": 8,
     "metadata": {},
     "output_type": "execute_result"
    }
   ],
   "source": [
    "df_orders.head()"
   ]
  },
  {
   "cell_type": "code",
   "execution_count": 9,
   "id": "0f771d27-6e37-48ca-9b02-0e2e0174a15f",
   "metadata": {},
   "outputs": [
    {
     "data": {
      "text/plain": [
       "days_since_prior_order\n",
       "30.0    369323\n",
       "7.0     320608\n",
       "6.0     240013\n",
       "4.0     221696\n",
       "3.0     217005\n",
       "5.0     214503\n",
       "NaN     206209\n",
       "2.0     193206\n",
       "8.0     181717\n",
       "1.0     145247\n",
       "9.0     118188\n",
       "14.0    100230\n",
       "10.0     95186\n",
       "13.0     83214\n",
       "11.0     80970\n",
       "12.0     76146\n",
       "0.0      67755\n",
       "15.0     66579\n",
       "16.0     46941\n",
       "21.0     45470\n",
       "17.0     39245\n",
       "20.0     38527\n",
       "18.0     35881\n",
       "19.0     34384\n",
       "22.0     32012\n",
       "28.0     26777\n",
       "23.0     23885\n",
       "27.0     22013\n",
       "24.0     20712\n",
       "25.0     19234\n",
       "29.0     19191\n",
       "26.0     19016\n",
       "Name: count, dtype: int64"
      ]
     },
     "execution_count": 9,
     "metadata": {},
     "output_type": "execute_result"
    }
   ],
   "source": [
    "#checking content of days_since_prior_order\n",
    "df_orders['days_since_prior_order'].value_counts(dropna=False)"
   ]
  },
  {
   "cell_type": "markdown",
   "id": "5b44f636-cc56-41a0-8307-f8fb47469290",
   "metadata": {},
   "source": [
    "Because this column has empty values, pandas imports them as NaN values.\n",
    "Therefore, by default, it assigns a float64 dtype. But when we inspect the content, this could perfectly be an integer. Fortunately, there is a an extension datatype called `pd.Int8Dtype())`\n",
    "\n",
    "read further https://pandas.pydata.org/pandas-docs/stable/user_guide/integer_na.html#integer-na"
   ]
  },
  {
   "cell_type": "code",
   "execution_count": 10,
   "id": "e567c4b4-d798-4280-899c-0121342f9671",
   "metadata": {},
   "outputs": [
    {
     "name": "stdout",
     "output_type": "stream",
     "text": [
      "<class 'pandas.core.frame.DataFrame'>\n",
      "RangeIndex: 3421083 entries, 0 to 3421082\n",
      "Data columns (total 6 columns):\n",
      " #   Column                            Dtype  \n",
      "---  ------                            -----  \n",
      " 0   order_id                          int64  \n",
      " 1   user_id                           int64  \n",
      " 2   customer_sequential_order_number  int64  \n",
      " 3   orders_day_of_week                int64  \n",
      " 4   order_hour_of_day                 int64  \n",
      " 5   days_since_prior_order            float64\n",
      "dtypes: float64(1), int64(5)\n",
      "memory usage: 156.6 MB\n"
     ]
    }
   ],
   "source": [
    "#checking memory usage\n",
    "df_orders.info()"
   ]
  },
  {
   "cell_type": "code",
   "execution_count": 11,
   "id": "f7b8346d-d46f-463a-b574-81c93a89a0e6",
   "metadata": {},
   "outputs": [],
   "source": [
    "#revise datatypes to consume less memory on orders dataframe\n",
    "\n",
    "df_orders['order_id']=df_orders['order_id'].astype('int32')\n",
    "df_orders['user_id'] = df_orders['user_id'].astype('int32')\n",
    "df_orders['customer_sequential_order_number']=df_orders['customer_sequential_order_number'].astype('int8')\n",
    "df_orders['orders_day_of_week']=df_orders['orders_day_of_week'].astype('int8')\n",
    "df_orders['order_hour_of_day']=df_orders['order_hour_of_day'].astype('int8')\n",
    "\n",
    "#this special type is to handle integers with possible NaN values. \n",
    "#See section \"Support for Integer NA\" here: https://pandas.pydata.org/pandas-docs/stable/user_guide/gotchas.html\n",
    "df_orders['days_since_prior_order']=df_orders['days_since_prior_order'].astype(pd.Int8Dtype())"
   ]
  },
  {
   "cell_type": "code",
   "execution_count": 12,
   "id": "e448abeb-99bc-40e8-8f12-1a3d37f6e470",
   "metadata": {},
   "outputs": [
    {
     "name": "stdout",
     "output_type": "stream",
     "text": [
      "<class 'pandas.core.frame.DataFrame'>\n",
      "RangeIndex: 3421083 entries, 0 to 3421082\n",
      "Data columns (total 6 columns):\n",
      " #   Column                            Dtype\n",
      "---  ------                            -----\n",
      " 0   order_id                          int32\n",
      " 1   user_id                           int32\n",
      " 2   customer_sequential_order_number  int8 \n",
      " 3   orders_day_of_week                int8 \n",
      " 4   order_hour_of_day                 int8 \n",
      " 5   days_since_prior_order            Int8 \n",
      "dtypes: Int8(1), int32(2), int8(3)\n",
      "memory usage: 42.4 MB\n"
     ]
    }
   ],
   "source": [
    "#checking new memory usage\n",
    "df_orders.info()"
   ]
  },
  {
   "cell_type": "markdown",
   "id": "a7f898ab-8d00-4a2d-a8b7-f382c3c49f2e",
   "metadata": {},
   "source": [
    "This doesn't look much, but it will have a relevant impact when merging with orders_prior dataframe"
   ]
  },
  {
   "cell_type": "code",
   "execution_count": 13,
   "id": "5e57a4e7-0ffb-45c5-8a3f-0cf9fdfe4913",
   "metadata": {},
   "outputs": [],
   "source": [
    "#revise datatypes to consume less memory in orders prior dataframe\n",
    "#the commented lines avoid a code error, because I've decided to drop these fields.\n",
    "#They can be uncommented if in the future I decide to take the fields back\n",
    "\n",
    "df_orders_prior['product_id'] =df_orders_prior['product_id'].astype('int32')\n",
    "#df_orders_prior['reordered']=df_orders_prior['reordered'].astype('int8')\n",
    "#df_orders_prior['add_to_cart_order']=df_orders_prior['add_to_cart_order'].astype('int32')\n",
    "df_orders_prior['order_id']=df_orders_prior['order_id'].astype('int32')"
   ]
  },
  {
   "cell_type": "code",
   "execution_count": 14,
   "id": "76854b94-3020-486f-9ee1-2a9be337350d",
   "metadata": {},
   "outputs": [
    {
     "name": "stdout",
     "output_type": "stream",
     "text": [
      "<class 'pandas.core.frame.DataFrame'>\n",
      "RangeIndex: 3421083 entries, 0 to 3421082\n",
      "Data columns (total 6 columns):\n",
      " #   Column                            Dtype\n",
      "---  ------                            -----\n",
      " 0   order_id                          int32\n",
      " 1   user_id                           int32\n",
      " 2   customer_sequential_order_number  int8 \n",
      " 3   orders_day_of_week                int8 \n",
      " 4   order_hour_of_day                 int8 \n",
      " 5   days_since_prior_order            Int8 \n",
      "dtypes: Int8(1), int32(2), int8(3)\n",
      "memory usage: 42.4 MB\n",
      "<class 'pandas.core.frame.DataFrame'>\n",
      "RangeIndex: 32434489 entries, 0 to 32434488\n",
      "Data columns (total 2 columns):\n",
      " #   Column      Dtype\n",
      "---  ------      -----\n",
      " 0   order_id    int32\n",
      " 1   product_id  int32\n",
      "dtypes: int32(2)\n",
      "memory usage: 247.5 MB\n"
     ]
    }
   ],
   "source": [
    "#checking new memory usage of each dataframe\n",
    "\n",
    "df_orders.info()\n",
    "df_orders_prior.info()"
   ]
  },
  {
   "cell_type": "code",
   "execution_count": 15,
   "id": "21aa42be-1982-41b1-88c7-2ee3ac6dedc2",
   "metadata": {
    "scrolled": true
   },
   "outputs": [],
   "source": [
    "#merging\n",
    "\n",
    "df_merged_large = df_orders.merge(df_orders_prior, on = 'order_id', indicator = True)"
   ]
  },
  {
   "cell_type": "code",
   "execution_count": 16,
   "id": "c11e1e03-dd45-4387-b586-fca9851f84e8",
   "metadata": {},
   "outputs": [
    {
     "data": {
      "text/plain": [
       "_merge\n",
       "both          32434489\n",
       "left_only            0\n",
       "right_only           0\n",
       "Name: count, dtype: int64"
      ]
     },
     "execution_count": 16,
     "metadata": {},
     "output_type": "execute_result"
    }
   ],
   "source": [
    "#checking if all records match\n",
    "\n",
    "df_merged_large['_merge'].value_counts(dropna = False)"
   ]
  },
  {
   "cell_type": "code",
   "execution_count": 17,
   "id": "bd5f8ec0-a4d7-49e8-a002-289115d29c4c",
   "metadata": {},
   "outputs": [],
   "source": [
    "#after successful verification, dropping unneeded column\n",
    "df_merged_large.drop('_merge', axis=1, inplace=True)"
   ]
  },
  {
   "cell_type": "code",
   "execution_count": 18,
   "id": "e21090ff-3e8d-4e55-9cdc-5342dded7ffa",
   "metadata": {},
   "outputs": [],
   "source": [
    "# Export data to pkl\n",
    "\n",
    "df_merged_large.to_pickle(os.path.join(data_path, '2_Prepared_Data', 'orders_products_combined.pkl'))"
   ]
  },
  {
   "cell_type": "code",
   "execution_count": null,
   "id": "85aa3f42-94c4-489b-8942-673e4141306d",
   "metadata": {},
   "outputs": [],
   "source": []
  }
 ],
 "metadata": {
  "kernelspec": {
   "display_name": "Python 3 (ipykernel)",
   "language": "python",
   "name": "python3"
  },
  "language_info": {
   "codemirror_mode": {
    "name": "ipython",
    "version": 3
   },
   "file_extension": ".py",
   "mimetype": "text/x-python",
   "name": "python",
   "nbconvert_exporter": "python",
   "pygments_lexer": "ipython3",
   "version": "3.12.2"
  }
 },
 "nbformat": 4,
 "nbformat_minor": 5
}
