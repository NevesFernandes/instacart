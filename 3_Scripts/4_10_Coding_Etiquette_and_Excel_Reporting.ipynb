{
 "cells": [
  {
   "cell_type": "markdown",
   "id": "3a5d25fe-b98f-43e3-9a1b-f1a110c242e7",
   "metadata": {},
   "source": [
    "<p style=\"font-size:30px\">Table of contents</p>\n",
    "\n",
    "1. Initial Setup\n",
    "2. Handling with PII data\n",
    "3. Regional Segmentation\n",
    "4. Low active customers slicing\n",
    "5. Profiling\n",
    "6. Visualizations\n",
    "7. Exporting plots\n",
    "\n",
    "\n",
    "**Note**: for a fully detailed ToC breakdown, I recommend opening this file on Jupyter Notebook and go to menu -> View -> Table of Contents, or press Ctrl+Shift+K (or Cmd instead of Ctrl for Mac users)"
   ]
  },
  {
   "cell_type": "markdown",
   "id": "f47a2fbf-0b3d-4acb-af8e-ef3e15b93c81",
   "metadata": {},
   "source": [
    "# Initial setup\n",
    "Import the data set you exported in Task 4.9 into a new Jupyter notebook. This should be the merged version of your data that contains the new customers column."
   ]
  },
  {
   "cell_type": "code",
   "execution_count": 1,
   "id": "ee3f34d3-ddd0-4236-96fd-28b4a675b69f",
   "metadata": {},
   "outputs": [],
   "source": [
    "#importing libraries\n",
    "\n",
    "import pandas as pd\n",
    "import numpy as np\n",
    "import os\n",
    "import matplotlib.pyplot as plt\n",
    "import seaborn as sns"
   ]
  },
  {
   "cell_type": "code",
   "execution_count": 2,
   "id": "671ce28c-8bba-4566-a53a-d16d83ba12c1",
   "metadata": {},
   "outputs": [],
   "source": [
    "#setting up path variables\n",
    "\n",
    "prep_data_path =  '../2_Data/2_Prepared_Data/'\n",
    "vis_path = '../4_Analysis/3_Visualizations/'"
   ]
  },
  {
   "cell_type": "code",
   "execution_count": 3,
   "id": "d9dd3f6d-b02d-45fe-873f-57440254db71",
   "metadata": {},
   "outputs": [],
   "source": [
    "#importing pickle files into working dataframe\n",
    "#    (to be noted here that this file contains a 70% slice of the full orders dataset merged with customers\n",
    "#     this partial random selection was due to memory restrictions)\n",
    "\n",
    "df_ord_prod_cust = pd.read_pickle(os.path.join(prep_data_path, 'orders_products_customers.pkl'))"
   ]
  },
  {
   "cell_type": "markdown",
   "id": "97bb0fe0-3d32-4746-9562-8f1598f6b467",
   "metadata": {},
   "source": [
    "# Handling with PII data\n",
    "\n",
    "Consider any security implications that might exist for this new data. You’ll need to address any Personal Identifiable Information in the data before continuing your analysis."
   ]
  },
  {
   "cell_type": "markdown",
   "id": "c5eaea30-30df-4800-8ad0-a425420a74e5",
   "metadata": {},
   "source": [
    "I've already addressed this issue while wrangling the dataframe with customers, before the merge. At the time, I wrote this:\n",
    "\n",
    "*Drop the columns with the client names. It's a sensitive ethical issue, especially because there is extra personal info regarding dependants, family status, income, etc. Statistics will only be produced in aggregation. The user_id, however, shall remain because it will be the key to combine with orders dataset.*\n",
    "\n",
    "And I ran the following code:\n",
    "\n",
    "`df_customers.drop(labels=['First Name','Surnam'], axis=1, inplace=True)`"
   ]
  },
  {
   "cell_type": "markdown",
   "id": "db034eff-0f1f-49bc-aca5-65d402c37bd5",
   "metadata": {},
   "source": [
    "# Regional segmentation\n",
    "\n",
    "Create a regional segmentation of the data. You’ll need to create a “Region” column based on the “State” column from your customers data set. \n",
    "\n",
    "Determine whether there’s a difference in spending habits between the different U.S. regions. (Hint: You can do this by crossing the variable you just created with the spending flag.)"
   ]
  },
  {
   "cell_type": "code",
   "execution_count": 4,
   "id": "accca330-5553-487e-8ac1-4631d8e739e1",
   "metadata": {},
   "outputs": [],
   "source": [
    "#setup 4 lists with all the states for each region\n",
    "\n",
    "ls_south_states = ['Delaware', 'Maryland', 'District of Columbia', 'Virginia', 'West Virginia', 'North Carolina', 'South Carolina', 'Georgia', 'Florida', 'Kentucky', 'Tennessee', 'Mississippi', 'Alabama', 'Oklahoma', 'Texas', 'Arkansas', 'Louisiana']\n",
    "ls_west_states = ['Idaho', 'Montana', 'Wyoming','Nevada','Utah','Colorado','Arizona','New Mexico','Alaska','Washington','Oregon','California','Hawaii']\n",
    "ls_northeast_states = ['Maine','New Hampshire','Vermont','Massachusetts','Rhode Island','Connecticut','New York','Pennsylvania','New Jersey']\n",
    "ls_midwest_states = ['Wisconsin','Michigan','Illinois','Indiana','Ohio','North Dakota','South Dakota','Nebraska','Kansas','Minnesota','Iowa','Missouri']"
   ]
  },
  {
   "cell_type": "code",
   "execution_count": 5,
   "id": "dc35f123-cb7e-48b5-a03f-b9c8a3f4751e",
   "metadata": {},
   "outputs": [],
   "source": [
    "#assign to the new region field, using .loc method, the value corresponding to the state existing in each list.\n",
    "\n",
    "df_ord_prod_cust.loc[df_ord_prod_cust['state'].isin(ls_south_states), 'region'] = 'South'\n",
    "df_ord_prod_cust.loc[df_ord_prod_cust['state'].isin(ls_west_states), 'region'] = 'West'\n",
    "df_ord_prod_cust.loc[df_ord_prod_cust['state'].isin(ls_northeast_states), 'region'] = 'Northeast'\n",
    "df_ord_prod_cust.loc[df_ord_prod_cust['state'].isin(ls_midwest_states), 'region'] = 'MidWest'"
   ]
  },
  {
   "cell_type": "markdown",
   "id": "a4edfcae-a98c-46ee-aa62-0690b1e3072c",
   "metadata": {},
   "source": [
    "I'm confident in the process, I know that at this stage in case of any doubt, I could run `.value_counts()` in both fields (state and region) and do some cross verifications.\n",
    "\n",
    "In any case, I'm running `value_counts()` on region to see distribution (and to see if eventually NaN values were created)"
   ]
  },
  {
   "cell_type": "code",
   "execution_count": 6,
   "id": "98a5e268-d67b-45b8-b49e-82d410ea593a",
   "metadata": {},
   "outputs": [
    {
     "data": {
      "text/plain": [
       "region\n",
       "South        7555117\n",
       "West         5806240\n",
       "MidWest      5316195\n",
       "Northeast    4005401\n",
       "Name: count, dtype: int64"
      ]
     },
     "execution_count": 6,
     "metadata": {},
     "output_type": "execute_result"
    }
   ],
   "source": [
    "df_ord_prod_cust['region'].value_counts(dropna=False)"
   ]
  },
  {
   "cell_type": "code",
   "execution_count": 7,
   "id": "899a0870-c84c-446a-87a1-d6b75258c13f",
   "metadata": {},
   "outputs": [],
   "source": [
    "crosstab = pd.crosstab(df_ord_prod_cust['region'], df_ord_prod_cust['high_spender_flag'], dropna = False)"
   ]
  },
  {
   "cell_type": "code",
   "execution_count": 8,
   "id": "41f428d1-3de4-43d1-83da-bef69f116e99",
   "metadata": {},
   "outputs": [
    {
     "data": {
      "text/html": [
       "<div>\n",
       "<style scoped>\n",
       "    .dataframe tbody tr th:only-of-type {\n",
       "        vertical-align: middle;\n",
       "    }\n",
       "\n",
       "    .dataframe tbody tr th {\n",
       "        vertical-align: top;\n",
       "    }\n",
       "\n",
       "    .dataframe thead th {\n",
       "        text-align: right;\n",
       "    }\n",
       "</style>\n",
       "<table border=\"1\" class=\"dataframe\">\n",
       "  <thead>\n",
       "    <tr style=\"text-align: right;\">\n",
       "      <th>high_spender_flag</th>\n",
       "      <th>False</th>\n",
       "      <th>True</th>\n",
       "    </tr>\n",
       "    <tr>\n",
       "      <th>region</th>\n",
       "      <th></th>\n",
       "      <th></th>\n",
       "    </tr>\n",
       "  </thead>\n",
       "  <tbody>\n",
       "    <tr>\n",
       "      <th>MidWest</th>\n",
       "      <td>5295864</td>\n",
       "      <td>20331</td>\n",
       "    </tr>\n",
       "    <tr>\n",
       "      <th>Northeast</th>\n",
       "      <td>3992449</td>\n",
       "      <td>12952</td>\n",
       "    </tr>\n",
       "    <tr>\n",
       "      <th>South</th>\n",
       "      <td>7526752</td>\n",
       "      <td>28365</td>\n",
       "    </tr>\n",
       "    <tr>\n",
       "      <th>West</th>\n",
       "      <td>5784401</td>\n",
       "      <td>21839</td>\n",
       "    </tr>\n",
       "  </tbody>\n",
       "</table>\n",
       "</div>"
      ],
      "text/plain": [
       "high_spender_flag    False  True \n",
       "region                           \n",
       "MidWest            5295864  20331\n",
       "Northeast          3992449  12952\n",
       "South              7526752  28365\n",
       "West               5784401  21839"
      ]
     },
     "execution_count": 8,
     "metadata": {},
     "output_type": "execute_result"
    }
   ],
   "source": [
    "crosstab"
   ]
  },
  {
   "cell_type": "code",
   "execution_count": 9,
   "id": "82a9dad8-ff59-4a3f-8320-a1f22e24ae19",
   "metadata": {},
   "outputs": [
    {
     "name": "stdout",
     "output_type": "stream",
     "text": [
      "MidWest     0.0038243518155372403\n",
      "Northeast   0.00323363378598048\n",
      "South       0.003754409097833958\n",
      "West        0.0037612981895340184\n"
     ]
    }
   ],
   "source": [
    "#check in terms of percentage if in any of the regions the number of items ordered by high spenders do stand out\n",
    "\n",
    "for index, row in crosstab.iterrows():\n",
    "    print ('{}{}'.format(index.ljust(12), row[True]/(row[False] + row[True])))"
   ]
  },
  {
   "cell_type": "markdown",
   "id": "8d13f4c1-0790-4df5-9014-88f6b86858c4",
   "metadata": {},
   "source": [
    "While South region shows the biggest number of items ordered by big spenders, the percentages that the big spenders place are roughly the same."
   ]
  },
  {
   "cell_type": "code",
   "execution_count": 10,
   "id": "ca07aed0-f4be-4444-a33c-69f1908dbb06",
   "metadata": {},
   "outputs": [
    {
     "data": {
      "text/html": [
       "<div>\n",
       "<style scoped>\n",
       "    .dataframe tbody tr th:only-of-type {\n",
       "        vertical-align: middle;\n",
       "    }\n",
       "\n",
       "    .dataframe tbody tr th {\n",
       "        vertical-align: top;\n",
       "    }\n",
       "\n",
       "    .dataframe thead th {\n",
       "        text-align: right;\n",
       "    }\n",
       "</style>\n",
       "<table border=\"1\" class=\"dataframe\">\n",
       "  <thead>\n",
       "    <tr style=\"text-align: right;\">\n",
       "      <th></th>\n",
       "      <th>total_spending</th>\n",
       "      <th>customers_count</th>\n",
       "      <th>orders_count</th>\n",
       "    </tr>\n",
       "    <tr>\n",
       "      <th>region</th>\n",
       "      <th></th>\n",
       "      <th></th>\n",
       "      <th></th>\n",
       "    </tr>\n",
       "  </thead>\n",
       "  <tbody>\n",
       "    <tr>\n",
       "      <th>MidWest</th>\n",
       "      <td>41414880.0</td>\n",
       "      <td>48518</td>\n",
       "      <td>737482</td>\n",
       "    </tr>\n",
       "    <tr>\n",
       "      <th>Northeast</th>\n",
       "      <td>31179162.0</td>\n",
       "      <td>36385</td>\n",
       "      <td>554566</td>\n",
       "    </tr>\n",
       "    <tr>\n",
       "      <th>South</th>\n",
       "      <td>58882828.0</td>\n",
       "      <td>68730</td>\n",
       "      <td>1047557</td>\n",
       "    </tr>\n",
       "    <tr>\n",
       "      <th>West</th>\n",
       "      <td>45235252.0</td>\n",
       "      <td>52562</td>\n",
       "      <td>803179</td>\n",
       "    </tr>\n",
       "  </tbody>\n",
       "</table>\n",
       "</div>"
      ],
      "text/plain": [
       "           total_spending  customers_count  orders_count\n",
       "region                                                  \n",
       "MidWest        41414880.0            48518        737482\n",
       "Northeast      31179162.0            36385        554566\n",
       "South          58882828.0            68730       1047557\n",
       "West           45235252.0            52562        803179"
      ]
     },
     "execution_count": 10,
     "metadata": {},
     "output_type": "execute_result"
    }
   ],
   "source": [
    "#exploring some stats from this newly created region\n",
    "\n",
    "df_region = df_ord_prod_cust[['prices', 'region', 'user_id', 'order_id']].groupby(['region']).agg(\n",
    "    {'prices':'sum', 'user_id': pd.Series.nunique, 'order_id': pd.Series.nunique})\n",
    "df_region = df_region.rename(columns={'prices':'total_spending', 'user_id': 'customers_count', 'order_id': 'orders_count'})\n",
    "df_region"
   ]
  },
  {
   "cell_type": "code",
   "execution_count": 11,
   "id": "0b209ea4-ae41-40f9-9141-969ce16d26d4",
   "metadata": {},
   "outputs": [],
   "source": [
    "# create calculated columns based on the aggregated data\n",
    "\n",
    "df_region['avg_spending_per_order'] = df_region['total_spending']/df_region['orders_count']\n",
    "df_region['avg_spending_per_customer'] = df_region['total_spending']/df_region['customers_count']\n",
    "df_region['avg_orders_per_customer'] = df_region['orders_count']/df_region['customers_count']"
   ]
  },
  {
   "cell_type": "code",
   "execution_count": 12,
   "id": "e2888e3c-ab81-4f8d-a367-f67a06e062a9",
   "metadata": {
    "scrolled": true
   },
   "outputs": [
    {
     "data": {
      "text/html": [
       "<div>\n",
       "<style scoped>\n",
       "    .dataframe tbody tr th:only-of-type {\n",
       "        vertical-align: middle;\n",
       "    }\n",
       "\n",
       "    .dataframe tbody tr th {\n",
       "        vertical-align: top;\n",
       "    }\n",
       "\n",
       "    .dataframe thead th {\n",
       "        text-align: right;\n",
       "    }\n",
       "</style>\n",
       "<table border=\"1\" class=\"dataframe\">\n",
       "  <thead>\n",
       "    <tr style=\"text-align: right;\">\n",
       "      <th></th>\n",
       "      <th>total_spending</th>\n",
       "      <th>customers_count</th>\n",
       "      <th>orders_count</th>\n",
       "      <th>avg_spending_per_order</th>\n",
       "      <th>avg_spending_per_customer</th>\n",
       "      <th>avg_orders_per_customer</th>\n",
       "    </tr>\n",
       "    <tr>\n",
       "      <th>region</th>\n",
       "      <th></th>\n",
       "      <th></th>\n",
       "      <th></th>\n",
       "      <th></th>\n",
       "      <th></th>\n",
       "      <th></th>\n",
       "    </tr>\n",
       "  </thead>\n",
       "  <tbody>\n",
       "    <tr>\n",
       "      <th>MidWest</th>\n",
       "      <td>41414880.0</td>\n",
       "      <td>48518</td>\n",
       "      <td>737482</td>\n",
       "      <td>56.157140</td>\n",
       "      <td>853.598252</td>\n",
       "      <td>15.200173</td>\n",
       "    </tr>\n",
       "    <tr>\n",
       "      <th>Northeast</th>\n",
       "      <td>31179162.0</td>\n",
       "      <td>36385</td>\n",
       "      <td>554566</td>\n",
       "      <td>56.222635</td>\n",
       "      <td>856.923512</td>\n",
       "      <td>15.241611</td>\n",
       "    </tr>\n",
       "    <tr>\n",
       "      <th>South</th>\n",
       "      <td>58882828.0</td>\n",
       "      <td>68730</td>\n",
       "      <td>1047557</td>\n",
       "      <td>56.209665</td>\n",
       "      <td>856.726728</td>\n",
       "      <td>15.241627</td>\n",
       "    </tr>\n",
       "    <tr>\n",
       "      <th>West</th>\n",
       "      <td>45235252.0</td>\n",
       "      <td>52562</td>\n",
       "      <td>803179</td>\n",
       "      <td>56.320262</td>\n",
       "      <td>860.607511</td>\n",
       "      <td>15.280602</td>\n",
       "    </tr>\n",
       "  </tbody>\n",
       "</table>\n",
       "</div>"
      ],
      "text/plain": [
       "           total_spending  customers_count  orders_count  \\\n",
       "region                                                     \n",
       "MidWest        41414880.0            48518        737482   \n",
       "Northeast      31179162.0            36385        554566   \n",
       "South          58882828.0            68730       1047557   \n",
       "West           45235252.0            52562        803179   \n",
       "\n",
       "           avg_spending_per_order  avg_spending_per_customer  \\\n",
       "region                                                         \n",
       "MidWest                 56.157140                 853.598252   \n",
       "Northeast               56.222635                 856.923512   \n",
       "South                   56.209665                 856.726728   \n",
       "West                    56.320262                 860.607511   \n",
       "\n",
       "           avg_orders_per_customer  \n",
       "region                              \n",
       "MidWest                  15.200173  \n",
       "Northeast                15.241611  \n",
       "South                    15.241627  \n",
       "West                     15.280602  "
      ]
     },
     "execution_count": 12,
     "metadata": {},
     "output_type": "execute_result"
    }
   ],
   "source": [
    "df_region"
   ]
  },
  {
   "cell_type": "markdown",
   "id": "0e9a3a8d-f23c-4304-9a8b-af58283a42bc",
   "metadata": {},
   "source": [
    "**Comment**: It can be noted that in all averages the West region is the best and MidWest region is the worst. Although the differences are numerically small, these differences have a multiplied effect on totals."
   ]
  },
  {
   "cell_type": "markdown",
   "id": "45455fbc-06ba-415d-bfdf-c5c02eec0a74",
   "metadata": {},
   "source": [
    "# Low active customers slicing\n",
    "\n",
    "The Instacart CFO isn’t interested in customers who don’t generate much revenue for the app. Create an exclusion flag for low-activity customers (customers with less than 5 orders) and exclude them from the data. Make sure you export this sample"
   ]
  },
  {
   "cell_type": "code",
   "execution_count": 13,
   "id": "6633c2c7-7f2b-49a2-a508-c847c04468f5",
   "metadata": {},
   "outputs": [],
   "source": [
    "#create the low activity flag according to the criteria\n",
    "\n",
    "df_ord_prod_cust.loc[df_ord_prod_cust['max_order'] < 5, 'low_activity_flag'] = True\n",
    "df_ord_prod_cust.loc[df_ord_prod_cust['max_order'] >= 5, 'low_activity_flag'] = False"
   ]
  },
  {
   "cell_type": "code",
   "execution_count": 14,
   "id": "9b18d8db-87be-4fa6-b42e-b85013d518f2",
   "metadata": {},
   "outputs": [],
   "source": [
    "#change the type for the sake of memory optimization\n",
    "df_ord_prod_cust['low_activity_flag'] = df_ord_prod_cust['low_activity_flag'].astype('bool')"
   ]
  },
  {
   "cell_type": "code",
   "execution_count": 15,
   "id": "438f5f4f-1991-480b-9d19-dd50ace76a73",
   "metadata": {},
   "outputs": [
    {
     "data": {
      "text/plain": [
       "low_activity_flag\n",
       "False    21674669\n",
       "True      1008284\n",
       "Name: count, dtype: int64"
      ]
     },
     "execution_count": 15,
     "metadata": {},
     "output_type": "execute_result"
    }
   ],
   "source": [
    "#quick check on results, to be noted that the values are life-time items ordered (the fully merged dataframe)\n",
    "df_ord_prod_cust['low_activity_flag'].value_counts(dropna=False)"
   ]
  },
  {
   "cell_type": "code",
   "execution_count": 16,
   "id": "dc15a6a2-cf0d-475b-8a9c-8b8649a11873",
   "metadata": {},
   "outputs": [],
   "source": [
    "#to see customers by this flag, some grouping is needed\n",
    "#grouping records by activity flag, and counting how many unique users we have\n",
    "\n",
    "df_grouped = df_ord_prod_cust.groupby(['low_activity_flag'], as_index = False)['user_id'].nunique()"
   ]
  },
  {
   "cell_type": "code",
   "execution_count": 17,
   "id": "e87f6126-5886-468a-9504-9825a8548be7",
   "metadata": {},
   "outputs": [],
   "source": [
    "#renaming rows to present meaningful stuff\n",
    "df_grouped['low_activity_flag'] = df_grouped['low_activity_flag'].replace({True:\"Low activity customers\",False:\"High activity customers\"})"
   ]
  },
  {
   "cell_type": "code",
   "execution_count": 18,
   "id": "da8c94e0-2dd8-46ee-97c9-6a0564960b0b",
   "metadata": {},
   "outputs": [],
   "source": [
    "#renaming user_id column to something more meaningful\n",
    "df_grouped.rename(columns={'user_id':'number_of_customers'},inplace = True)"
   ]
  },
  {
   "cell_type": "code",
   "execution_count": 19,
   "id": "c5232e03-d43a-4a4e-9064-11c995e7426b",
   "metadata": {},
   "outputs": [
    {
     "data": {
      "text/html": [
       "<style type=\"text/css\">\n",
       "</style>\n",
       "<table id=\"T_e1e9a\">\n",
       "  <thead>\n",
       "    <tr>\n",
       "      <th id=\"T_e1e9a_level0_col0\" class=\"col_heading level0 col0\" >low_activity_flag</th>\n",
       "      <th id=\"T_e1e9a_level0_col1\" class=\"col_heading level0 col1\" >number_of_customers</th>\n",
       "    </tr>\n",
       "  </thead>\n",
       "  <tbody>\n",
       "    <tr>\n",
       "      <td id=\"T_e1e9a_row0_col0\" class=\"data row0 col0\" >High activity customers</td>\n",
       "      <td id=\"T_e1e9a_row0_col1\" class=\"data row0 col1\" >162631</td>\n",
       "    </tr>\n",
       "    <tr>\n",
       "      <td id=\"T_e1e9a_row1_col0\" class=\"data row1 col0\" >Low activity customers</td>\n",
       "      <td id=\"T_e1e9a_row1_col1\" class=\"data row1 col1\" >43564</td>\n",
       "    </tr>\n",
       "  </tbody>\n",
       "</table>\n"
      ],
      "text/plain": [
       "<pandas.io.formats.style.Styler at 0x7f65addbb0>"
      ]
     },
     "execution_count": 19,
     "metadata": {},
     "output_type": "execute_result"
    }
   ],
   "source": [
    "#presenting results, hiding a meaningless index (0,1)\n",
    "df_grouped[['low_activity_flag','number_of_customers']].style.hide(axis=\"index\")"
   ]
  },
  {
   "cell_type": "code",
   "execution_count": 20,
   "id": "04f9a106-02d4-4707-a1f8-914ba5098a16",
   "metadata": {},
   "outputs": [],
   "source": [
    "#slice dataframe by low_activity_flag, using boolean series.\n",
    "#Since the field is already a boolean, there is no need to create a criteria, the field is a Series of booleans\n",
    "\n",
    "df_low_activity = df_ord_prod_cust[df_ord_prod_cust['low_activity_flag']]"
   ]
  },
  {
   "cell_type": "code",
   "execution_count": 21,
   "id": "2bcfb692-471c-40ca-88d9-13fd684c6a7b",
   "metadata": {},
   "outputs": [],
   "source": [
    "#saving to a pickle file the slice with orders from low active customers\n",
    "df_low_activity.to_pickle(os.path.join(prep_data_path, 'ord_prod_cust_low_act.pkl'))"
   ]
  },
  {
   "cell_type": "code",
   "execution_count": 22,
   "id": "87d5c6e2-ca58-40b6-bd33-d89b97af8259",
   "metadata": {},
   "outputs": [],
   "source": [
    "#Overwriting the dataframe only with the orders from high active customers\n",
    "df_ord_prod_cust = df_ord_prod_cust[~df_ord_prod_cust['low_activity_flag']]"
   ]
  },
  {
   "cell_type": "code",
   "execution_count": 23,
   "id": "68ca192e-a6da-43e0-8be7-27e47cbf8b18",
   "metadata": {},
   "outputs": [
    {
     "data": {
      "text/plain": [
       "(21674669, 22)"
      ]
     },
     "execution_count": 23,
     "metadata": {},
     "output_type": "execute_result"
    }
   ],
   "source": [
    "#assessing new shape of dataframe\n",
    "df_ord_prod_cust.shape"
   ]
  },
  {
   "cell_type": "markdown",
   "id": "7b84d8da-154a-4c64-ad0e-aae6ea7d1a38",
   "metadata": {},
   "source": [
    "It checks out, only the rows where low_activity flag was false remained."
   ]
  },
  {
   "cell_type": "code",
   "execution_count": 24,
   "id": "042d7337-3315-496c-bcd1-465bb40ff363",
   "metadata": {},
   "outputs": [
    {
     "name": "stdout",
     "output_type": "stream",
     "text": [
      "<class 'pandas.core.frame.DataFrame'>\n",
      "Index: 21674669 entries, 0 to 22682952\n",
      "Data columns (total 22 columns):\n",
      " #   Column                            Dtype  \n",
      "---  ------                            -----  \n",
      " 0   order_id                          int32  \n",
      " 1   user_id                           int32  \n",
      " 2   customer_sequential_order_number  int8   \n",
      " 3   orders_day_of_week                int8   \n",
      " 4   order_hour_of_day                 int8   \n",
      " 5   days_since_prior_order            Int8   \n",
      " 6   product_id                        int32  \n",
      " 7   department_id                     int8   \n",
      " 8   prices                            float32\n",
      " 9   price_range_loc                   int8   \n",
      " 10  max_order                         int8   \n",
      " 11  loyalty_flag                      int8   \n",
      " 12  avg_price_per_user                float64\n",
      " 13  high_spender_flag                 bool   \n",
      " 14  median_days_between_orders        Float32\n",
      " 15  frequency_flag                    int8   \n",
      " 16  state                             object \n",
      " 17  age                               int8   \n",
      " 18  number_of_dependants              int8   \n",
      " 19  income                            int32  \n",
      " 20  region                            object \n",
      " 21  low_activity_flag                 bool   \n",
      "dtypes: Float32(1), Int8(1), bool(2), float32(1), float64(1), int32(4), int8(10), object(2)\n",
      "memory usage: 1.4+ GB\n"
     ]
    }
   ],
   "source": [
    "df_ord_prod_cust.info()"
   ]
  },
  {
   "cell_type": "markdown",
   "id": "a16aeb15-6939-41bd-8ed8-45cf1fd6c0b2",
   "metadata": {},
   "source": [
    "# Profiling\n",
    "\n",
    "Create a profiling variable based on age, income, certain goods in the “department_id” column, and number of dependents. You might also use the “orders_day_of_week” and “order_hour_of_day” columns if you can think of a way they would impact customer profiles."
   ]
  },
  {
   "cell_type": "markdown",
   "id": "a892e117-7a11-4685-90cb-3f7fddcaec33",
   "metadata": {},
   "source": [
    "## age profile"
   ]
  },
  {
   "cell_type": "code",
   "execution_count": 25,
   "id": "b1a9528a-4752-4916-859b-104c54c3b3b2",
   "metadata": {},
   "outputs": [],
   "source": [
    "# creation of an age range flag for profiling\n",
    "# numerical flag will have this meaning:\n",
    "# 1 - age between [18;34] - young adults\n",
    "# 2 - age between [35;49] - early middle age\n",
    "# 3 - age between [50;64] - late middle age\n",
    "# 4 - age equal or greater than 65 - senior\n",
    "\n",
    "df_ord_prod_cust.loc[(df_ord_prod_cust['age'] >= 18) & (df_ord_prod_cust['age'] < 35), 'age_flag'] = 1\n",
    "df_ord_prod_cust.loc[(df_ord_prod_cust['age'] >= 35) & (df_ord_prod_cust['age'] < 50), 'age_flag'] = 2\n",
    "df_ord_prod_cust.loc[(df_ord_prod_cust['age'] >= 50) & (df_ord_prod_cust['age'] < 65), 'age_flag'] = 3\n",
    "df_ord_prod_cust.loc[(df_ord_prod_cust['age'] >= 65), 'age_flag'] = 4"
   ]
  },
  {
   "cell_type": "code",
   "execution_count": 26,
   "id": "f894aa82-75ef-4c3a-9b65-1066fb1cefe0",
   "metadata": {},
   "outputs": [],
   "source": [
    "#changing datatype\n",
    "df_ord_prod_cust['age_flag'] = df_ord_prod_cust['age_flag'].astype('int8')"
   ]
  },
  {
   "cell_type": "code",
   "execution_count": 27,
   "id": "5f0f4d7d-1cf8-42a5-be51-0ffb8125f0df",
   "metadata": {},
   "outputs": [],
   "source": [
    "#creating a dictionary for labeling\n",
    "\n",
    "dict_ages = {1:'young adults',2:'early middle age', 3:'late middle age', 4:'senior'}"
   ]
  },
  {
   "cell_type": "code",
   "execution_count": 28,
   "id": "4f3a0538-29c5-482d-96ac-f349753d903c",
   "metadata": {},
   "outputs": [
    {
     "data": {
      "text/plain": [
       "age_flag\n",
       "young adults        5769633\n",
       "senior              5734517\n",
       "early middle age    5115287\n",
       "late middle age     5055232\n",
       "Name: count, dtype: int64"
      ]
     },
     "execution_count": 28,
     "metadata": {},
     "output_type": "execute_result"
    }
   ],
   "source": [
    "df_ord_prod_cust['age_flag'].value_counts(dropna=False).rename(index=dict_ages)"
   ]
  },
  {
   "cell_type": "markdown",
   "id": "9f7b5872-1efe-4a88-a626-aded9bef4e62",
   "metadata": {},
   "source": [
    "## shopping hour of day"
   ]
  },
  {
   "cell_type": "code",
   "execution_count": 29,
   "id": "7ad863b7-ad44-4d5e-abe9-7e6a3e30fdaf",
   "metadata": {},
   "outputs": [],
   "source": [
    "#create a pandas series only with the data we need to work with\n",
    "\n",
    "busy_hours = df_ord_prod_cust['order_hour_of_day'].value_counts(dropna=False)"
   ]
  },
  {
   "cell_type": "code",
   "execution_count": 30,
   "id": "b7436e01-b6ab-47a0-a818-0c7223800a17",
   "metadata": {},
   "outputs": [],
   "source": [
    "#This function takes as arguments:\n",
    "#   - series: an ordered series coming from value_counts \n",
    "#   - most_orders: the value for how many hours we want labeled as Most orders\n",
    "#   - fewest_orders: the value for how many hours we want labeled as Fewest orders\n",
    "#Output: two lists of values to check if hour of day is in one of those lists\n",
    "\n",
    "def labeling_hours_of_day(series, most_orders, fewest_orders):\n",
    "    most_ord_list = series.index[0:most_orders].to_list()\n",
    "    fewest_ord_list = series.index[series.shape[0]-fewest_orders:series.shape[0]].to_list()\n",
    "    return most_ord_list, fewest_ord_list"
   ]
  },
  {
   "cell_type": "code",
   "execution_count": 31,
   "id": "6dfe7480-15d4-47af-9359-1ceaf1b33829",
   "metadata": {},
   "outputs": [],
   "source": [
    "#calling the function to generate the lists with the 8 busiest hours and the 8 least busy hours\n",
    "most_ord_list, fewest_ord_list = labeling_hours_of_day(busy_hours, 8, 8)"
   ]
  },
  {
   "cell_type": "code",
   "execution_count": 32,
   "id": "b4fb1e18-8d00-4322-b9f0-8d7e0695cc85",
   "metadata": {},
   "outputs": [],
   "source": [
    "#running throught the dataframe, checking for each row if order_hour_of_day is inside each list and assigning the correct label\n",
    "# the number convention here will be:\n",
    "# 1 = less busy period of day\n",
    "# 2 = averagely busy period of day\n",
    "# 3 = busiest period of day\n",
    "\n",
    "hour_label = []\n",
    "\n",
    "for hour in df_ord_prod_cust[\"order_hour_of_day\"]:\n",
    "  if hour in most_ord_list:\n",
    "    hour_label.append(3)\n",
    "  elif hour in fewest_ord_list:\n",
    "    hour_label.append(1)\n",
    "  else:\n",
    "    hour_label.append(2)"
   ]
  },
  {
   "cell_type": "code",
   "execution_count": 33,
   "id": "d9753108-9adc-4726-ad51-64e1ba611be3",
   "metadata": {},
   "outputs": [],
   "source": [
    "#adding column to the main dataframe\n",
    "\n",
    "df_ord_prod_cust['busiest_period_of_day'] = hour_label"
   ]
  },
  {
   "cell_type": "code",
   "execution_count": 34,
   "id": "53f94e6e-c4c6-4ab4-b402-c612c3af2906",
   "metadata": {},
   "outputs": [],
   "source": [
    "#optimizing datatype\n",
    "\n",
    "df_ord_prod_cust['busiest_period_of_day'] = df_ord_prod_cust['busiest_period_of_day'].astype('int8')"
   ]
  },
  {
   "cell_type": "code",
   "execution_count": 35,
   "id": "c70ff88a-fd7f-4a0f-aee4-92f33a3b2df8",
   "metadata": {},
   "outputs": [],
   "source": [
    "#creating a dictionary for labeling\n",
    "\n",
    "dict_busy_pod = {1:'less busy', 2:'average', 3:'peak'}"
   ]
  },
  {
   "cell_type": "markdown",
   "id": "1f75d5f6-a740-4548-844b-c0fc61dc0b8e",
   "metadata": {},
   "source": [
    "## Pet flag customer"
   ]
  },
  {
   "cell_type": "code",
   "execution_count": 36,
   "id": "cf324b2f-bdd2-4641-9a8b-088f5e3ac81c",
   "metadata": {},
   "outputs": [],
   "source": [
    "# identifing all the products purchased from the pet department (department_id is 8)\n",
    "\n",
    "df_ord_prod_cust['pet_stuff'] = [1 if dep ==  8 else 0 for dep in df_ord_prod_cust['department_id']]"
   ]
  },
  {
   "cell_type": "code",
   "execution_count": 37,
   "id": "0e06cbe1-260b-42b6-859d-33d501e3774c",
   "metadata": {},
   "outputs": [],
   "source": [
    "# applying it across the whole customer's orders\n",
    "\n",
    "df_ord_prod_cust['pet_stuff'] = df_ord_prod_cust.groupby(['user_id'])['pet_stuff'].transform('max')"
   ]
  },
  {
   "cell_type": "code",
   "execution_count": 38,
   "id": "49c28715-2c3c-46c6-ab72-d85ec6a558a0",
   "metadata": {},
   "outputs": [],
   "source": [
    "# optimizing datatype\n",
    "\n",
    "df_ord_prod_cust['pet_stuff'] = df_ord_prod_cust['pet_stuff'].astype('bool')"
   ]
  },
  {
   "cell_type": "markdown",
   "id": "a3c184f5-f786-4a89-9331-84d6ce2438a5",
   "metadata": {},
   "source": [
    "## Baby flag customer"
   ]
  },
  {
   "cell_type": "code",
   "execution_count": 39,
   "id": "c318d274-a89f-4965-8e53-0535c5adb4fa",
   "metadata": {},
   "outputs": [],
   "source": [
    "# identifing all the products purchased from the babies department (department_id is 18)\n",
    "\n",
    "df_ord_prod_cust['baby_stuff'] = [1 if dep ==  18 else 0 for dep in df_ord_prod_cust['department_id']]"
   ]
  },
  {
   "cell_type": "code",
   "execution_count": 40,
   "id": "2dabb758-d6a0-47a3-a826-013383357a76",
   "metadata": {},
   "outputs": [],
   "source": [
    "# applying it across the whole customer's orders\n",
    "\n",
    "df_ord_prod_cust['baby_stuff'] = df_ord_prod_cust.groupby(['user_id'])['baby_stuff'].transform('max')"
   ]
  },
  {
   "cell_type": "code",
   "execution_count": 41,
   "id": "d9921711-0c40-4877-a214-421d804cc2ee",
   "metadata": {},
   "outputs": [],
   "source": [
    "# optimizing datatype\n",
    "\n",
    "df_ord_prod_cust['baby_stuff'] = df_ord_prod_cust['baby_stuff'].astype('bool')"
   ]
  },
  {
   "cell_type": "markdown",
   "id": "97364f94-4576-409c-ab88-62afa9ade2b3",
   "metadata": {},
   "source": [
    "## Frozen flag customer"
   ]
  },
  {
   "cell_type": "code",
   "execution_count": 42,
   "id": "b646260b-5887-4071-a36e-0ba2687057c3",
   "metadata": {},
   "outputs": [],
   "source": [
    "# identifing all the products purchased from the frozen department (department_id is 1)\n",
    "\n",
    "df_ord_prod_cust['frozen_stuff'] = [1 if dep == 1 else 0 for dep in df_ord_prod_cust['department_id']]"
   ]
  },
  {
   "cell_type": "code",
   "execution_count": 43,
   "id": "2b420769-b957-4b55-9f52-22965c85af43",
   "metadata": {},
   "outputs": [],
   "source": [
    "# applying it across the whole customer's orders\n",
    "\n",
    "df_ord_prod_cust['frozen_stuff'] = df_ord_prod_cust.groupby(['user_id'])['frozen_stuff'].transform('max')"
   ]
  },
  {
   "cell_type": "code",
   "execution_count": 44,
   "id": "d9cee2f9-5c43-4a14-a297-11489437d2cf",
   "metadata": {},
   "outputs": [],
   "source": [
    "# optimizing datatype\n",
    "\n",
    "df_ord_prod_cust['frozen_stuff'] = df_ord_prod_cust['frozen_stuff'].astype('bool')"
   ]
  },
  {
   "cell_type": "markdown",
   "id": "05fd44ea-20d9-4e59-92fd-0dbd41f44307",
   "metadata": {},
   "source": [
    "## Snacks flag customer"
   ]
  },
  {
   "cell_type": "code",
   "execution_count": 45,
   "id": "c6cbb4f7-5d74-4588-b70d-023c86310900",
   "metadata": {},
   "outputs": [],
   "source": [
    "# identifing all the products purchased from the snacks department (department_id is 19)\n",
    "\n",
    "df_ord_prod_cust['snacks_stuff'] = [1 if dep ==  19 else 0 for dep in df_ord_prod_cust['department_id']]"
   ]
  },
  {
   "cell_type": "code",
   "execution_count": 46,
   "id": "75bf5963-c5ce-48f4-aa2b-70662bcdcfa3",
   "metadata": {},
   "outputs": [],
   "source": [
    "# applying it across the whole customer's orders\n",
    "\n",
    "df_ord_prod_cust['snacks_stuff'] = df_ord_prod_cust.groupby(['user_id'])['snacks_stuff'].transform('max')"
   ]
  },
  {
   "cell_type": "code",
   "execution_count": 47,
   "id": "99fdff4f-8e5a-4126-905d-7c4e2cfa37ed",
   "metadata": {},
   "outputs": [],
   "source": [
    "# optimizing datatype\n",
    "\n",
    "df_ord_prod_cust['snacks_stuff'] = df_ord_prod_cust['snacks_stuff'].astype('bool')"
   ]
  },
  {
   "cell_type": "markdown",
   "id": "a0227481-f491-46ec-94ba-9ac1fa56ca40",
   "metadata": {},
   "source": [
    "## income range"
   ]
  },
  {
   "cell_type": "markdown",
   "id": "29588d9b-c370-4256-bdaf-1e2fa2d537d0",
   "metadata": {},
   "source": [
    "The income ranges selected will be based on quartile ranges.\n",
    "But, since incomes are significantly skewed, a specific top range will be created that will include what typically is seen as outliers according to the formula\n",
    "\n",
    "$$outlier\\_upper\\_limit = Q3 + 1.5 * (Q3 - Q1)$$"
   ]
  },
  {
   "cell_type": "code",
   "execution_count": 48,
   "id": "ff6e1837-1d2f-4920-a1e9-7132cb4b0063",
   "metadata": {},
   "outputs": [],
   "source": [
    "# creating a series with incomes, grouped by user_id\n",
    "\n",
    "srs_cust_income = df_ord_prod_cust.groupby('user_id')['income'].max()"
   ]
  },
  {
   "cell_type": "code",
   "execution_count": 49,
   "id": "647b9d8e-feb0-49db-a6c9-fcb48a57a349",
   "metadata": {},
   "outputs": [
    {
     "data": {
      "text/plain": [
       "220336.25"
      ]
     },
     "execution_count": 49,
     "metadata": {},
     "output_type": "execute_result"
    }
   ],
   "source": [
    "#calculating outlier upper limit according to the formula above\n",
    "\n",
    "outlier_upper_limit = srs_cust_income.quantile(.75) + 1.5 * (srs_cust_income.quantile(.75) - srs_cust_income.quantile(.25))\n",
    "outlier_upper_limit"
   ]
  },
  {
   "cell_type": "code",
   "execution_count": 50,
   "id": "95b03416-933c-41f3-a23d-2a6f0f5a83da",
   "metadata": {},
   "outputs": [],
   "source": [
    "# income ranges have the following meaning\n",
    "# 1 - low income\n",
    "# 2 - mid low income\n",
    "# 3 - mid high income\n",
    "# 4 - high income\n",
    "# 5 - top income\n",
    "\n",
    "df_ord_prod_cust.loc[df_ord_prod_cust['income'] < srs_cust_income.quantile(.25), 'income_range'] = 1\n",
    "df_ord_prod_cust.loc[(df_ord_prod_cust['income'] >= srs_cust_income.quantile(.25)) & (df_ord_prod_cust['income'] < srs_cust_income.quantile(.5)), 'income_range'] = 2 \n",
    "df_ord_prod_cust.loc[(df_ord_prod_cust['income'] >= srs_cust_income.quantile(.5)) & (df_ord_prod_cust['income'] < srs_cust_income.quantile(.75)), 'income_range'] = 3\n",
    "df_ord_prod_cust.loc[(df_ord_prod_cust['income'] >= srs_cust_income.quantile(.75)) & (df_ord_prod_cust['income'] < outlier_upper_limit), 'income_range'] = 4\n",
    "df_ord_prod_cust.loc[(df_ord_prod_cust['income'] >= outlier_upper_limit), 'income_range'] = 5"
   ]
  },
  {
   "cell_type": "code",
   "execution_count": 51,
   "id": "33b87dd2-7a44-4110-8613-93d0f47172b1",
   "metadata": {},
   "outputs": [],
   "source": [
    "#changing datatype for memory optimization\n",
    "\n",
    "df_ord_prod_cust['income_range'] = df_ord_prod_cust['income_range'].astype('int8')"
   ]
  },
  {
   "cell_type": "code",
   "execution_count": 52,
   "id": "8fb726d3-a66f-4c07-9895-09368ad546ca",
   "metadata": {},
   "outputs": [],
   "source": [
    "#creating a dictionary for labeling\n",
    "\n",
    "dict_incomes = {1:'low', 2:'mid low', 3:'mid high', 4:'high', 5:'top'}"
   ]
  },
  {
   "cell_type": "code",
   "execution_count": 53,
   "id": "78c508c5-5fa9-407e-8834-36540e473a9a",
   "metadata": {},
   "outputs": [
    {
     "data": {
      "text/plain": [
       "income_range\n",
       "low         4333201\n",
       "mid low     5823057\n",
       "mid high    5746949\n",
       "high        5615633\n",
       "top          155829\n",
       "Name: count, dtype: int64"
      ]
     },
     "execution_count": 53,
     "metadata": {},
     "output_type": "execute_result"
    }
   ],
   "source": [
    "#assessing if there were any issues\n",
    "\n",
    "df_ord_prod_cust['income_range'].value_counts(dropna=False).sort_index().rename(index=dict_incomes)"
   ]
  },
  {
   "cell_type": "code",
   "execution_count": 54,
   "id": "bd3e99d6-8891-4899-a8c9-c35dcb37e1a0",
   "metadata": {},
   "outputs": [
    {
     "data": {
      "text/plain": [
       "income_range\n",
       "low         40658\n",
       "mid low     40654\n",
       "mid high    40660\n",
       "high        39870\n",
       "top           789\n",
       "Name: user_id, dtype: int64"
      ]
     },
     "execution_count": 54,
     "metadata": {},
     "output_type": "execute_result"
    }
   ],
   "source": [
    "# checking distribution of customers across income ranges\n",
    "\n",
    "df_ord_prod_cust.groupby('income_range')['user_id'].nunique().rename(index=dict_incomes)"
   ]
  },
  {
   "cell_type": "markdown",
   "id": "904058a3-3444-4abf-b2ff-33f18043b199",
   "metadata": {},
   "source": [
    "## Additional flags\n",
    "\n",
    "besides the flags derived during the achievement, for the final presentation I've decided to derive a few more flags of interest:\n",
    "* the cost for each order\n",
    "* number of items purchased in each order\n",
    "* lifetime value purchased per user\n",
    "* average value each customer spends in its orders\n",
    "* most common order day"
   ]
  },
  {
   "cell_type": "code",
   "execution_count": 55,
   "id": "22a6dbb0-0c67-44e1-9c21-f1eaf488c725",
   "metadata": {},
   "outputs": [],
   "source": [
    "# create a column with the cost of the whole order by taking the sum of the prices in each order\n",
    "\n",
    "df_ord_prod_cust['ord_cost'] = df_ord_prod_cust.groupby('order_id')['prices'].transform('sum')"
   ]
  },
  {
   "cell_type": "code",
   "execution_count": 56,
   "id": "7bcc8d34-8421-4b9f-a257-0d22074b5577",
   "metadata": {},
   "outputs": [],
   "source": [
    "# create a column that lists the number of products in each order\n",
    "\n",
    "df_ord_prod_cust['num_prod_in_order'] = df_ord_prod_cust.groupby('order_id')['product_id'].transform('count')"
   ]
  },
  {
   "cell_type": "code",
   "execution_count": 57,
   "id": "7d165552-9d12-4319-b26c-80d45c693cda",
   "metadata": {},
   "outputs": [],
   "source": [
    "# create a column with the lifetime total purchased per customer\n",
    "\n",
    "df_ord_prod_cust['total_purch_per_user'] = df_ord_prod_cust.groupby('user_id')['prices'].transform('sum')"
   ]
  },
  {
   "cell_type": "code",
   "execution_count": 58,
   "id": "1b974dd5-e0cc-459c-9692-3b9781f0b00a",
   "metadata": {},
   "outputs": [],
   "source": [
    "# create a column with the average spent per order for each user (it is simply the lifetime per user divided by total of orders)\n",
    "\n",
    "df_ord_prod_cust['avg_order_cost_per_user'] = df_ord_prod_cust['total_purch_per_user'] / df_ord_prod_cust['max_order']"
   ]
  },
  {
   "cell_type": "code",
   "execution_count": 59,
   "id": "a92220c0-24f8-462e-92fa-36252039edac",
   "metadata": {},
   "outputs": [],
   "source": [
    "#reducing datatypes\n",
    "\n",
    "df_ord_prod_cust['ord_cost'] = df_ord_prod_cust['ord_cost'].astype('uint16')\n",
    "df_ord_prod_cust['num_prod_in_order'] = df_ord_prod_cust['num_prod_in_order'].astype('uint8')\n",
    "df_ord_prod_cust['total_purch_per_user'] = df_ord_prod_cust['total_purch_per_user'].astype('float32')\n",
    "df_ord_prod_cust['avg_order_cost_per_user'] = df_ord_prod_cust['avg_order_cost_per_user'].astype('float16')\n"
   ]
  },
  {
   "cell_type": "code",
   "execution_count": 60,
   "id": "3da70301-dc70-4786-b90d-f19fae164ce5",
   "metadata": {},
   "outputs": [],
   "source": [
    "# create a dataframe with the most common day of the week for ordering for each customer.\n",
    "# since mode doesn't work directly with dataframes, a workaround was applied using pandas series.\n",
    "# the drawback of this technique is that in case of two or more modal values, only the first is retained\n",
    "\n",
    "df_comm_ord_day = df_ord_prod_cust.groupby('user_id')['orders_day_of_week'].agg(lambda x: pd.Series.mode(x)[0]).rename('common_order_day')"
   ]
  },
  {
   "cell_type": "code",
   "execution_count": 61,
   "id": "7ef93929-a32a-4964-a7de-f38a2ec39152",
   "metadata": {},
   "outputs": [],
   "source": [
    "# merge into the main dataframe\n",
    "\n",
    "df_ord_prod_cust = df_ord_prod_cust.merge(df_comm_ord_day, how='inner', on='user_id')"
   ]
  },
  {
   "cell_type": "code",
   "execution_count": 62,
   "id": "ff9cd7cd-4334-4f98-9438-9b4f906086c1",
   "metadata": {},
   "outputs": [
    {
     "name": "stdout",
     "output_type": "stream",
     "text": [
      "<class 'pandas.core.frame.DataFrame'>\n",
      "RangeIndex: 21674669 entries, 0 to 21674668\n",
      "Data columns (total 34 columns):\n",
      " #   Column                            Dtype  \n",
      "---  ------                            -----  \n",
      " 0   order_id                          int32  \n",
      " 1   user_id                           int32  \n",
      " 2   customer_sequential_order_number  int8   \n",
      " 3   orders_day_of_week                int8   \n",
      " 4   order_hour_of_day                 int8   \n",
      " 5   days_since_prior_order            Int8   \n",
      " 6   product_id                        int32  \n",
      " 7   department_id                     int8   \n",
      " 8   prices                            float32\n",
      " 9   price_range_loc                   int8   \n",
      " 10  max_order                         int8   \n",
      " 11  loyalty_flag                      int8   \n",
      " 12  avg_price_per_user                float64\n",
      " 13  high_spender_flag                 bool   \n",
      " 14  median_days_between_orders        Float32\n",
      " 15  frequency_flag                    int8   \n",
      " 16  state                             object \n",
      " 17  age                               int8   \n",
      " 18  number_of_dependants              int8   \n",
      " 19  income                            int32  \n",
      " 20  region                            object \n",
      " 21  low_activity_flag                 bool   \n",
      " 22  age_flag                          int8   \n",
      " 23  busiest_period_of_day             int8   \n",
      " 24  pet_stuff                         bool   \n",
      " 25  baby_stuff                        bool   \n",
      " 26  frozen_stuff                      bool   \n",
      " 27  snacks_stuff                      bool   \n",
      " 28  income_range                      int8   \n",
      " 29  ord_cost                          uint16 \n",
      " 30  num_prod_in_order                 uint8  \n",
      " 31  total_purch_per_user              float32\n",
      " 32  avg_order_cost_per_user           float16\n",
      " 33  common_order_day                  int8   \n",
      "dtypes: Float32(1), Int8(1), bool(6), float16(1), float32(2), float64(1), int32(4), int8(14), object(2), uint16(1), uint8(1)\n",
      "memory usage: 1.6+ GB\n"
     ]
    }
   ],
   "source": [
    "df_ord_prod_cust.info()"
   ]
  },
  {
   "cell_type": "markdown",
   "id": "bfc55319-912f-4b6c-ab8a-54a5538458c3",
   "metadata": {},
   "source": [
    "# Visualizations"
   ]
  },
  {
   "cell_type": "markdown",
   "id": "cbdb58d2-552b-4ead-b076-cb78f3d3620c",
   "metadata": {},
   "source": [
    "## first steps"
   ]
  },
  {
   "cell_type": "code",
   "execution_count": 63,
   "id": "7d53b3a6-cba4-44e3-91eb-a50df1809fb5",
   "metadata": {},
   "outputs": [],
   "source": [
    "# creating a dataframe simply with the orders\n",
    "\n",
    "df_orders = df_ord_prod_cust.drop_duplicates(subset='order_id')"
   ]
  },
  {
   "cell_type": "code",
   "execution_count": 64,
   "id": "e57433d7-002a-4fa5-a682-4e04be42cdda",
   "metadata": {},
   "outputs": [
    {
     "data": {
      "text/plain": [
       "(2996915, 34)"
      ]
     },
     "execution_count": 64,
     "metadata": {},
     "output_type": "execute_result"
    }
   ],
   "source": [
    "df_orders.shape"
   ]
  },
  {
   "cell_type": "code",
   "execution_count": 65,
   "id": "1bbe0b8b-b53a-4057-8f2c-a1d5e0c384de",
   "metadata": {},
   "outputs": [],
   "source": [
    "# creating a dataframe simply with customers\n",
    "\n",
    "df_customers = df_ord_prod_cust.drop_duplicates(subset='user_id')"
   ]
  },
  {
   "cell_type": "code",
   "execution_count": 66,
   "id": "dd46e7d8-3f6b-4892-b755-11ab5c8999e7",
   "metadata": {},
   "outputs": [
    {
     "data": {
      "text/plain": [
       "(162631, 34)"
      ]
     },
     "execution_count": 66,
     "metadata": {},
     "output_type": "execute_result"
    }
   ],
   "source": [
    "df_customers.shape"
   ]
  },
  {
   "cell_type": "markdown",
   "id": "5c88de8e-f74b-47ad-8408-a49b91ce0ed3",
   "metadata": {},
   "source": [
    "## Busiest days of the week\n",
    "\n",
    "The sales team needs to know what the busiest days of the week and hours of the day are (i.e., the days and times with the most orders) in order to schedule ads at times when there are fewer orders."
   ]
  },
  {
   "cell_type": "code",
   "execution_count": 67,
   "id": "b4c8a644-f7e6-4900-8ccc-4ad80d7e97d4",
   "metadata": {},
   "outputs": [],
   "source": [
    "# creating a dictionary for future labeling\n",
    "\n",
    "dict_dow = {0:\"Sat\",1:\"Sun\",2:\"Mon\",3:\"Tue\",4:\"Wed\",5:\"Thu\",6:\"Fri\"}"
   ]
  },
  {
   "cell_type": "code",
   "execution_count": 68,
   "id": "5265e2e0-b0f8-42f7-a593-a6cdb9ef86a3",
   "metadata": {},
   "outputs": [],
   "source": [
    "# extracting the data to be displayed\n",
    "\n",
    "df_to_display = df_orders['orders_day_of_week'].value_counts().rename_axis('day_of_week').sort_index(ascending=False).rename(index=dict_dow)"
   ]
  },
  {
   "cell_type": "code",
   "execution_count": 69,
   "id": "e01ca070-e07f-4729-b510-9c576806c73e",
   "metadata": {},
   "outputs": [
    {
     "data": {
      "text/plain": [
       "Text(0.5, 1.0, 'Orders placed across days of the week')"
      ]
     },
     "execution_count": 69,
     "metadata": {},
     "output_type": "execute_result"
    },
    {
     "data": {
      "image/png": "[encoded data removed]",
      "text/plain": [
       "<Figure size 500x300 with 1 Axes>"
      ]
     },
     "metadata": {},
     "output_type": "display_data"
    }
   ],
   "source": [
    "#plotting orders distribution per day of week\n",
    "\n",
    "plt.figure(figsize=(5,3))\n",
    "bar_dow = df_to_display.plot.barh(color = sns.color_palette(\"colorblind\")[0], legend=None)\n",
    "plt.xlabel('Number of orders placed')\n",
    "plt.ylabel('')\n",
    "plt.title('Orders placed across days of the week')"
   ]
  },
  {
   "cell_type": "code",
   "execution_count": 70,
   "id": "617c15e0-010a-45dc-a4c7-ea99be0fc59a",
   "metadata": {},
   "outputs": [],
   "source": [
    "# extracting the data to be displayed\n",
    "\n",
    "df_to_display = df_orders.groupby(['orders_day_of_week'])['ord_cost'].sum()"
   ]
  },
  {
   "cell_type": "code",
   "execution_count": 71,
   "id": "d89b7d15-1945-48b4-8d2f-6f4755541438",
   "metadata": {},
   "outputs": [
    {
     "data": {
      "text/plain": [
       "Text(0.5, 1.0, 'Revenue across days of the week')"
      ]
     },
     "execution_count": 71,
     "metadata": {},
     "output_type": "execute_result"
    },
    {
     "data": {
      "image/png": "[encoded data removed]",
      "text/plain": [
       "<Figure size 500x300 with 1 Axes>"
      ]
     },
     "metadata": {},
     "output_type": "display_data"
    }
   ],
   "source": [
    "#plotting orders distribution per day of week\n",
    "\n",
    "plt.figure(figsize=(5,3))\n",
    "bar_total_per_day = df_to_display.plot.barh(color = sns.color_palette(\"colorblind\")[1], legend=None)\n",
    "plt.xlabel('Revenue')\n",
    "plt.ylabel('')\n",
    "plt.title('Revenue across days of the week')"
   ]
  },
  {
   "cell_type": "code",
   "execution_count": 72,
   "id": "704344ab-9568-4354-8580-7d9bd6ce9a00",
   "metadata": {},
   "outputs": [],
   "source": [
    "# extracting the data to be displayed\n",
    "\n",
    "df_to_display = df_orders['order_hour_of_day'].value_counts().rename_axis('hour_of_day').sort_index()"
   ]
  },
  {
   "cell_type": "code",
   "execution_count": 73,
   "id": "b47bd59b-4ee9-453c-9256-9bd7f6730179",
   "metadata": {},
   "outputs": [
    {
     "data": {
      "text/plain": [
       "Text(0.5, 1.0, 'Distribution of orders placed across the hours of day')"
      ]
     },
     "execution_count": 73,
     "metadata": {},
     "output_type": "execute_result"
    },
    {
     "data": {
      "image/png": "[encoded data removed]",
      "text/plain": [
       "<Figure size 500x300 with 1 Axes>"
      ]
     },
     "metadata": {},
     "output_type": "display_data"
    }
   ],
   "source": [
    "#plotting orders distribution per hour of day\n",
    "\n",
    "plt.figure(figsize=(5,3))\n",
    "bar_hod = df_to_display.plot.bar(color = sns.color_palette(\"colorblind\")[0], legend=None)\n",
    "plt.xlabel('hour of day, starting midnight')\n",
    "plt.ylabel('Number of orders placed')\n",
    "plt.title('Distribution of orders placed across the hours of day')"
   ]
  },
  {
   "cell_type": "markdown",
   "id": "7bc3928f-fcef-4edd-ab9f-da2e7bef5bb3",
   "metadata": {},
   "source": [
    "## Busiest times of the day\n",
    "\n",
    "They also want to know whether there are particular times of the day when people spend the most money, as this might inform the type of products they advertise at these times."
   ]
  },
  {
   "cell_type": "code",
   "execution_count": 74,
   "id": "16ef0b6e-34e6-4ad7-8c31-9e924fc9d3c1",
   "metadata": {},
   "outputs": [],
   "source": [
    "df_to_display = df_orders.groupby(['order_hour_of_day'])['ord_cost'].sum()"
   ]
  },
  {
   "cell_type": "code",
   "execution_count": 75,
   "id": "cadbc97e-7d37-4510-a5e2-ed802cc0d37d",
   "metadata": {},
   "outputs": [
    {
     "data": {
      "image/png": "[encoded data removed]",
      "text/plain": [
       "<Figure size 500x300 with 1 Axes>"
      ]
     },
     "metadata": {},
     "output_type": "display_data"
    }
   ],
   "source": [
    "plt.figure(figsize=(5,3))\n",
    "bar_total_per_hour = df_to_display.plot.bar(ylabel='Total $ spent', \n",
    "                                            xlabel='hour of day, starting midnight',\n",
    "                                            color = sns.color_palette(\"colorblind\")[1], \n",
    "                                            title='Revenue distribution per hour of the day')\n",
    "plt.ticklabel_format(style='plain', axis='y')"
   ]
  },
  {
   "cell_type": "markdown",
   "id": "3643cb89-83ac-4ac9-9913-e674f6db662e",
   "metadata": {},
   "source": [
    "**Comment**: Same shape as above, with number of orders"
   ]
  },
  {
   "cell_type": "markdown",
   "id": "45f31b1a-f5d0-4c27-bda3-0c7bb3f5d651",
   "metadata": {},
   "source": [
    "## Distribution of product prices\n",
    "\n",
    "Instacart has a lot of products with different price tags. Marketing and sales want to use simpler price range groupings to help direct their efforts."
   ]
  },
  {
   "cell_type": "code",
   "execution_count": 76,
   "id": "5001d7e0-cc90-420a-8ccf-9ba427baac49",
   "metadata": {},
   "outputs": [
    {
     "data": {
      "text/plain": [
       "Text(0.5, 1.0, 'Histogram: Prices of products purchased')"
      ]
     },
     "execution_count": 76,
     "metadata": {},
     "output_type": "execute_result"
    },
    {
     "data": {
      "image/png": "[encoded data removed]",
      "text/plain": [
       "<Figure size 500x300 with 1 Axes>"
      ]
     },
     "metadata": {},
     "output_type": "display_data"
    }
   ],
   "source": [
    "#plotting an histogram with the distribution of prices of products purchased, each bar is 0.5$ wide\n",
    "\n",
    "plt.figure(figsize=(5,3))\n",
    "hist_prices = df_ord_prod_cust['prices'].plot.hist(bins=50, color = sns.color_palette(\"colorblind\")[2])\n",
    "plt.xlabel('Prices of products (in $)')\n",
    "plt.ylabel('Products purchased (in millions)')\n",
    "plt.title('Histogram: Prices of products purchased')"
   ]
  },
  {
   "cell_type": "code",
   "execution_count": 77,
   "id": "2aabcb73-987e-4016-9e53-0e4d2e111aae",
   "metadata": {},
   "outputs": [
    {
     "data": {
      "text/html": [
       "<div>\n",
       "<style scoped>\n",
       "    .dataframe tbody tr th:only-of-type {\n",
       "        vertical-align: middle;\n",
       "    }\n",
       "\n",
       "    .dataframe tbody tr th {\n",
       "        vertical-align: top;\n",
       "    }\n",
       "\n",
       "    .dataframe thead th {\n",
       "        text-align: right;\n",
       "    }\n",
       "</style>\n",
       "<table border=\"1\" class=\"dataframe\">\n",
       "  <thead>\n",
       "    <tr style=\"text-align: right;\">\n",
       "      <th></th>\n",
       "      <th>number_of_products</th>\n",
       "    </tr>\n",
       "    <tr>\n",
       "      <th>price_range</th>\n",
       "      <th></th>\n",
       "    </tr>\n",
       "  </thead>\n",
       "  <tbody>\n",
       "    <tr>\n",
       "      <th>Under $5</th>\n",
       "      <td>16216</td>\n",
       "    </tr>\n",
       "    <tr>\n",
       "      <th>Between \\$5 and $15</th>\n",
       "      <td>32716</td>\n",
       "    </tr>\n",
       "    <tr>\n",
       "      <th>Over $15</th>\n",
       "      <td>545</td>\n",
       "    </tr>\n",
       "  </tbody>\n",
       "</table>\n",
       "</div>"
      ],
      "text/plain": [
       "                     number_of_products\n",
       "price_range                            \n",
       "Under $5                          16216\n",
       "Between \\$5 and $15               32716\n",
       "Over $15                            545"
      ]
     },
     "execution_count": 77,
     "metadata": {},
     "output_type": "execute_result"
    }
   ],
   "source": [
    "# creating a dataframe with total of products (in catalog) within the price ranges previously defined\n",
    "\n",
    "df_to_display = df_ord_prod_cust[['price_range_loc', 'product_id']].groupby(['price_range_loc']).nunique().sort_index()\n",
    "df_to_display.rename_axis('price_range').rename(index={1:\"Under $5\",2:\"Between \\\\$5 and $15\",3:\"Over $15\"}, columns={'product_id':'number_of_products'})"
   ]
  },
  {
   "cell_type": "code",
   "execution_count": 78,
   "id": "a61ba872-651d-4e99-8dca-0ee92e00c8d7",
   "metadata": {},
   "outputs": [
    {
     "data": {
      "text/plain": [
       "<matplotlib.patches.Circle at 0x7f657bff80>"
      ]
     },
     "execution_count": 78,
     "metadata": {},
     "output_type": "execute_result"
    },
    {
     "data": {
      "image/png": "[encoded data removed]",
      "text/plain": [
       "<Figure size 300x300 with 1 Axes>"
      ]
     },
     "metadata": {},
     "output_type": "display_data"
    }
   ],
   "source": [
    "plt.figure(figsize=(3,3))\n",
    "pie_price_dist_cat = df_to_display['product_id'].plot.pie(autopct=('%1.0f%%'), \n",
    "                                                              colors = sns.color_palette(\"colorblind\")[5:8],\n",
    "                                                              wedgeprops = { 'linewidth' : 1, 'edgecolor' : 'white' }, \n",
    "                                                              legend=None, \n",
    "                                                              ylabel='', \n",
    "                                                              title='Distribution of Product Prices (in catalog)', \n",
    "                                                              labels=['under $5', 'between \\\\$5 and $15', 'over $15'])\n",
    "center_circle = plt.Circle((0,0), 0.8, fc='white')\n",
    "plt.gca().add_artist(center_circle)"
   ]
  },
  {
   "cell_type": "code",
   "execution_count": 79,
   "id": "1b6337df-9c0b-4e5c-8154-1eeebd837789",
   "metadata": {},
   "outputs": [
    {
     "data": {
      "text/html": [
       "<div>\n",
       "<style scoped>\n",
       "    .dataframe tbody tr th:only-of-type {\n",
       "        vertical-align: middle;\n",
       "    }\n",
       "\n",
       "    .dataframe tbody tr th {\n",
       "        vertical-align: top;\n",
       "    }\n",
       "\n",
       "    .dataframe thead th {\n",
       "        text-align: right;\n",
       "    }\n",
       "</style>\n",
       "<table border=\"1\" class=\"dataframe\">\n",
       "  <thead>\n",
       "    <tr style=\"text-align: right;\">\n",
       "      <th></th>\n",
       "      <th>total_products_purchased</th>\n",
       "    </tr>\n",
       "    <tr>\n",
       "      <th>price_range</th>\n",
       "      <th></th>\n",
       "    </tr>\n",
       "  </thead>\n",
       "  <tbody>\n",
       "    <tr>\n",
       "      <th>Under $5</th>\n",
       "      <td>6774055</td>\n",
       "    </tr>\n",
       "    <tr>\n",
       "      <th>Between \\$5 and $15</th>\n",
       "      <td>14625300</td>\n",
       "    </tr>\n",
       "    <tr>\n",
       "      <th>Over $15</th>\n",
       "      <td>275314</td>\n",
       "    </tr>\n",
       "  </tbody>\n",
       "</table>\n",
       "</div>"
      ],
      "text/plain": [
       "                     total_products_purchased\n",
       "price_range                                  \n",
       "Under $5                              6774055\n",
       "Between \\$5 and $15                  14625300\n",
       "Over $15                               275314"
      ]
     },
     "execution_count": 79,
     "metadata": {},
     "output_type": "execute_result"
    }
   ],
   "source": [
    "# creating a dataframe with total of products (purchased by customers) within the price ranges previously defined\n",
    "\n",
    "df_to_display = df_ord_prod_cust[['price_range_loc', 'product_id']].groupby(['price_range_loc']).count().sort_index()\n",
    "df_to_display.rename_axis('price_range').rename(index={1:\"Under $5\",2:\"Between \\\\$5 and $15\",3:\"Over $15\"}, columns={'product_id':'total_products_purchased'})"
   ]
  },
  {
   "cell_type": "code",
   "execution_count": 80,
   "id": "1c80f0e2-c5c0-4ea6-8b5e-ed8bcedf281d",
   "metadata": {},
   "outputs": [
    {
     "data": {
      "text/plain": [
       "<matplotlib.patches.Circle at 0x7f659c0500>"
      ]
     },
     "execution_count": 80,
     "metadata": {},
     "output_type": "execute_result"
    },
    {
     "data": {
      "image/png": "[encoded data removed]",
      "text/plain": [
       "<Figure size 300x300 with 1 Axes>"
      ]
     },
     "metadata": {},
     "output_type": "display_data"
    }
   ],
   "source": [
    "plt.figure(figsize=(3,3))\n",
    "pie_price_dist_purch = df_to_display['product_id'].plot.pie(autopct=('%1.0f%%'), \n",
    "                                                            colors = sns.color_palette(\"colorblind\")[5:8],\n",
    "                                                            wedgeprops = { 'linewidth' : 1, 'edgecolor' : 'white' }, \n",
    "                                                            legend=None, \n",
    "                                                            ylabel='', \n",
    "                                                            title='Distribution of Product Prices (purchased)', \n",
    "                                                            labels=['Under \\\\$5', 'between \\\\$5 and \\\\$15', 'over \\\\$15'])\n",
    "center_circle = plt.Circle((0,0), 0.8, fc='white')\n",
    "plt.gca().add_artist(center_circle)"
   ]
  },
  {
   "cell_type": "markdown",
   "id": "fccc311f-fcc4-43bf-8f84-6e650200d120",
   "metadata": {},
   "source": [
    "## Departments popularity\n",
    "\n",
    "Are there certain types of products that are more popular than others? The marketing and sales teams want to know which departments have the highest frequency of product orders."
   ]
  },
  {
   "cell_type": "code",
   "execution_count": 81,
   "id": "8ad07def-2632-4146-9164-c825a89238cc",
   "metadata": {},
   "outputs": [
    {
     "name": "stdout",
     "output_type": "stream",
     "text": [
      "<class 'pandas.core.frame.DataFrame'>\n",
      "RangeIndex: 21 entries, 0 to 20\n",
      "Data columns (total 2 columns):\n",
      " #   Column      Non-Null Count  Dtype \n",
      "---  ------      --------------  ----- \n",
      " 0   Unnamed: 0  21 non-null     int64 \n",
      " 1   department  21 non-null     object\n",
      "dtypes: int64(1), object(1)\n",
      "memory usage: 468.0+ bytes\n"
     ]
    }
   ],
   "source": [
    "# loading department dataframe\n",
    "\n",
    "df_department = pd.read_csv(os.path.join(prep_data_path, 'departments_wrangled.csv'))\n",
    "df_department.info()"
   ]
  },
  {
   "cell_type": "code",
   "execution_count": 82,
   "id": "359c7548-406e-4842-830a-9057519ffc66",
   "metadata": {},
   "outputs": [],
   "source": [
    "#renaming the field that contains the id's to merge ahead\n",
    "\n",
    "df_department.rename(columns={'Unnamed: 0':'department_id'}, inplace=True)"
   ]
  },
  {
   "cell_type": "code",
   "execution_count": 83,
   "id": "8b16ff8d-01c4-46e1-bf7d-4ad94f5ee214",
   "metadata": {},
   "outputs": [],
   "source": [
    "# creating the dataframe with total of products purchased in each department, keeping only the top 10 to display\n",
    "\n",
    "df_to_display = df_ord_prod_cust['department_id'].value_counts().sort_values().reset_index(name='products_sold').tail(10)"
   ]
  },
  {
   "cell_type": "code",
   "execution_count": 84,
   "id": "cd34738b-5346-4741-84bf-2efaa2185a66",
   "metadata": {},
   "outputs": [],
   "source": [
    "# merging dataframes, this way we have the dataframe names, and taking only the columns we want to show\n",
    "\n",
    "df_to_display = df_to_display.merge(df_department, on='department_id')"
   ]
  },
  {
   "cell_type": "code",
   "execution_count": 85,
   "id": "3136f129-2da3-4ce4-a4e0-4a19fed711f5",
   "metadata": {},
   "outputs": [],
   "source": [
    "# some cosmetics to make the dataframe with exactly 2 columns, department name as index and total products as column\n",
    "# this makes the plot prettier, with bars correctly aligned\n",
    "\n",
    "df_to_display.groupby(['department']).max('products_sold')\n",
    "df_to_display.drop(columns='department_id',inplace=True)"
   ]
  },
  {
   "cell_type": "code",
   "execution_count": 86,
   "id": "b71cee42-79b8-4cc9-8e5d-c59898b0de23",
   "metadata": {},
   "outputs": [
    {
     "data": {
      "image/png": "[encoded data removed]",
      "text/plain": [
       "<Figure size 500x300 with 1 Axes>"
      ]
     },
     "metadata": {},
     "output_type": "display_data"
    }
   ],
   "source": [
    "#plotting horizontal bar\n",
    "\n",
    "bar_products_1 = df_to_display.plot.barh(x='department', color = sns.color_palette(\"colorblind\")[0], legend=None)\n",
    "plt.title('Products sold in top-10 departments')\n",
    "plt.ylabel('')\n",
    "plt.xlabel('Number of products (in millions)')\n",
    "plt.gcf().set_size_inches(5,3)"
   ]
  },
  {
   "cell_type": "code",
   "execution_count": 87,
   "id": "eeb26c1d-8849-442d-aef4-46dd9c4b4d17",
   "metadata": {},
   "outputs": [],
   "source": [
    "# now let's find the top 10 departments, but for their total revenue\n",
    "\n",
    "df_to_display = df_ord_prod_cust.groupby(['department_id'])['prices'].sum().sort_values().tail(10).to_frame()"
   ]
  },
  {
   "cell_type": "code",
   "execution_count": 88,
   "id": "4bfc9cd1-2502-4642-a479-9077629e7288",
   "metadata": {},
   "outputs": [],
   "source": [
    "# merging dataframes, this way we have the dataframe names, and taking only the columns we want to show\n",
    "\n",
    "df_to_display = df_to_display.merge(df_department, on='department_id')"
   ]
  },
  {
   "cell_type": "code",
   "execution_count": 89,
   "id": "59e5c516-5d63-4d4e-85a5-4e7d12bf6e16",
   "metadata": {},
   "outputs": [],
   "source": [
    "# some cosmetics to make the dataframe with exactly 2 columns, department name as index and total products as column\n",
    "# this makes the plot prettier, with bars correctly aligned\n",
    "\n",
    "df_to_display.groupby(['department']).max('prices')\n",
    "df_to_display.drop(columns='department_id',inplace=True)"
   ]
  },
  {
   "cell_type": "code",
   "execution_count": 90,
   "id": "413337e4-8561-4a57-8217-4a83a102543d",
   "metadata": {},
   "outputs": [
    {
     "data": {
      "image/png": "[encoded data removed]",
      "text/plain": [
       "<Figure size 500x300 with 1 Axes>"
      ]
     },
     "metadata": {},
     "output_type": "display_data"
    }
   ],
   "source": [
    "#plotting horizontal bar\n",
    "\n",
    "bar_products_2 = df_to_display.plot.barh(x='department', color = sns.color_palette(\"colorblind\")[1], legend=None)\n",
    "plt.title('Total revenue in top-10 departments')\n",
    "plt.ylabel('')\n",
    "plt.xlabel('Revenue (in tens of million dollars)')\n",
    "plt.gcf().set_size_inches(5,3)"
   ]
  },
  {
   "cell_type": "markdown",
   "id": "dccb198c-ae09-447d-a455-0705e2d19afd",
   "metadata": {},
   "source": [
    "## Ordering behaviours from customers\n",
    "\n",
    "The marketing and sales teams are particularly interested in the different types of customers in their system and how their ordering behaviors differ.\n"
   ]
  },
  {
   "cell_type": "markdown",
   "id": "9b48aea1-bd4f-4138-b164-0e06f67dc5cf",
   "metadata": {},
   "source": [
    "*Ordering behaviours* can mean several different things. Some examples:\n",
    "\n",
    "* most usual order day\n",
    "* days in between orders\n",
    "* average order cost\n",
    "* total number of orders\n",
    "* total spent"
   ]
  },
  {
   "cell_type": "markdown",
   "id": "f73fcd87-f73a-4de3-af64-75fcd608d82c",
   "metadata": {},
   "source": [
    "### Loyalty flag break down"
   ]
  },
  {
   "cell_type": "code",
   "execution_count": 91,
   "id": "0535da9b-852e-4756-bde5-541ae50ac288",
   "metadata": {},
   "outputs": [
    {
     "data": {
      "text/plain": [
       "<matplotlib.patches.Circle at 0x7f65c4f8f0>"
      ]
     },
     "execution_count": 91,
     "metadata": {},
     "output_type": "execute_result"
    },
    {
     "data": {
      "image/png": "[encoded data removed]",
      "text/plain": [
       "<Figure size 300x300 with 1 Axes>"
      ]
     },
     "metadata": {},
     "output_type": "display_data"
    }
   ],
   "source": [
    "# distribution of customers by loyalty flag (loyalty flag was defined according to total of orders, in 3 layers)\n",
    "\n",
    "plt.figure(figsize=(3,3))\n",
    "df_to_display = df_customers['loyalty_flag'].value_counts().sort_index()\n",
    "pie_loyalty_customers_1 = df_to_display.plot.pie(autopct=('%1.0f%%'), colors = sns.color_palette(\"colorblind\")[5:8],\n",
    "                                                 wedgeprops={'linewidth': 2, 'edgecolor': 'white'},\n",
    "                                                 legend=None, ylabel='', title='Distribution of customers by loyalty', \n",
    "                                                 labels =['new', 'regular', 'loyal'])\n",
    "center_circle = plt.Circle((0,0), 0.8, fc='white')\n",
    "plt.gca().add_artist(center_circle)"
   ]
  },
  {
   "cell_type": "code",
   "execution_count": 92,
   "id": "50f37b2b-4ff2-49f0-a30f-a60ed4e94618",
   "metadata": {},
   "outputs": [
    {
     "data": {
      "text/plain": [
       "<matplotlib.patches.Circle at 0x7f6593f3e0>"
      ]
     },
     "execution_count": 92,
     "metadata": {},
     "output_type": "execute_result"
    },
    {
     "data": {
      "image/png": "[encoded data removed]",
      "text/plain": [
       "<Figure size 300x300 with 1 Axes>"
      ]
     },
     "metadata": {},
     "output_type": "display_data"
    }
   ],
   "source": [
    "# distribution of the amount of orders placed by these 3 layers of loyalty customers\n",
    "\n",
    "plt.figure(figsize=(3,3))\n",
    "df_to_display = df_orders['loyalty_flag'].value_counts().sort_index()\n",
    "pie_loyalty_customers_2 = df_to_display.plot.pie(autopct=('%1.0f%%'), colors = sns.color_palette(\"colorblind\")[5:8],\n",
    "                                               wedgeprops={'linewidth': 2, 'edgecolor': 'white'}, startangle = 90,\n",
    "                                               legend=None, ylabel='', title='Distribution of orders by loyalty', \n",
    "                                               labels =['new', 'regular', 'loyal'])\n",
    "center_circle = plt.Circle((0,0), 0.8, fc='white')\n",
    "plt.gca().add_artist(center_circle)"
   ]
  },
  {
   "cell_type": "markdown",
   "id": "de0d2331-b2bb-4853-87f5-5331e65be103",
   "metadata": {},
   "source": [
    "### Loyalty_flag vs median_days_between_orders"
   ]
  },
  {
   "cell_type": "code",
   "execution_count": 93,
   "id": "dbb873e9-1af1-4700-9790-ec4b8c930cff",
   "metadata": {
    "scrolled": true
   },
   "outputs": [
    {
     "data": {
      "image/png": "[encoded data removed]",
      "text/plain": [
       "<Figure size 500x400 with 1 Axes>"
      ]
     },
     "metadata": {},
     "output_type": "display_data"
    }
   ],
   "source": [
    "# plotting histogram with median_days_between_orders for all customers\n",
    "# max of this variable is 30, the value here probably contains all record beyond this threshold (kind of artificial)\n",
    "\n",
    "plt.figure(figsize=(5,4))\n",
    "hist_median_days = df_customers['median_days_between_orders'].plot.hist(bins=31, \n",
    "                                                                        color=sns.color_palette(\"colorblind\")[2],\n",
    "                                                                        linewidth=1,\n",
    "                                                                        edgecolor='black')\n",
    "plt.xlabel('Median of days in between orders')\n",
    "plt.ylabel('Number of customers')\n",
    "plt.title('Histogram: Median days between orders for all customers')\n",
    "plt.draw()"
   ]
  },
  {
   "cell_type": "code",
   "execution_count": 94,
   "id": "b5b1af44-ca5c-43c6-bd47-c0868f762892",
   "metadata": {},
   "outputs": [],
   "source": [
    "# creating a dictionaty for labeling\n",
    "\n",
    "dict_loyalty = {1:'new',2:'regular',3:'loyal'}"
   ]
  },
  {
   "cell_type": "code",
   "execution_count": 95,
   "id": "8e0d1006-c9a1-4363-8732-8af69eeca37f",
   "metadata": {},
   "outputs": [
    {
     "data": {
      "text/html": [
       "<div>\n",
       "<style scoped>\n",
       "    .dataframe tbody tr th:only-of-type {\n",
       "        vertical-align: middle;\n",
       "    }\n",
       "\n",
       "    .dataframe tbody tr th {\n",
       "        vertical-align: top;\n",
       "    }\n",
       "\n",
       "    .dataframe thead tr th {\n",
       "        text-align: left;\n",
       "    }\n",
       "\n",
       "    .dataframe thead tr:last-of-type th {\n",
       "        text-align: right;\n",
       "    }\n",
       "</style>\n",
       "<table border=\"1\" class=\"dataframe\">\n",
       "  <thead>\n",
       "    <tr>\n",
       "      <th></th>\n",
       "      <th colspan=\"3\" halign=\"left\">median_days_between_orders</th>\n",
       "    </tr>\n",
       "    <tr>\n",
       "      <th></th>\n",
       "      <th>min</th>\n",
       "      <th>max</th>\n",
       "      <th>mean</th>\n",
       "    </tr>\n",
       "    <tr>\n",
       "      <th>loyalty_flag</th>\n",
       "      <th></th>\n",
       "      <th></th>\n",
       "      <th></th>\n",
       "    </tr>\n",
       "  </thead>\n",
       "  <tbody>\n",
       "    <tr>\n",
       "      <th>new</th>\n",
       "      <td>0.0</td>\n",
       "      <td>30.0</td>\n",
       "      <td>18.035789</td>\n",
       "    </tr>\n",
       "    <tr>\n",
       "      <th>regular</th>\n",
       "      <td>0.0</td>\n",
       "      <td>30.0</td>\n",
       "      <td>10.612804</td>\n",
       "    </tr>\n",
       "    <tr>\n",
       "      <th>loyal</th>\n",
       "      <td>0.0</td>\n",
       "      <td>14.0</td>\n",
       "      <td>5.170014</td>\n",
       "    </tr>\n",
       "  </tbody>\n",
       "</table>\n",
       "</div>"
      ],
      "text/plain": [
       "             median_days_between_orders                 \n",
       "                                    min   max       mean\n",
       "loyalty_flag                                            \n",
       "new                                 0.0  30.0  18.035789\n",
       "regular                             0.0  30.0  10.612804\n",
       "loyal                               0.0  14.0   5.170014"
      ]
     },
     "execution_count": 95,
     "metadata": {},
     "output_type": "execute_result"
    }
   ],
   "source": [
    "# check how each loyalty group behaves in regards to this order frequency\n",
    "\n",
    "df_grouped = df_ord_prod_cust.groupby(['loyalty_flag']).agg({'median_days_between_orders': ['min', 'max', 'mean']})\n",
    "df_grouped.rename(index=dict_loyalty)"
   ]
  },
  {
   "cell_type": "code",
   "execution_count": 96,
   "id": "5f385f10-ad93-49bd-8005-45d8e8bc4921",
   "metadata": {},
   "outputs": [
    {
     "data": {
      "text/html": [
       "<div>\n",
       "<style scoped>\n",
       "    .dataframe tbody tr th:only-of-type {\n",
       "        vertical-align: middle;\n",
       "    }\n",
       "\n",
       "    .dataframe tbody tr th {\n",
       "        vertical-align: top;\n",
       "    }\n",
       "\n",
       "    .dataframe thead th {\n",
       "        text-align: right;\n",
       "    }\n",
       "</style>\n",
       "<table border=\"1\" class=\"dataframe\">\n",
       "  <thead>\n",
       "    <tr style=\"text-align: right;\">\n",
       "      <th>loyalty_flag</th>\n",
       "      <th>median_days_between_orders</th>\n",
       "      <th>new</th>\n",
       "      <th>regular</th>\n",
       "      <th>loyal</th>\n",
       "    </tr>\n",
       "  </thead>\n",
       "  <tbody>\n",
       "    <tr>\n",
       "      <th>0</th>\n",
       "      <td>0.0</td>\n",
       "      <td>0.10</td>\n",
       "      <td>0.02</td>\n",
       "      <td>0.11</td>\n",
       "    </tr>\n",
       "    <tr>\n",
       "      <th>1</th>\n",
       "      <td>0.5</td>\n",
       "      <td>0.01</td>\n",
       "      <td>0.00</td>\n",
       "      <td>0.00</td>\n",
       "    </tr>\n",
       "    <tr>\n",
       "      <th>2</th>\n",
       "      <td>1.0</td>\n",
       "      <td>0.28</td>\n",
       "      <td>0.14</td>\n",
       "      <td>1.07</td>\n",
       "    </tr>\n",
       "    <tr>\n",
       "      <th>3</th>\n",
       "      <td>1.5</td>\n",
       "      <td>0.01</td>\n",
       "      <td>0.00</td>\n",
       "      <td>0.02</td>\n",
       "    </tr>\n",
       "    <tr>\n",
       "      <th>4</th>\n",
       "      <td>2.0</td>\n",
       "      <td>0.50</td>\n",
       "      <td>0.51</td>\n",
       "      <td>4.51</td>\n",
       "    </tr>\n",
       "    <tr>\n",
       "      <th>...</th>\n",
       "      <td>...</td>\n",
       "      <td>...</td>\n",
       "      <td>...</td>\n",
       "      <td>...</td>\n",
       "    </tr>\n",
       "    <tr>\n",
       "      <th>56</th>\n",
       "      <td>28.0</td>\n",
       "      <td>2.38</td>\n",
       "      <td>0.56</td>\n",
       "      <td>0.00</td>\n",
       "    </tr>\n",
       "    <tr>\n",
       "      <th>57</th>\n",
       "      <td>28.5</td>\n",
       "      <td>0.12</td>\n",
       "      <td>0.03</td>\n",
       "      <td>0.00</td>\n",
       "    </tr>\n",
       "    <tr>\n",
       "      <th>58</th>\n",
       "      <td>29.0</td>\n",
       "      <td>1.71</td>\n",
       "      <td>0.37</td>\n",
       "      <td>0.00</td>\n",
       "    </tr>\n",
       "    <tr>\n",
       "      <th>59</th>\n",
       "      <td>29.5</td>\n",
       "      <td>0.11</td>\n",
       "      <td>0.02</td>\n",
       "      <td>0.00</td>\n",
       "    </tr>\n",
       "    <tr>\n",
       "      <th>60</th>\n",
       "      <td>30.0</td>\n",
       "      <td>23.79</td>\n",
       "      <td>1.42</td>\n",
       "      <td>0.00</td>\n",
       "    </tr>\n",
       "  </tbody>\n",
       "</table>\n",
       "<p>61 rows × 4 columns</p>\n",
       "</div>"
      ],
      "text/plain": [
       "loyalty_flag  median_days_between_orders    new  regular  loyal\n",
       "0                                    0.0   0.10     0.02   0.11\n",
       "1                                    0.5   0.01     0.00   0.00\n",
       "2                                    1.0   0.28     0.14   1.07\n",
       "3                                    1.5   0.01     0.00   0.02\n",
       "4                                    2.0   0.50     0.51   4.51\n",
       "..                                   ...    ...      ...    ...\n",
       "56                                  28.0   2.38     0.56   0.00\n",
       "57                                  28.5   0.12     0.03   0.00\n",
       "58                                  29.0   1.71     0.37   0.00\n",
       "59                                  29.5   0.11     0.02   0.00\n",
       "60                                  30.0  23.79     1.42   0.00\n",
       "\n",
       "[61 rows x 4 columns]"
      ]
     },
     "execution_count": 96,
     "metadata": {},
     "output_type": "execute_result"
    }
   ],
   "source": [
    "# crosstab median_days_between with loyalty flag, shown in percentages\n",
    "# the reset index is needed so that 'median_days_between_orders' can be used later\n",
    "\n",
    "df_crosstab = round(pd.crosstab(df_customers['median_days_between_orders'], df_customers['loyalty_flag'], normalize='columns')*100, 2).reset_index()\n",
    "df_crosstab.rename(columns=dict_loyalty, inplace=True)\n",
    "df_crosstab"
   ]
  },
  {
   "cell_type": "code",
   "execution_count": 97,
   "id": "c3ea8bed-3e44-4a64-bcc5-cd2cc6e31651",
   "metadata": {},
   "outputs": [],
   "source": [
    "#compute two dfs splitting the loyal customers in two groups, the ones with median less or equal than 7, or more than 7\n",
    "\n",
    "df_loyal_less_eq_7 = df_crosstab.loc[df_crosstab['median_days_between_orders'] <= 7, 'loyal'].sum()\n",
    "df_loyal_more_7    = df_crosstab.loc[df_crosstab['median_days_between_orders'] > 7, 'loyal'].sum()"
   ]
  },
  {
   "cell_type": "code",
   "execution_count": 98,
   "id": "38ae05ab-c0b9-4a63-a0a0-5d15a0a1dcfd",
   "metadata": {},
   "outputs": [
    {
     "data": {
      "text/plain": [
       "Text(0.5, 1.0, 'Median days between orders for Loyal customers')"
      ]
     },
     "execution_count": 98,
     "metadata": {},
     "output_type": "execute_result"
    },
    {
     "data": {
      "image/png": "[encoded data removed]",
      "text/plain": [
       "<Figure size 300x300 with 1 Axes>"
      ]
     },
     "metadata": {},
     "output_type": "display_data"
    }
   ],
   "source": [
    "pie_days_loyal = plt.figure(figsize=(3,3))\n",
    "plt.pie([df_loyal_less_eq_7,df_loyal_more_7],\n",
    "        autopct=('%1.f%%'),\n",
    "        wedgeprops={'linewidth': 1, 'edgecolor': 'white'},\n",
    "        colors = sns.color_palette(\"colorblind\")[2:4],\n",
    "        labels=['within 7 days', 'more than 7 days'])\n",
    "plt.ylabel('')\n",
    "center_circle = plt.Circle((0,0), 0.8, fc='white')\n",
    "plt.gca().add_artist(center_circle)\n",
    "plt.title('Median days between orders for Loyal customers')"
   ]
  },
  {
   "cell_type": "code",
   "execution_count": 99,
   "id": "8602ecde-6385-4c68-bf61-05a25f412481",
   "metadata": {},
   "outputs": [],
   "source": [
    "# exactly same analysis, but now for regular customers\n",
    "\n",
    "df_regular_less_eq_7 = df_crosstab.loc[df_crosstab['median_days_between_orders'] <= 7, 'regular'].sum()\n",
    "df_regular_more_7    = df_crosstab.loc[df_crosstab['median_days_between_orders'] > 7, 'regular'].sum()"
   ]
  },
  {
   "cell_type": "code",
   "execution_count": 100,
   "id": "38c34693-0ce8-4e81-8739-193e4ac91aec",
   "metadata": {},
   "outputs": [
    {
     "data": {
      "text/plain": [
       "Text(0.5, 1.0, 'Median days between orders for regular customers')"
      ]
     },
     "execution_count": 100,
     "metadata": {},
     "output_type": "execute_result"
    },
    {
     "data": {
      "image/png": "[encoded data removed]",
      "text/plain": [
       "<Figure size 300x300 with 1 Axes>"
      ]
     },
     "metadata": {},
     "output_type": "display_data"
    }
   ],
   "source": [
    "pie_days_regular = plt.figure(figsize=(3,3))\n",
    "plt.pie([df_regular_less_eq_7,df_regular_more_7],\n",
    "        autopct=('%1.f%%'),\n",
    "        wedgeprops={'linewidth': 1, 'edgecolor': 'white'},\n",
    "        colors = sns.color_palette(\"colorblind\")[2:4],\n",
    "        labels=['within 7 days', 'more than 7 days'])\n",
    "plt.ylabel('')\n",
    "center_circle = plt.Circle((0,0), 0.8, fc='white')\n",
    "plt.gca().add_artist(center_circle)\n",
    "plt.title('Median days between orders for regular customers')"
   ]
  },
  {
   "cell_type": "code",
   "execution_count": 101,
   "id": "e9ddea44-1b17-4865-9523-136200ff1d3c",
   "metadata": {},
   "outputs": [],
   "source": [
    "# finally for new customers\n",
    "\n",
    "df_new_less_eq_7 = df_crosstab.loc[df_crosstab['median_days_between_orders'] <= 7, 'new'].sum()\n",
    "df_new_more_7    = df_crosstab.loc[df_crosstab['median_days_between_orders'] > 7, 'new'].sum()"
   ]
  },
  {
   "cell_type": "code",
   "execution_count": 102,
   "id": "d728aa86-c1d6-49e4-82e3-04233e0670ce",
   "metadata": {},
   "outputs": [
    {
     "data": {
      "text/plain": [
       "Text(0.5, 1.0, 'Median days between orders for new customers')"
      ]
     },
     "execution_count": 102,
     "metadata": {},
     "output_type": "execute_result"
    },
    {
     "data": {
      "image/png": "[encoded data removed]",
      "text/plain": [
       "<Figure size 300x300 with 1 Axes>"
      ]
     },
     "metadata": {},
     "output_type": "display_data"
    }
   ],
   "source": [
    "pie_days_new = plt.figure(figsize=(3,3))\n",
    "plt.pie([df_new_less_eq_7,df_new_more_7],\n",
    "        autopct=('%1.f%%'),\n",
    "        wedgeprops={'linewidth': 1, 'edgecolor': 'white'},\n",
    "        colors = sns.color_palette(\"colorblind\")[2:4],\n",
    "        labels=['within 7 days', 'more than 7 days'])\n",
    "plt.ylabel('')\n",
    "center_circle = plt.Circle((0,0), 0.8, fc='white')\n",
    "plt.gca().add_artist(center_circle)\n",
    "plt.title('Median days between orders for new customers')"
   ]
  },
  {
   "cell_type": "code",
   "execution_count": 103,
   "id": "9b4637f5-30b3-4530-baf3-37b78fe8eb26",
   "metadata": {},
   "outputs": [],
   "source": [
    "category_names = ['within 7 days', 'more than 7 days']"
   ]
  },
  {
   "cell_type": "code",
   "execution_count": 104,
   "id": "322cdc91-5896-4542-b0d6-dcc84b73ecd9",
   "metadata": {},
   "outputs": [],
   "source": [
    "lst_loyal_values = [df_loyal_less_eq_7, df_loyal_more_7]\n",
    "lst_regular_values = [df_regular_less_eq_7, df_regular_more_7]\n",
    "lst_new_values = [df_new_less_eq_7, df_new_more_7]"
   ]
  },
  {
   "cell_type": "code",
   "execution_count": 105,
   "id": "e60b9a9b-18d5-450b-8881-c183326d5266",
   "metadata": {},
   "outputs": [],
   "source": [
    "values_dict={'Loyal': [round(x,0) for x in lst_loyal_values],\n",
    "             'Regular': [round(x,0) for x in lst_regular_values],\n",
    "             'New': [round(x,0) for x in lst_new_values]}"
   ]
  },
  {
   "cell_type": "code",
   "execution_count": 106,
   "id": "bad72350-475f-477e-b314-2cb02d621ee0",
   "metadata": {},
   "outputs": [],
   "source": [
    "# This function was inspired and adapted from the example in the url below\n",
    "# https://matplotlib.org/stable/gallery/lines_bars_and_markers/horizontal_barchart_distribution.html#sphx-glr-gallery-lines-bars-and-markers-horizontal-barchart-distribution-py\n",
    "\n",
    "def stacked_barh_chart(values_dict, category_names):\n",
    "    \"\"\"\n",
    "    Parameters\n",
    "    ----------\n",
    "    values_dict : dict\n",
    "        A mapping with the values for each label we want.\n",
    "        It is assumed all lists contain the same number of entries and that\n",
    "        it matches the length of *category_names*.\n",
    "    category_names : list of str\n",
    "        The category labels.\n",
    "    \"\"\"\n",
    "    labels = list(values_dict.keys())\n",
    "    data = np.array(list(values_dict.values()))\n",
    "    data_cum = data.cumsum(axis=1)\n",
    "    category_colors = plt.colormaps['Greens'](\n",
    "        np.linspace(0.30, 0.60, data.shape[1]))\n",
    "\n",
    "    fig, ax = plt.subplots(figsize=(5, 4))\n",
    "    ax.invert_yaxis()\n",
    "    ax.xaxis.set_visible(False)\n",
    "    ax.set_xlim(0, np.sum(data, axis=1).max())\n",
    "\n",
    "    for i, (colname, color) in enumerate(zip(category_names, category_colors)):\n",
    "        widths = data[:, i]\n",
    "        starts = data_cum[:, i] - widths\n",
    "        rects = ax.barh(labels, widths, left=starts, height=0.7,\n",
    "                        label=colname, color=color)\n",
    "        ax.bar_label(rects, label_type='center', color='black')\n",
    "    ax.legend(ncols=len(category_names), loc='upper right', fontsize='small')\n",
    "\n",
    "    return fig"
   ]
  },
  {
   "cell_type": "code",
   "execution_count": 107,
   "id": "b104869b-474f-44f2-9674-a2b4a80d7400",
   "metadata": {},
   "outputs": [
    {
     "data": {
      "image/png": "[encoded data removed]",
      "text/plain": [
       "<Figure size 500x400 with 1 Axes>"
      ]
     },
     "metadata": {},
     "output_type": "display_data"
    }
   ],
   "source": [
    "barh_median_by_loyalty = stacked_barh_chart(values_dict, category_names)\n",
    "plt.title('% of Customers by purchasing frequency')\n",
    "plt.show()"
   ]
  },
  {
   "cell_type": "markdown",
   "id": "1ca36d14-ca4e-41d4-ab8a-5c50109bd081",
   "metadata": {},
   "source": [
    "### Loyalty_flag vs region"
   ]
  },
  {
   "cell_type": "code",
   "execution_count": 108,
   "id": "e31fd384-e766-48b8-95bf-638b26ddbd62",
   "metadata": {},
   "outputs": [
    {
     "data": {
      "text/html": [
       "<div>\n",
       "<style scoped>\n",
       "    .dataframe tbody tr th:only-of-type {\n",
       "        vertical-align: middle;\n",
       "    }\n",
       "\n",
       "    .dataframe tbody tr th {\n",
       "        vertical-align: top;\n",
       "    }\n",
       "\n",
       "    .dataframe thead th {\n",
       "        text-align: right;\n",
       "    }\n",
       "</style>\n",
       "<table border=\"1\" class=\"dataframe\">\n",
       "  <thead>\n",
       "    <tr style=\"text-align: right;\">\n",
       "      <th>region</th>\n",
       "      <th>MidWest</th>\n",
       "      <th>Northeast</th>\n",
       "      <th>South</th>\n",
       "      <th>West</th>\n",
       "    </tr>\n",
       "    <tr>\n",
       "      <th>loyalty_flag</th>\n",
       "      <th></th>\n",
       "      <th></th>\n",
       "      <th></th>\n",
       "      <th></th>\n",
       "    </tr>\n",
       "  </thead>\n",
       "  <tbody>\n",
       "    <tr>\n",
       "      <th>new</th>\n",
       "      <td>42.19</td>\n",
       "      <td>42.20</td>\n",
       "      <td>42.34</td>\n",
       "      <td>42.31</td>\n",
       "    </tr>\n",
       "    <tr>\n",
       "      <th>regular</th>\n",
       "      <td>47.41</td>\n",
       "      <td>47.21</td>\n",
       "      <td>47.26</td>\n",
       "      <td>47.17</td>\n",
       "    </tr>\n",
       "    <tr>\n",
       "      <th>loyal</th>\n",
       "      <td>10.40</td>\n",
       "      <td>10.59</td>\n",
       "      <td>10.40</td>\n",
       "      <td>10.52</td>\n",
       "    </tr>\n",
       "  </tbody>\n",
       "</table>\n",
       "</div>"
      ],
      "text/plain": [
       "region        MidWest  Northeast  South   West\n",
       "loyalty_flag                                  \n",
       "new             42.19      42.20  42.34  42.31\n",
       "regular         47.41      47.21  47.26  47.17\n",
       "loyal           10.40      10.59  10.40  10.52"
      ]
     },
     "execution_count": 108,
     "metadata": {},
     "output_type": "execute_result"
    }
   ],
   "source": [
    "#crosstab region with loyalty flag, shown in percentages\n",
    "\n",
    "df_crosstab = round(pd.crosstab(df_customers['loyalty_flag'], df_customers['region'], normalize='columns')*100, 2)\n",
    "df_crosstab.rename(index=dict_loyalty, inplace=True)\n",
    "df_crosstab"
   ]
  },
  {
   "cell_type": "markdown",
   "id": "dc007773-7a18-4029-bd82-113a7c5ff4bc",
   "metadata": {},
   "source": [
    "**Comment**: No region stands out, the national distribution is fairly equal among all regions."
   ]
  },
  {
   "cell_type": "markdown",
   "id": "a3912141-77ce-41c0-832b-059c7517b00b",
   "metadata": {},
   "source": [
    "### Loyalty_flag vs income bracket"
   ]
  },
  {
   "cell_type": "code",
   "execution_count": 109,
   "id": "7e2db854-488b-4035-b1c3-34d01095ec0b",
   "metadata": {
    "scrolled": true
   },
   "outputs": [
    {
     "data": {
      "text/html": [
       "<div>\n",
       "<style scoped>\n",
       "    .dataframe tbody tr th:only-of-type {\n",
       "        vertical-align: middle;\n",
       "    }\n",
       "\n",
       "    .dataframe tbody tr th {\n",
       "        vertical-align: top;\n",
       "    }\n",
       "\n",
       "    .dataframe thead th {\n",
       "        text-align: right;\n",
       "    }\n",
       "</style>\n",
       "<table border=\"1\" class=\"dataframe\">\n",
       "  <thead>\n",
       "    <tr style=\"text-align: right;\">\n",
       "      <th>income_range</th>\n",
       "      <th>low</th>\n",
       "      <th>mid low</th>\n",
       "      <th>mid high</th>\n",
       "      <th>high</th>\n",
       "      <th>top</th>\n",
       "    </tr>\n",
       "    <tr>\n",
       "      <th>loyalty_flag</th>\n",
       "      <th></th>\n",
       "      <th></th>\n",
       "      <th></th>\n",
       "      <th></th>\n",
       "      <th></th>\n",
       "    </tr>\n",
       "  </thead>\n",
       "  <tbody>\n",
       "    <tr>\n",
       "      <th>new</th>\n",
       "      <td>45.83</td>\n",
       "      <td>41.16</td>\n",
       "      <td>41.16</td>\n",
       "      <td>41.22</td>\n",
       "      <td>26.87</td>\n",
       "    </tr>\n",
       "    <tr>\n",
       "      <th>regular</th>\n",
       "      <td>45.03</td>\n",
       "      <td>47.76</td>\n",
       "      <td>48.02</td>\n",
       "      <td>48.06</td>\n",
       "      <td>56.78</td>\n",
       "    </tr>\n",
       "    <tr>\n",
       "      <th>loyal</th>\n",
       "      <td>9.13</td>\n",
       "      <td>11.07</td>\n",
       "      <td>10.82</td>\n",
       "      <td>10.72</td>\n",
       "      <td>16.35</td>\n",
       "    </tr>\n",
       "  </tbody>\n",
       "</table>\n",
       "</div>"
      ],
      "text/plain": [
       "income_range    low  mid low  mid high   high    top\n",
       "loyalty_flag                                        \n",
       "new           45.83    41.16     41.16  41.22  26.87\n",
       "regular       45.03    47.76     48.02  48.06  56.78\n",
       "loyal          9.13    11.07     10.82  10.72  16.35"
      ]
     },
     "execution_count": 109,
     "metadata": {},
     "output_type": "execute_result"
    }
   ],
   "source": [
    "# crosstab income range with loyalty flag, shown in percentages\n",
    "\n",
    "df_crosstab = round(pd.crosstab(df_customers['loyalty_flag'], df_customers['income_range'], normalize='columns')*100, 2)\n",
    "df_crosstab.rename(columns=dict_incomes, inplace=True)\n",
    "df_crosstab.rename(index=dict_loyalty, inplace=True)\n",
    "df_crosstab"
   ]
  },
  {
   "cell_type": "markdown",
   "id": "58ac6bbf-348d-4a56-98c4-c5b308fd4891",
   "metadata": {},
   "source": [
    "**Comment**: There is a slight percentual shift in loyalty when income bracket increases, meaning that the bigger the income is, the bigger the chances are that a customer goes loyal."
   ]
  },
  {
   "cell_type": "markdown",
   "id": "3fa34684-723b-48d8-9974-769666a7c6e1",
   "metadata": {},
   "source": [
    "### loyalty_flag vs frozen stuff"
   ]
  },
  {
   "cell_type": "code",
   "execution_count": 110,
   "id": "7deca61d-f0ec-4424-abc4-9e6613e5f99f",
   "metadata": {},
   "outputs": [
    {
     "data": {
      "text/html": [
       "<div>\n",
       "<style scoped>\n",
       "    .dataframe tbody tr th:only-of-type {\n",
       "        vertical-align: middle;\n",
       "    }\n",
       "\n",
       "    .dataframe tbody tr th {\n",
       "        vertical-align: top;\n",
       "    }\n",
       "\n",
       "    .dataframe thead th {\n",
       "        text-align: right;\n",
       "    }\n",
       "</style>\n",
       "<table border=\"1\" class=\"dataframe\">\n",
       "  <thead>\n",
       "    <tr style=\"text-align: right;\">\n",
       "      <th>loyalty_flag</th>\n",
       "      <th>new</th>\n",
       "      <th>regular</th>\n",
       "      <th>loyal</th>\n",
       "    </tr>\n",
       "    <tr>\n",
       "      <th>frozen_stuff</th>\n",
       "      <th></th>\n",
       "      <th></th>\n",
       "      <th></th>\n",
       "    </tr>\n",
       "  </thead>\n",
       "  <tbody>\n",
       "    <tr>\n",
       "      <th>False</th>\n",
       "      <td>28.45</td>\n",
       "      <td>15.03</td>\n",
       "      <td>8.3</td>\n",
       "    </tr>\n",
       "    <tr>\n",
       "      <th>True</th>\n",
       "      <td>71.55</td>\n",
       "      <td>84.97</td>\n",
       "      <td>91.7</td>\n",
       "    </tr>\n",
       "  </tbody>\n",
       "</table>\n",
       "</div>"
      ],
      "text/plain": [
       "loyalty_flag    new  regular  loyal\n",
       "frozen_stuff                       \n",
       "False         28.45    15.03    8.3\n",
       "True          71.55    84.97   91.7"
      ]
     },
     "execution_count": 110,
     "metadata": {},
     "output_type": "execute_result"
    }
   ],
   "source": [
    "# the same crosstab technique as above, but with a slight difference on how to calculate percentage values\n",
    "\n",
    "df_crosstab = round(pd.crosstab(df_customers['frozen_stuff'], df_customers['loyalty_flag'], normalize='columns')*100, 2)\n",
    "df_crosstab.rename(columns=dict_loyalty, inplace=True)\n",
    "df_crosstab"
   ]
  },
  {
   "cell_type": "markdown",
   "id": "41fcfcdc-dc4b-46bf-a9b1-9452fd856c84",
   "metadata": {},
   "source": [
    "### loyalty_flag vs baby_stuff"
   ]
  },
  {
   "cell_type": "code",
   "execution_count": 111,
   "id": "f74dbbfa-b2d4-4ad3-9cb2-7bd3b9786cff",
   "metadata": {},
   "outputs": [
    {
     "data": {
      "text/html": [
       "<div>\n",
       "<style scoped>\n",
       "    .dataframe tbody tr th:only-of-type {\n",
       "        vertical-align: middle;\n",
       "    }\n",
       "\n",
       "    .dataframe tbody tr th {\n",
       "        vertical-align: top;\n",
       "    }\n",
       "\n",
       "    .dataframe thead th {\n",
       "        text-align: right;\n",
       "    }\n",
       "</style>\n",
       "<table border=\"1\" class=\"dataframe\">\n",
       "  <thead>\n",
       "    <tr style=\"text-align: right;\">\n",
       "      <th>loyalty_flag</th>\n",
       "      <th>new</th>\n",
       "      <th>regular</th>\n",
       "      <th>loyal</th>\n",
       "    </tr>\n",
       "    <tr>\n",
       "      <th>baby_stuff</th>\n",
       "      <th></th>\n",
       "      <th></th>\n",
       "      <th></th>\n",
       "    </tr>\n",
       "  </thead>\n",
       "  <tbody>\n",
       "    <tr>\n",
       "      <th>False</th>\n",
       "      <td>89.54</td>\n",
       "      <td>81.2</td>\n",
       "      <td>65.53</td>\n",
       "    </tr>\n",
       "    <tr>\n",
       "      <th>True</th>\n",
       "      <td>10.46</td>\n",
       "      <td>18.8</td>\n",
       "      <td>34.47</td>\n",
       "    </tr>\n",
       "  </tbody>\n",
       "</table>\n",
       "</div>"
      ],
      "text/plain": [
       "loyalty_flag    new  regular  loyal\n",
       "baby_stuff                         \n",
       "False         89.54     81.2  65.53\n",
       "True          10.46     18.8  34.47"
      ]
     },
     "execution_count": 111,
     "metadata": {},
     "output_type": "execute_result"
    }
   ],
   "source": [
    "# the same crosstab technique as above, but with a slight difference on how to calculate percentage values\n",
    "\n",
    "df_crosstab = round(pd.crosstab(df_customers['baby_stuff'], df_customers['loyalty_flag'], normalize='columns')*100, 2)\n",
    "df_crosstab.rename(columns=dict_loyalty, inplace=True)\n",
    "df_crosstab"
   ]
  },
  {
   "cell_type": "markdown",
   "id": "30321ac8-1f7c-4018-9589-a9bae2046393",
   "metadata": {},
   "source": [
    "**Comment**: In these two types of products (frozen stuff purchased frequently by all customers, baby stuff more seldomly purchased) one pattern stands out, and this is most likely characteristic in all departments:\n",
    "\n",
    "The loyal group shows the biggest percentage of customers purchasing these products than any other group. This is way more evident in baby department. "
   ]
  },
  {
   "cell_type": "markdown",
   "id": "44744b06-4e2a-4d77-bb1a-31a9eaee2441",
   "metadata": {},
   "source": [
    "### most common order day vs loyalty flag"
   ]
  },
  {
   "cell_type": "code",
   "execution_count": 112,
   "id": "6e68bede-58e5-4f8f-ba68-90b55448f5c7",
   "metadata": {},
   "outputs": [],
   "source": [
    "df_to_display = df_customers['common_order_day'].value_counts().sort_index(ascending=True).rename(index=dict_dow)"
   ]
  },
  {
   "cell_type": "code",
   "execution_count": 113,
   "id": "d0e7a815-9ff9-45bc-b2a8-238e88f06528",
   "metadata": {},
   "outputs": [
    {
     "data": {
      "text/plain": [
       "common_order_day\n",
       "Sat    39760\n",
       "Sun    32156\n",
       "Mon    18693\n",
       "Tue    16202\n",
       "Wed    15154\n",
       "Thu    18094\n",
       "Fri    22572\n",
       "Name: count, dtype: int64"
      ]
     },
     "execution_count": 113,
     "metadata": {},
     "output_type": "execute_result"
    }
   ],
   "source": [
    "df_to_display"
   ]
  },
  {
   "cell_type": "code",
   "execution_count": 114,
   "id": "07e8f030-0cd8-4fdd-a779-0dc2f37210b3",
   "metadata": {},
   "outputs": [
    {
     "data": {
      "text/plain": [
       "Text(0.5, 1.0, 'Frequency of most common order days')"
      ]
     },
     "execution_count": 114,
     "metadata": {},
     "output_type": "execute_result"
    },
    {
     "data": {
      "image/png": "[encoded data removed]",
      "text/plain": [
       "<Figure size 500x300 with 1 Axes>"
      ]
     },
     "metadata": {},
     "output_type": "display_data"
    }
   ],
   "source": [
    "plt.figure(figsize=(5,3))\n",
    "bar_common_day = df_to_display.plot.bar(color = sns.color_palette(\"colorblind\")[3],\n",
    "                                        linewidth=1,\n",
    "                                        edgecolor='black')\n",
    "plt.xlabel('')\n",
    "plt.ylabel('Count of customers')\n",
    "plt.title('Frequency of most common order days')"
   ]
  },
  {
   "cell_type": "markdown",
   "id": "3954e630-1eb8-4359-8fdc-18daff65e1c4",
   "metadata": {},
   "source": [
    "**Comment**: This result is completely in line with the overall busiest days of the week"
   ]
  },
  {
   "cell_type": "code",
   "execution_count": 115,
   "id": "04e4b6ff-2ced-4cf7-9d94-525600dd5029",
   "metadata": {},
   "outputs": [
    {
     "data": {
      "text/html": [
       "<div>\n",
       "<style scoped>\n",
       "    .dataframe tbody tr th:only-of-type {\n",
       "        vertical-align: middle;\n",
       "    }\n",
       "\n",
       "    .dataframe tbody tr th {\n",
       "        vertical-align: top;\n",
       "    }\n",
       "\n",
       "    .dataframe thead th {\n",
       "        text-align: right;\n",
       "    }\n",
       "</style>\n",
       "<table border=\"1\" class=\"dataframe\">\n",
       "  <thead>\n",
       "    <tr style=\"text-align: right;\">\n",
       "      <th>loyalty_flag</th>\n",
       "      <th>new</th>\n",
       "      <th>regular</th>\n",
       "      <th>loyal</th>\n",
       "    </tr>\n",
       "    <tr>\n",
       "      <th>common_order_day</th>\n",
       "      <th></th>\n",
       "      <th></th>\n",
       "      <th></th>\n",
       "    </tr>\n",
       "  </thead>\n",
       "  <tbody>\n",
       "    <tr>\n",
       "      <th>Fri</th>\n",
       "      <td>13.60</td>\n",
       "      <td>14.41</td>\n",
       "      <td>12.63</td>\n",
       "    </tr>\n",
       "    <tr>\n",
       "      <th>Thu</th>\n",
       "      <td>11.11</td>\n",
       "      <td>10.85</td>\n",
       "      <td>12.41</td>\n",
       "    </tr>\n",
       "    <tr>\n",
       "      <th>Wed</th>\n",
       "      <td>9.95</td>\n",
       "      <td>8.93</td>\n",
       "      <td>8.52</td>\n",
       "    </tr>\n",
       "    <tr>\n",
       "      <th>Tue</th>\n",
       "      <td>10.82</td>\n",
       "      <td>9.53</td>\n",
       "      <td>8.44</td>\n",
       "    </tr>\n",
       "    <tr>\n",
       "      <th>Mon</th>\n",
       "      <td>12.39</td>\n",
       "      <td>11.11</td>\n",
       "      <td>9.61</td>\n",
       "    </tr>\n",
       "    <tr>\n",
       "      <th>Sun</th>\n",
       "      <td>18.41</td>\n",
       "      <td>19.93</td>\n",
       "      <td>24.56</td>\n",
       "    </tr>\n",
       "    <tr>\n",
       "      <th>Sat</th>\n",
       "      <td>23.72</td>\n",
       "      <td>25.24</td>\n",
       "      <td>23.83</td>\n",
       "    </tr>\n",
       "  </tbody>\n",
       "</table>\n",
       "</div>"
      ],
      "text/plain": [
       "loyalty_flag        new  regular  loyal\n",
       "common_order_day                       \n",
       "Fri               13.60    14.41  12.63\n",
       "Thu               11.11    10.85  12.41\n",
       "Wed                9.95     8.93   8.52\n",
       "Tue               10.82     9.53   8.44\n",
       "Mon               12.39    11.11   9.61\n",
       "Sun               18.41    19.93  24.56\n",
       "Sat               23.72    25.24  23.83"
      ]
     },
     "execution_count": 115,
     "metadata": {},
     "output_type": "execute_result"
    }
   ],
   "source": [
    "# crosstab between common order day and loyalty flag\n",
    "\n",
    "df_crosstab = round(pd.crosstab(df_customers['common_order_day'], df_customers['loyalty_flag'], normalize='columns')*100, 2)\n",
    "df_crosstab.sort_index(ascending=False, inplace=True)\n",
    "df_crosstab.rename(index=dict_dow, columns=dict_loyalty, inplace=True)\n",
    "df_crosstab"
   ]
  },
  {
   "cell_type": "code",
   "execution_count": 116,
   "id": "27b548cb-0915-486d-a508-faa371363f18",
   "metadata": {
    "scrolled": true
   },
   "outputs": [
    {
     "data": {
      "text/plain": [
       "Text(0, 0.5, '')"
      ]
     },
     "execution_count": 116,
     "metadata": {},
     "output_type": "execute_result"
    },
    {
     "data": {
      "image/png": "[encoded data removed]",
      "text/plain": [
       "<Figure size 640x480 with 1 Axes>"
      ]
     },
     "metadata": {},
     "output_type": "display_data"
    }
   ],
   "source": [
    "#plotting the result of the table above\n",
    "\n",
    "bar_common_day_loyalty = df_crosstab.plot.barh(color = sns.color_palette(\"colorblind\")[0:3])\n",
    "plt.title('Common order day and loyalty status')\n",
    "plt.xlabel('Percentage of customers and their common order day')\n",
    "plt.ylabel('')"
   ]
  },
  {
   "cell_type": "markdown",
   "id": "2e7a4626-e65f-4c35-b1c3-b034740aabdf",
   "metadata": {},
   "source": [
    "**Comment**: We can spot a slight difference in loyal customers, where there is a shift in the preferred day to Sunday, compared with the other two groups, and the overall scenario. Another observations is that new customers are the ones that spread more their preferred day to place orders"
   ]
  },
  {
   "cell_type": "markdown",
   "id": "281a1906-e3c6-42e1-af3e-0623788c3094",
   "metadata": {},
   "source": [
    "### most common order day vs income bracket"
   ]
  },
  {
   "cell_type": "code",
   "execution_count": 117,
   "id": "429ea2c0-c6c4-446e-9aa1-706aa14df3f4",
   "metadata": {},
   "outputs": [
    {
     "data": {
      "text/html": [
       "<div>\n",
       "<style scoped>\n",
       "    .dataframe tbody tr th:only-of-type {\n",
       "        vertical-align: middle;\n",
       "    }\n",
       "\n",
       "    .dataframe tbody tr th {\n",
       "        vertical-align: top;\n",
       "    }\n",
       "\n",
       "    .dataframe thead th {\n",
       "        text-align: right;\n",
       "    }\n",
       "</style>\n",
       "<table border=\"1\" class=\"dataframe\">\n",
       "  <thead>\n",
       "    <tr style=\"text-align: right;\">\n",
       "      <th>income_range</th>\n",
       "      <th>low</th>\n",
       "      <th>mid low</th>\n",
       "      <th>mid high</th>\n",
       "      <th>high</th>\n",
       "      <th>top</th>\n",
       "    </tr>\n",
       "    <tr>\n",
       "      <th>common_order_day</th>\n",
       "      <th></th>\n",
       "      <th></th>\n",
       "      <th></th>\n",
       "      <th></th>\n",
       "      <th></th>\n",
       "    </tr>\n",
       "  </thead>\n",
       "  <tbody>\n",
       "    <tr>\n",
       "      <th>Fri</th>\n",
       "      <td>12.50</td>\n",
       "      <td>14.07</td>\n",
       "      <td>14.45</td>\n",
       "      <td>14.54</td>\n",
       "      <td>12.42</td>\n",
       "    </tr>\n",
       "    <tr>\n",
       "      <th>Thu</th>\n",
       "      <td>11.69</td>\n",
       "      <td>10.91</td>\n",
       "      <td>10.85</td>\n",
       "      <td>11.03</td>\n",
       "      <td>12.80</td>\n",
       "    </tr>\n",
       "    <tr>\n",
       "      <th>Wed</th>\n",
       "      <td>10.18</td>\n",
       "      <td>9.05</td>\n",
       "      <td>9.02</td>\n",
       "      <td>9.04</td>\n",
       "      <td>8.24</td>\n",
       "    </tr>\n",
       "    <tr>\n",
       "      <th>Tue</th>\n",
       "      <td>11.04</td>\n",
       "      <td>9.61</td>\n",
       "      <td>9.69</td>\n",
       "      <td>9.54</td>\n",
       "      <td>8.24</td>\n",
       "    </tr>\n",
       "    <tr>\n",
       "      <th>Mon</th>\n",
       "      <td>12.56</td>\n",
       "      <td>11.19</td>\n",
       "      <td>11.16</td>\n",
       "      <td>11.02</td>\n",
       "      <td>13.05</td>\n",
       "    </tr>\n",
       "    <tr>\n",
       "      <th>Sun</th>\n",
       "      <td>21.30</td>\n",
       "      <td>19.32</td>\n",
       "      <td>19.37</td>\n",
       "      <td>19.06</td>\n",
       "      <td>21.04</td>\n",
       "    </tr>\n",
       "    <tr>\n",
       "      <th>Sat</th>\n",
       "      <td>20.75</td>\n",
       "      <td>25.85</td>\n",
       "      <td>25.46</td>\n",
       "      <td>25.77</td>\n",
       "      <td>24.21</td>\n",
       "    </tr>\n",
       "  </tbody>\n",
       "</table>\n",
       "</div>"
      ],
      "text/plain": [
       "income_range        low  mid low  mid high   high    top\n",
       "common_order_day                                        \n",
       "Fri               12.50    14.07     14.45  14.54  12.42\n",
       "Thu               11.69    10.91     10.85  11.03  12.80\n",
       "Wed               10.18     9.05      9.02   9.04   8.24\n",
       "Tue               11.04     9.61      9.69   9.54   8.24\n",
       "Mon               12.56    11.19     11.16  11.02  13.05\n",
       "Sun               21.30    19.32     19.37  19.06  21.04\n",
       "Sat               20.75    25.85     25.46  25.77  24.21"
      ]
     },
     "execution_count": 117,
     "metadata": {},
     "output_type": "execute_result"
    }
   ],
   "source": [
    "# crosstab between common order day and income range\n",
    "\n",
    "df_crosstab = round(pd.crosstab(df_customers['common_order_day'], df_customers['income_range'], normalize='columns')*100, 2)\n",
    "df_crosstab.sort_index(ascending=False, inplace=True)\n",
    "df_crosstab.rename(index=dict_dow,columns=dict_incomes, inplace=True)\n",
    "df_crosstab"
   ]
  },
  {
   "cell_type": "code",
   "execution_count": 118,
   "id": "209604c9-a7a9-40db-bd7d-343fe82f6c06",
   "metadata": {
    "scrolled": true
   },
   "outputs": [
    {
     "data": {
      "text/plain": [
       "Text(0, 0.5, '')"
      ]
     },
     "execution_count": 118,
     "metadata": {},
     "output_type": "execute_result"
    },
    {
     "data": {
      "image/png": "[encoded data removed]",
      "text/plain": [
       "<Figure size 640x480 with 1 Axes>"
      ]
     },
     "metadata": {},
     "output_type": "display_data"
    }
   ],
   "source": [
    "#plotting the result of the table above\n",
    "\n",
    "bar_common_day_income = df_crosstab.plot.barh(color = sns.color_palette(\"colorblind\")[0:5])\n",
    "plt.title('Common order day and income ranges')\n",
    "plt.xlabel('Percentage of customers and their common order day')\n",
    "plt.ylabel('')"
   ]
  },
  {
   "cell_type": "markdown",
   "id": "483e7aeb-f5f9-40f6-9a2a-bb753513563c",
   "metadata": {},
   "source": [
    "pet stuff and baby stuff"
   ]
  },
  {
   "cell_type": "code",
   "execution_count": 119,
   "id": "1c05becc-2bcd-4582-bb48-7b592be2dd04",
   "metadata": {},
   "outputs": [
    {
     "data": {
      "text/html": [
       "<div>\n",
       "<style scoped>\n",
       "    .dataframe tbody tr th:only-of-type {\n",
       "        vertical-align: middle;\n",
       "    }\n",
       "\n",
       "    .dataframe tbody tr th {\n",
       "        vertical-align: top;\n",
       "    }\n",
       "\n",
       "    .dataframe thead th {\n",
       "        text-align: right;\n",
       "    }\n",
       "</style>\n",
       "<table border=\"1\" class=\"dataframe\">\n",
       "  <thead>\n",
       "    <tr style=\"text-align: right;\">\n",
       "      <th>pet_stuff</th>\n",
       "      <th>False</th>\n",
       "      <th>True</th>\n",
       "    </tr>\n",
       "    <tr>\n",
       "      <th>baby_stuff</th>\n",
       "      <th></th>\n",
       "      <th></th>\n",
       "    </tr>\n",
       "  </thead>\n",
       "  <tbody>\n",
       "    <tr>\n",
       "      <th>False</th>\n",
       "      <td>77.33</td>\n",
       "      <td>5.76</td>\n",
       "    </tr>\n",
       "    <tr>\n",
       "      <th>True</th>\n",
       "      <td>15.48</td>\n",
       "      <td>1.43</td>\n",
       "    </tr>\n",
       "  </tbody>\n",
       "</table>\n",
       "</div>"
      ],
      "text/plain": [
       "pet_stuff   False  True \n",
       "baby_stuff              \n",
       "False       77.33   5.76\n",
       "True        15.48   1.43"
      ]
     },
     "execution_count": 119,
     "metadata": {},
     "output_type": "execute_result"
    }
   ],
   "source": [
    "df_crosstab = round(pd.crosstab(df_customers['baby_stuff'], df_customers['pet_stuff'], normalize=True)*100,2)\n",
    "df_crosstab"
   ]
  },
  {
   "cell_type": "markdown",
   "id": "b1cb218a-f868-414f-b90f-f96f1636f803",
   "metadata": {},
   "source": [
    "### hours vs snacks/frozen stuff"
   ]
  },
  {
   "cell_type": "code",
   "execution_count": 120,
   "id": "32eec06d-4429-453f-98c4-d322740d7f05",
   "metadata": {},
   "outputs": [
    {
     "data": {
      "text/html": [
       "<div>\n",
       "<style scoped>\n",
       "    .dataframe tbody tr th:only-of-type {\n",
       "        vertical-align: middle;\n",
       "    }\n",
       "\n",
       "    .dataframe tbody tr th {\n",
       "        vertical-align: top;\n",
       "    }\n",
       "\n",
       "    .dataframe thead th {\n",
       "        text-align: right;\n",
       "    }\n",
       "</style>\n",
       "<table border=\"1\" class=\"dataframe\">\n",
       "  <thead>\n",
       "    <tr style=\"text-align: right;\">\n",
       "      <th>snacks_stuff</th>\n",
       "      <th>False</th>\n",
       "      <th>True</th>\n",
       "    </tr>\n",
       "    <tr>\n",
       "      <th>busiest_period_of_day</th>\n",
       "      <th></th>\n",
       "      <th></th>\n",
       "    </tr>\n",
       "  </thead>\n",
       "  <tbody>\n",
       "    <tr>\n",
       "      <th>less busy</th>\n",
       "      <td>9.50</td>\n",
       "      <td>90.50</td>\n",
       "    </tr>\n",
       "    <tr>\n",
       "      <th>average</th>\n",
       "      <td>8.13</td>\n",
       "      <td>91.87</td>\n",
       "    </tr>\n",
       "    <tr>\n",
       "      <th>peak</th>\n",
       "      <td>7.94</td>\n",
       "      <td>92.06</td>\n",
       "    </tr>\n",
       "  </tbody>\n",
       "</table>\n",
       "</div>"
      ],
      "text/plain": [
       "snacks_stuff           False  True \n",
       "busiest_period_of_day              \n",
       "less busy               9.50  90.50\n",
       "average                 8.13  91.87\n",
       "peak                    7.94  92.06"
      ]
     },
     "execution_count": 120,
     "metadata": {},
     "output_type": "execute_result"
    }
   ],
   "source": [
    "# distribution of orders including snacks and periods of day\n",
    "\n",
    "df_crosstab = round(pd.crosstab(df_orders['busiest_period_of_day'], df_orders['snacks_stuff'], normalize='index')*100, 2)\n",
    "df_crosstab.rename(index=dict_busy_pod)"
   ]
  },
  {
   "cell_type": "code",
   "execution_count": 121,
   "id": "d28ebb72-84d9-4134-88d2-a0e0240d8ee7",
   "metadata": {},
   "outputs": [
    {
     "data": {
      "text/html": [
       "<div>\n",
       "<style scoped>\n",
       "    .dataframe tbody tr th:only-of-type {\n",
       "        vertical-align: middle;\n",
       "    }\n",
       "\n",
       "    .dataframe tbody tr th {\n",
       "        vertical-align: top;\n",
       "    }\n",
       "\n",
       "    .dataframe thead th {\n",
       "        text-align: right;\n",
       "    }\n",
       "</style>\n",
       "<table border=\"1\" class=\"dataframe\">\n",
       "  <thead>\n",
       "    <tr style=\"text-align: right;\">\n",
       "      <th>frozen_stuff</th>\n",
       "      <th>False</th>\n",
       "      <th>True</th>\n",
       "    </tr>\n",
       "    <tr>\n",
       "      <th>busiest_period_of_day</th>\n",
       "      <th></th>\n",
       "      <th></th>\n",
       "    </tr>\n",
       "  </thead>\n",
       "  <tbody>\n",
       "    <tr>\n",
       "      <th>less busy</th>\n",
       "      <td>12.33</td>\n",
       "      <td>87.67</td>\n",
       "    </tr>\n",
       "    <tr>\n",
       "      <th>average</th>\n",
       "      <td>11.81</td>\n",
       "      <td>88.19</td>\n",
       "    </tr>\n",
       "    <tr>\n",
       "      <th>peak</th>\n",
       "      <td>14.40</td>\n",
       "      <td>85.60</td>\n",
       "    </tr>\n",
       "  </tbody>\n",
       "</table>\n",
       "</div>"
      ],
      "text/plain": [
       "frozen_stuff           False  True \n",
       "busiest_period_of_day              \n",
       "less busy              12.33  87.67\n",
       "average                11.81  88.19\n",
       "peak                   14.40  85.60"
      ]
     },
     "execution_count": 121,
     "metadata": {},
     "output_type": "execute_result"
    }
   ],
   "source": [
    "# distribution of orders including frozen stuff and periods of day\n",
    "\n",
    "df_crosstab = round(pd.crosstab(df_orders['busiest_period_of_day'], df_orders['frozen_stuff'], normalize='index')*100, 2)\n",
    "df_crosstab.rename(index=dict_busy_pod)"
   ]
  },
  {
   "cell_type": "markdown",
   "id": "76f43cf6-9057-4742-b8c3-822549e300f0",
   "metadata": {},
   "source": [
    "### total spend and state average order cost"
   ]
  },
  {
   "cell_type": "code",
   "execution_count": 122,
   "id": "6429e59c-308a-440e-974b-ac37cd708a7a",
   "metadata": {},
   "outputs": [
    {
     "data": {
      "text/html": [
       "<div>\n",
       "<style scoped>\n",
       "    .dataframe tbody tr th:only-of-type {\n",
       "        vertical-align: middle;\n",
       "    }\n",
       "\n",
       "    .dataframe tbody tr th {\n",
       "        vertical-align: top;\n",
       "    }\n",
       "\n",
       "    .dataframe thead th {\n",
       "        text-align: right;\n",
       "    }\n",
       "</style>\n",
       "<table border=\"1\" class=\"dataframe\">\n",
       "  <thead>\n",
       "    <tr style=\"text-align: right;\">\n",
       "      <th></th>\n",
       "      <th>state_lifetime_total</th>\n",
       "      <th>state_total_orders</th>\n",
       "    </tr>\n",
       "    <tr>\n",
       "      <th>state</th>\n",
       "      <th></th>\n",
       "      <th></th>\n",
       "    </tr>\n",
       "  </thead>\n",
       "  <tbody>\n",
       "    <tr>\n",
       "      <th>Pennsylvania</th>\n",
       "      <td>3482579.25</td>\n",
       "      <td>62357</td>\n",
       "    </tr>\n",
       "    <tr>\n",
       "      <th>New Mexico</th>\n",
       "      <td>3419442.50</td>\n",
       "      <td>62082</td>\n",
       "    </tr>\n",
       "    <tr>\n",
       "      <th>Alabama</th>\n",
       "      <td>3320540.25</td>\n",
       "      <td>61816</td>\n",
       "    </tr>\n",
       "    <tr>\n",
       "      <th>Georgia</th>\n",
       "      <td>3419755.25</td>\n",
       "      <td>61573</td>\n",
       "    </tr>\n",
       "    <tr>\n",
       "      <th>California</th>\n",
       "      <td>3431514.00</td>\n",
       "      <td>61537</td>\n",
       "    </tr>\n",
       "  </tbody>\n",
       "</table>\n",
       "</div>"
      ],
      "text/plain": [
       "              state_lifetime_total  state_total_orders\n",
       "state                                                 \n",
       "Pennsylvania            3482579.25               62357\n",
       "New Mexico              3419442.50               62082\n",
       "Alabama                 3320540.25               61816\n",
       "Georgia                 3419755.25               61573\n",
       "California              3431514.00               61537"
      ]
     },
     "execution_count": 122,
     "metadata": {},
     "output_type": "execute_result"
    }
   ],
   "source": [
    "# creating a dataframe for states with the global values purchased and global numbers of orders\n",
    "\n",
    "df_state = df_customers.groupby(['state']).agg({'total_purch_per_user': 'sum', 'max_order': 'sum'}).sort_values(by='max_order', ascending=False)\n",
    "df_state.rename(columns={'total_purch_per_user':'state_lifetime_total','max_order':'state_total_orders'},inplace=True)\n",
    "df_state.head()"
   ]
  },
  {
   "cell_type": "code",
   "execution_count": 123,
   "id": "cf91dd68-4883-4600-9fa4-8b697998eb60",
   "metadata": {},
   "outputs": [],
   "source": [
    "#deriving average value per order in state level\n",
    "\n",
    "df_state['state_order_avg'] = df_state['state_lifetime_total'] / df_state['state_total_orders']"
   ]
  },
  {
   "cell_type": "code",
   "execution_count": 124,
   "id": "6a7e8a37-94f0-40ee-9ac4-e1ae63076cfe",
   "metadata": {},
   "outputs": [
    {
     "data": {
      "text/html": [
       "<div>\n",
       "<style scoped>\n",
       "    .dataframe tbody tr th:only-of-type {\n",
       "        vertical-align: middle;\n",
       "    }\n",
       "\n",
       "    .dataframe tbody tr th {\n",
       "        vertical-align: top;\n",
       "    }\n",
       "\n",
       "    .dataframe thead th {\n",
       "        text-align: right;\n",
       "    }\n",
       "</style>\n",
       "<table border=\"1\" class=\"dataframe\">\n",
       "  <thead>\n",
       "    <tr style=\"text-align: right;\">\n",
       "      <th></th>\n",
       "      <th>state_lifetime_total</th>\n",
       "      <th>state_total_orders</th>\n",
       "      <th>state_order_avg</th>\n",
       "    </tr>\n",
       "    <tr>\n",
       "      <th>state</th>\n",
       "      <th></th>\n",
       "      <th></th>\n",
       "      <th></th>\n",
       "    </tr>\n",
       "  </thead>\n",
       "  <tbody>\n",
       "    <tr>\n",
       "      <th>Rhode Island</th>\n",
       "      <td>3421454.00</td>\n",
       "      <td>60008</td>\n",
       "      <td>57.016631</td>\n",
       "    </tr>\n",
       "    <tr>\n",
       "      <th>Arizona</th>\n",
       "      <td>3409585.75</td>\n",
       "      <td>60672</td>\n",
       "      <td>56.197023</td>\n",
       "    </tr>\n",
       "    <tr>\n",
       "      <th>Louisiana</th>\n",
       "      <td>3317758.00</td>\n",
       "      <td>59231</td>\n",
       "      <td>56.013878</td>\n",
       "    </tr>\n",
       "    <tr>\n",
       "      <th>Mississippi</th>\n",
       "      <td>3297731.25</td>\n",
       "      <td>58905</td>\n",
       "      <td>55.983894</td>\n",
       "    </tr>\n",
       "    <tr>\n",
       "      <th>Arkansas</th>\n",
       "      <td>3329797.25</td>\n",
       "      <td>59512</td>\n",
       "      <td>55.951695</td>\n",
       "    </tr>\n",
       "  </tbody>\n",
       "</table>\n",
       "</div>"
      ],
      "text/plain": [
       "              state_lifetime_total  state_total_orders  state_order_avg\n",
       "state                                                                  \n",
       "Rhode Island            3421454.00               60008        57.016631\n",
       "Arizona                 3409585.75               60672        56.197023\n",
       "Louisiana               3317758.00               59231        56.013878\n",
       "Mississippi             3297731.25               58905        55.983894\n",
       "Arkansas                3329797.25               59512        55.951695"
      ]
     },
     "execution_count": 124,
     "metadata": {},
     "output_type": "execute_result"
    }
   ],
   "source": [
    "# checking which states are on top of average per order\n",
    "\n",
    "df_state.sort_values(by='state_order_avg', ascending=False).head()"
   ]
  },
  {
   "cell_type": "code",
   "execution_count": 125,
   "id": "06bba8c8-f3b9-4e49-8dc1-55f999006e2f",
   "metadata": {},
   "outputs": [
    {
     "data": {
      "text/html": [
       "<div>\n",
       "<style scoped>\n",
       "    .dataframe tbody tr th:only-of-type {\n",
       "        vertical-align: middle;\n",
       "    }\n",
       "\n",
       "    .dataframe tbody tr th {\n",
       "        vertical-align: top;\n",
       "    }\n",
       "\n",
       "    .dataframe thead th {\n",
       "        text-align: right;\n",
       "    }\n",
       "</style>\n",
       "<table border=\"1\" class=\"dataframe\">\n",
       "  <thead>\n",
       "    <tr style=\"text-align: right;\">\n",
       "      <th></th>\n",
       "      <th>state_lifetime_total</th>\n",
       "      <th>state_total_orders</th>\n",
       "      <th>state_order_avg</th>\n",
       "    </tr>\n",
       "    <tr>\n",
       "      <th>state</th>\n",
       "      <th></th>\n",
       "      <th></th>\n",
       "      <th></th>\n",
       "    </tr>\n",
       "  </thead>\n",
       "  <tbody>\n",
       "    <tr>\n",
       "      <th>Washington</th>\n",
       "      <td>3291068.25</td>\n",
       "      <td>60855</td>\n",
       "      <td>54.080491</td>\n",
       "    </tr>\n",
       "    <tr>\n",
       "      <th>Florida</th>\n",
       "      <td>3283236.75</td>\n",
       "      <td>60711</td>\n",
       "      <td>54.079767</td>\n",
       "    </tr>\n",
       "    <tr>\n",
       "      <th>Alabama</th>\n",
       "      <td>3320540.25</td>\n",
       "      <td>61816</td>\n",
       "      <td>53.716518</td>\n",
       "    </tr>\n",
       "    <tr>\n",
       "      <th>Vermont</th>\n",
       "      <td>3173953.50</td>\n",
       "      <td>59340</td>\n",
       "      <td>53.487588</td>\n",
       "    </tr>\n",
       "    <tr>\n",
       "      <th>District of Columbia</th>\n",
       "      <td>3193701.50</td>\n",
       "      <td>59711</td>\n",
       "      <td>53.485982</td>\n",
       "    </tr>\n",
       "  </tbody>\n",
       "</table>\n",
       "</div>"
      ],
      "text/plain": [
       "                      state_lifetime_total  state_total_orders  \\\n",
       "state                                                            \n",
       "Washington                      3291068.25               60855   \n",
       "Florida                         3283236.75               60711   \n",
       "Alabama                         3320540.25               61816   \n",
       "Vermont                         3173953.50               59340   \n",
       "District of Columbia            3193701.50               59711   \n",
       "\n",
       "                      state_order_avg  \n",
       "state                                  \n",
       "Washington                  54.080491  \n",
       "Florida                     54.079767  \n",
       "Alabama                     53.716518  \n",
       "Vermont                     53.487588  \n",
       "District of Columbia        53.485982  "
      ]
     },
     "execution_count": 125,
     "metadata": {},
     "output_type": "execute_result"
    }
   ],
   "source": [
    "# checking which states are on bottom of average per order\n",
    "\n",
    "df_state.sort_values(by='state_order_avg', ascending=False).tail()"
   ]
  },
  {
   "cell_type": "markdown",
   "id": "088f8899-b4c2-4204-81e8-cc486f483528",
   "metadata": {},
   "source": [
    "Here I will be calculating the dispersion coefficients for the 3 metrics above, using the formula:\n",
    "\n",
    "$$(Max Value - Min Value) / (Max Value + Min Value)$$\n",
    "\n",
    "The advantages I see this coefficient instead of others are:\n",
    "* simple to use and calculate\n",
    "* provides a value from 0 to 1, unit-free, which is great to compare variables in total different scales and/or units\n",
    "* it's sensitive to outliers, which in this case is a good thing, because I want to show all values are super concentrated"
   ]
  },
  {
   "cell_type": "code",
   "execution_count": 126,
   "id": "756772a0-72f6-4878-a4d4-d9eb261f819e",
   "metadata": {},
   "outputs": [],
   "source": [
    "# dispersion coefficients calculation\n",
    "\n",
    "disp_coef_lifetime = (df_state['state_lifetime_total'].max() - df_state['state_lifetime_total'].min())/(df_state['state_lifetime_total'].max() + df_state['state_lifetime_total'].min())\n",
    "disp_coef_total_ord = (df_state['state_total_orders'].max() - df_state['state_total_orders'].min())/(df_state['state_total_orders'].max() + df_state['state_total_orders'].min())\n",
    "disp_coef_order_avg = (df_state['state_order_avg'].max() - df_state['state_order_avg'].min())/(df_state['state_order_avg'].max() + df_state['state_order_avg'].min())"
   ]
  },
  {
   "cell_type": "code",
   "execution_count": 127,
   "id": "4b4ef48f-b792-49ae-a662-5c02e8108cfb",
   "metadata": {},
   "outputs": [
    {
     "name": "stdout",
     "output_type": "stream",
     "text": [
      "Dispersion coefficients:\n",
      "\n",
      "State Lifetime total: 4.97%\n",
      "State total orders: 4.28%\n",
      "State order average: 3.20%\n"
     ]
    }
   ],
   "source": [
    "# showing results\n",
    "\n",
    "print(\"Dispersion coefficients:\\n\\nState Lifetime total: {0:2.2%}\\nState total orders: {1:2.2%}\\nState order average: {2:2.2%}\"\n",
    "    .format(disp_coef_lifetime, disp_coef_total_ord, disp_coef_order_avg))"
   ]
  },
  {
   "cell_type": "markdown",
   "id": "5802d191-a65c-4c0b-b369-069df97288ad",
   "metadata": {},
   "source": [
    "### age range vs income"
   ]
  },
  {
   "cell_type": "code",
   "execution_count": 128,
   "id": "0e7d96be-41f6-43c5-9d32-b98ab17c9fa2",
   "metadata": {},
   "outputs": [
    {
     "data": {
      "text/html": [
       "<div>\n",
       "<style scoped>\n",
       "    .dataframe tbody tr th:only-of-type {\n",
       "        vertical-align: middle;\n",
       "    }\n",
       "\n",
       "    .dataframe tbody tr th {\n",
       "        vertical-align: top;\n",
       "    }\n",
       "\n",
       "    .dataframe thead th {\n",
       "        text-align: right;\n",
       "    }\n",
       "</style>\n",
       "<table border=\"1\" class=\"dataframe\">\n",
       "  <thead>\n",
       "    <tr style=\"text-align: right;\">\n",
       "      <th>age_flag</th>\n",
       "      <th>young adults</th>\n",
       "      <th>early middle age</th>\n",
       "      <th>late middle age</th>\n",
       "      <th>senior</th>\n",
       "    </tr>\n",
       "    <tr>\n",
       "      <th>income_range</th>\n",
       "      <th></th>\n",
       "      <th></th>\n",
       "      <th></th>\n",
       "      <th></th>\n",
       "    </tr>\n",
       "  </thead>\n",
       "  <tbody>\n",
       "    <tr>\n",
       "      <th>low</th>\n",
       "      <td>39.75</td>\n",
       "      <td>25.89</td>\n",
       "      <td>16.92</td>\n",
       "      <td>16.61</td>\n",
       "    </tr>\n",
       "    <tr>\n",
       "      <th>mid low</th>\n",
       "      <td>49.70</td>\n",
       "      <td>26.28</td>\n",
       "      <td>11.27</td>\n",
       "      <td>11.28</td>\n",
       "    </tr>\n",
       "    <tr>\n",
       "      <th>mid high</th>\n",
       "      <td>9.75</td>\n",
       "      <td>24.06</td>\n",
       "      <td>33.45</td>\n",
       "      <td>33.62</td>\n",
       "    </tr>\n",
       "    <tr>\n",
       "      <th>high</th>\n",
       "      <td>0.55</td>\n",
       "      <td>23.27</td>\n",
       "      <td>37.76</td>\n",
       "      <td>37.89</td>\n",
       "    </tr>\n",
       "    <tr>\n",
       "      <th>top</th>\n",
       "      <td>0.25</td>\n",
       "      <td>0.50</td>\n",
       "      <td>0.60</td>\n",
       "      <td>0.60</td>\n",
       "    </tr>\n",
       "  </tbody>\n",
       "</table>\n",
       "</div>"
      ],
      "text/plain": [
       "age_flag      young adults  early middle age  late middle age  senior\n",
       "income_range                                                         \n",
       "low                  39.75             25.89            16.92   16.61\n",
       "mid low              49.70             26.28            11.27   11.28\n",
       "mid high              9.75             24.06            33.45   33.62\n",
       "high                  0.55             23.27            37.76   37.89\n",
       "top                   0.25              0.50             0.60    0.60"
      ]
     },
     "execution_count": 128,
     "metadata": {},
     "output_type": "execute_result"
    }
   ],
   "source": [
    "# checking relationship between age and incomes\n",
    "\n",
    "df_crosstab = round(pd.crosstab(df_customers['income_range'], df_customers['age_flag'], normalize='columns')*100, 2)\n",
    "df_crosstab.rename(index=dict_incomes, columns=dict_ages, inplace=True)\n",
    "df_crosstab"
   ]
  },
  {
   "cell_type": "markdown",
   "id": "81eeda7f-7108-4530-86a3-3edc2e7ede63",
   "metadata": {},
   "source": [
    "**Comment**: It can be some kind of correlation between both variables, an advance in age corresponds to a shift in the number of customers with better incomes."
   ]
  },
  {
   "cell_type": "code",
   "execution_count": 129,
   "id": "e251cf7b-2927-4e1d-a98e-808a2fc03125",
   "metadata": {},
   "outputs": [],
   "source": [
    "#creating a list to apply in the plot below, using the percentiles used for the split in incomes\n",
    "\n",
    "low_limit = round(srs_cust_income.quantile(.25)/1000)\n",
    "midlow_limit = round(srs_cust_income.quantile(.5)/1000)\n",
    "midhigh_limit = round(srs_cust_income.quantile(.75)/1000)\n",
    "high_limit = round(outlier_upper_limit/1000)\n",
    "\n",
    "lst_incomes = [f\"Under {low_limit}k\",\n",
    "               f\"Between {low_limit} and {midlow_limit}k\",\n",
    "               f\"Between {midlow_limit} and {midhigh_limit}k\",\n",
    "               f\"Between {midhigh_limit} and {high_limit}k\",\n",
    "               f\"Above {high_limit}k\"]"
   ]
  },
  {
   "cell_type": "code",
   "execution_count": 130,
   "id": "6ce5972b-1c19-4a92-bee2-2c3575f94f1a",
   "metadata": {},
   "outputs": [
    {
     "data": {
      "text/plain": [
       "<matplotlib.legend.Legend at 0x7f6575d7f0>"
      ]
     },
     "execution_count": 130,
     "metadata": {},
     "output_type": "execute_result"
    },
    {
     "data": {
      "image/png": "[encoded data removed]",
      "text/plain": [
       "<Figure size 1000x300 with 1 Axes>"
      ]
     },
     "metadata": {},
     "output_type": "display_data"
    }
   ],
   "source": [
    "# plotting the result above\n",
    "\n",
    "bar_age_income = df_crosstab.plot.barh(color = sns.color_palette(\"colorblind\"),\n",
    "                                       figsize=(10,3),\n",
    "                                       title='Relation between age and income of Instacart customers')\n",
    "plt.yticks([0,1,2,3,4], labels=lst_incomes)\n",
    "plt.ylabel('')\n",
    "plt.xlabel('Percentage of customers in each income range')\n",
    "plt.legend(['Under 35','Between 35 and 50','Between 50 and 65','Over 65'])"
   ]
  },
  {
   "cell_type": "code",
   "execution_count": 131,
   "id": "c364b6f7-d6e8-4aea-97b0-75582c73a4b8",
   "metadata": {},
   "outputs": [
    {
     "data": {
      "text/html": [
       "<div>\n",
       "<style scoped>\n",
       "    .dataframe tbody tr th:only-of-type {\n",
       "        vertical-align: middle;\n",
       "    }\n",
       "\n",
       "    .dataframe tbody tr th {\n",
       "        vertical-align: top;\n",
       "    }\n",
       "\n",
       "    .dataframe thead th {\n",
       "        text-align: right;\n",
       "    }\n",
       "</style>\n",
       "<table border=\"1\" class=\"dataframe\">\n",
       "  <thead>\n",
       "    <tr style=\"text-align: right;\">\n",
       "      <th>age_flag</th>\n",
       "      <th>young adults</th>\n",
       "      <th>early middle age</th>\n",
       "      <th>late middle age</th>\n",
       "      <th>senior</th>\n",
       "    </tr>\n",
       "    <tr>\n",
       "      <th>loyalty_flag</th>\n",
       "      <th></th>\n",
       "      <th></th>\n",
       "      <th></th>\n",
       "      <th></th>\n",
       "    </tr>\n",
       "  </thead>\n",
       "  <tbody>\n",
       "    <tr>\n",
       "      <th>new</th>\n",
       "      <td>42.46</td>\n",
       "      <td>42.07</td>\n",
       "      <td>42.50</td>\n",
       "      <td>42.06</td>\n",
       "    </tr>\n",
       "    <tr>\n",
       "      <th>regular</th>\n",
       "      <td>47.22</td>\n",
       "      <td>47.43</td>\n",
       "      <td>46.98</td>\n",
       "      <td>47.42</td>\n",
       "    </tr>\n",
       "    <tr>\n",
       "      <th>loyal</th>\n",
       "      <td>10.32</td>\n",
       "      <td>10.50</td>\n",
       "      <td>10.52</td>\n",
       "      <td>10.52</td>\n",
       "    </tr>\n",
       "  </tbody>\n",
       "</table>\n",
       "</div>"
      ],
      "text/plain": [
       "age_flag      young adults  early middle age  late middle age  senior\n",
       "loyalty_flag                                                         \n",
       "new                  42.46             42.07            42.50   42.06\n",
       "regular              47.22             47.43            46.98   47.42\n",
       "loyal                10.32             10.50            10.52   10.52"
      ]
     },
     "execution_count": 131,
     "metadata": {},
     "output_type": "execute_result"
    }
   ],
   "source": [
    "# repeating the above, but now between age and loyalty status\n",
    "\n",
    "df_crosstab = round(pd.crosstab(df_customers['loyalty_flag'], df_customers['age_flag'], normalize='columns')*100, 2)\n",
    "df_crosstab.rename(index=dict_loyalty, columns=dict_ages, inplace=True)\n",
    "df_crosstab"
   ]
  },
  {
   "cell_type": "code",
   "execution_count": 132,
   "id": "ed48e7ac-d08b-44c6-ab81-bdcf641a513e",
   "metadata": {},
   "outputs": [
    {
     "data": {
      "text/plain": [
       "<matplotlib.legend.Legend at 0x7f65982c90>"
      ]
     },
     "execution_count": 132,
     "metadata": {},
     "output_type": "execute_result"
    },
    {
     "data": {
      "image/png": "[encoded data removed]",
      "text/plain": [
       "<Figure size 800x300 with 1 Axes>"
      ]
     },
     "metadata": {},
     "output_type": "display_data"
    }
   ],
   "source": [
    "bar_age_loyalty = df_crosstab.plot.barh(color = sns.color_palette(\"colorblind\"),\n",
    "                                        figsize=(8,3),\n",
    "                                        title='Relation between age and loyalty of Instacart customers')\n",
    "plt.yticks([0,1,2], labels=list(dict_loyalty.values()))\n",
    "plt.ylabel('')\n",
    "plt.xlabel('Percentage of customers for each loyalty status')\n",
    "plt.legend(['Under 35','Between 35 and 50','Between 50 and 65','Over 65'])"
   ]
  },
  {
   "cell_type": "markdown",
   "id": "86a2325f-d3da-42c3-983e-fdc823c95c0a",
   "metadata": {},
   "source": [
    "# Exporting Plots"
   ]
  },
  {
   "cell_type": "code",
   "execution_count": 133,
   "id": "d2658588-b580-431e-bbb1-56c99ea3abfe",
   "metadata": {},
   "outputs": [],
   "source": [
    "# exporting all figures\n",
    "# bbox_inches setup as 'tight' is to ensure that whatever figsize was selected, the exports are not cropped\n",
    "\n",
    "bar_dow.figure.savefig(os.path.join(vis_path, 'bar_dow.png'), bbox_inches='tight')"
   ]
  },
  {
   "cell_type": "code",
   "execution_count": 134,
   "id": "f6cc423b-5589-4076-985a-3b6228e14cd9",
   "metadata": {},
   "outputs": [],
   "source": [
    "bar_hod.figure.savefig(os.path.join(vis_path, 'bar_hod.png'), bbox_inches='tight')"
   ]
  },
  {
   "cell_type": "code",
   "execution_count": 135,
   "id": "9e639850-f50a-4331-91ec-39fae78b9a6e",
   "metadata": {},
   "outputs": [],
   "source": [
    "bar_total_per_hour.figure.savefig(os.path.join(vis_path, 'bar_total_per_hour.png'), bbox_inches='tight')"
   ]
  },
  {
   "cell_type": "code",
   "execution_count": 136,
   "id": "25bea1c5-c353-4c73-a4b9-1a336b549447",
   "metadata": {},
   "outputs": [],
   "source": [
    "bar_total_per_day.figure.savefig(os.path.join(vis_path, 'bar_total_per_day.png'), bbox_inches='tight')"
   ]
  },
  {
   "cell_type": "code",
   "execution_count": 137,
   "id": "368e16cb-8166-49a2-8547-21985489f367",
   "metadata": {},
   "outputs": [],
   "source": [
    "hist_prices.figure.savefig(os.path.join(vis_path, 'hist_prices.png'), bbox_inches='tight')"
   ]
  },
  {
   "cell_type": "code",
   "execution_count": 138,
   "id": "a8f32ac8-c1a1-4cb7-82c9-ea86b9e257ff",
   "metadata": {},
   "outputs": [],
   "source": [
    "pie_price_dist_cat.figure.savefig(os.path.join(vis_path, 'pie_price_dist_cat.png'), bbox_inches='tight')"
   ]
  },
  {
   "cell_type": "code",
   "execution_count": 139,
   "id": "bbc2e789-428f-4ad7-a682-5322053275ab",
   "metadata": {},
   "outputs": [],
   "source": [
    "pie_price_dist_purch.figure.savefig(os.path.join(vis_path, 'pie_price_dist_purch.png'), bbox_inches='tight')"
   ]
  },
  {
   "cell_type": "code",
   "execution_count": 140,
   "id": "08dd6fdd-ab26-41cb-adaa-0c53490c1558",
   "metadata": {},
   "outputs": [],
   "source": [
    "bar_products_1.figure.savefig(os.path.join(vis_path, 'bar_products_1.png'), bbox_inches='tight')"
   ]
  },
  {
   "cell_type": "code",
   "execution_count": 141,
   "id": "8e7c1e89-06d5-4861-960c-6ac0e02f39a5",
   "metadata": {},
   "outputs": [],
   "source": [
    "bar_products_2.figure.savefig(os.path.join(vis_path, 'bar_products_2.png'), bbox_inches='tight')"
   ]
  },
  {
   "cell_type": "code",
   "execution_count": 142,
   "id": "397bd77e-78fb-4648-8fd1-d04cb701268c",
   "metadata": {},
   "outputs": [],
   "source": [
    "pie_loyalty_customers_1.figure.savefig(os.path.join(vis_path, 'pie_loyalty_customers_1.png'), bbox_inches='tight')"
   ]
  },
  {
   "cell_type": "code",
   "execution_count": 143,
   "id": "6f26dd92-b32f-4fc4-90d8-bde32bf48ddd",
   "metadata": {},
   "outputs": [],
   "source": [
    "pie_loyalty_customers_2.figure.savefig(os.path.join(vis_path, 'pie_loyalty_customers_2.png'), bbox_inches='tight')"
   ]
  },
  {
   "cell_type": "code",
   "execution_count": 144,
   "id": "13e3e69d-451d-466d-96c9-5efeea888de9",
   "metadata": {},
   "outputs": [],
   "source": [
    "hist_median_days.figure.savefig(os.path.join(vis_path, 'hist_median_days.png'), bbox_inches='tight')"
   ]
  },
  {
   "cell_type": "code",
   "execution_count": 145,
   "id": "48433615-c0b8-4d02-9f69-497a4f3e9029",
   "metadata": {},
   "outputs": [],
   "source": [
    "pie_days_loyal.figure.savefig(os.path.join(vis_path, 'pie_days_loyal.png'), bbox_inches='tight')"
   ]
  },
  {
   "cell_type": "code",
   "execution_count": 146,
   "id": "a16fd306-1a89-446c-8d7a-1ed3723a78fc",
   "metadata": {},
   "outputs": [],
   "source": [
    "pie_days_regular.figure.savefig(os.path.join(vis_path, 'pie_days_regular.png'), bbox_inches='tight')"
   ]
  },
  {
   "cell_type": "code",
   "execution_count": 147,
   "id": "73dd5149-b4cc-4f81-947a-65b9df1e33cf",
   "metadata": {},
   "outputs": [],
   "source": [
    "pie_days_new.figure.savefig(os.path.join(vis_path, 'pie_days_new.png'), bbox_inches='tight')"
   ]
  },
  {
   "cell_type": "code",
   "execution_count": 148,
   "id": "bef3fff7-4cbd-44fe-9ace-1fe932c5ece6",
   "metadata": {},
   "outputs": [],
   "source": [
    "bar_common_day.figure.savefig(os.path.join(vis_path, 'bar_common_day.png'), bbox_inches='tight')"
   ]
  },
  {
   "cell_type": "code",
   "execution_count": 149,
   "id": "05084f9a-0294-4f2d-8db9-3cc8b402d889",
   "metadata": {},
   "outputs": [],
   "source": [
    "bar_common_day_loyalty.figure.savefig(os.path.join(vis_path, 'bar_common_day_loyalty.png'), bbox_inches='tight')"
   ]
  },
  {
   "cell_type": "code",
   "execution_count": 150,
   "id": "b29f7cee-c91c-4c44-ad9b-bb3e785740e2",
   "metadata": {},
   "outputs": [],
   "source": [
    "bar_common_day_income.figure.savefig(os.path.join(vis_path, 'bar_common_day_income.png'), bbox_inches='tight')"
   ]
  },
  {
   "cell_type": "code",
   "execution_count": 151,
   "id": "2e84e5e6-32ba-4995-96a4-5f73138576af",
   "metadata": {},
   "outputs": [],
   "source": [
    "bar_age_income.figure.savefig(os.path.join(vis_path, 'bar_age_income.png'), bbox_inches='tight')"
   ]
  },
  {
   "cell_type": "code",
   "execution_count": 152,
   "id": "f62facab-d301-45ea-95fe-f0a85f869f7c",
   "metadata": {},
   "outputs": [],
   "source": [
    "bar_age_loyalty.figure.savefig(os.path.join(vis_path, 'bar_age_loyalty.png'), bbox_inches='tight')"
   ]
  },
  {
   "cell_type": "code",
   "execution_count": 153,
   "id": "a4ad566d-844f-459f-bd24-6d2efd2059e3",
   "metadata": {},
   "outputs": [],
   "source": [
    "barh_median_by_loyalty.figure.savefig(os.path.join(vis_path, 'barh_median_by_loyalty.png'), bbox_inches='tight')"
   ]
  },
  {
   "cell_type": "code",
   "execution_count": null,
   "id": "681d63e9-b755-4c7e-84f4-c3e62137b4b2",
   "metadata": {},
   "outputs": [],
   "source": []
  },
  {
   "cell_type": "code",
   "execution_count": null,
   "id": "898c7e2c-8e8e-4004-bd82-0ac1fa57f6df",
   "metadata": {},
   "outputs": [],
   "source": []
  }
 ],
 "metadata": {
  "kernelspec": {
   "display_name": "Python 3 (ipykernel)",
   "language": "python",
   "name": "python3"
  },
  "language_info": {
   "codemirror_mode": {
    "name": "ipython",
    "version": 3
   },
   "file_extension": ".py",
   "mimetype": "text/x-python",
   "name": "python",
   "nbconvert_exporter": "python",
   "pygments_lexer": "ipython3",
   "version": "3.12.2"
  },
  "toc": {
   "base_numbering": 1,
   "nav_menu": {
    "height": "399.6px",
    "width": "292.6px"
   },
   "number_sections": true,
   "sideBar": true,
   "skip_h1_title": false,
   "title_cell": "Table of Contents",
   "title_sidebar": "Contents",
   "toc_cell": false,
   "toc_position": {},
   "toc_section_display": true,
   "toc_window_display": false
  }
 },
 "nbformat": 4,
 "nbformat_minor": 5
}
