{
 "cells": [
  {
   "cell_type": "markdown",
   "id": "803ebeb5-949e-4a5a-b37c-a6b568de606e",
   "metadata": {},
   "source": [
    "# EXERCISE WALKTHROUGH"
   ]
  },
  {
   "cell_type": "code",
   "execution_count": 1,
   "id": "8dfd7b46-3dd9-4385-b7ca-0db09ed070e2",
   "metadata": {},
   "outputs": [],
   "source": [
    "import pandas as pd\n",
    "import numpy as np\n",
    "import os"
   ]
  },
  {
   "cell_type": "code",
   "execution_count": 2,
   "id": "f894fc1c-37e8-480d-ae6d-f05760cd6fb6",
   "metadata": {},
   "outputs": [],
   "source": [
    "data_path = r'/home/nevesfernandes/20250701 Instacart Basket Analysis/2 Data/'\n",
    "df_prods = pd.read_csv(os.path.join(data_path, '1 Original Data', 'products.csv'), index_col = False)\n",
    "df_orders = pd.read_csv(os.path.join(data_path, '2 Prepared Data', 'orders_wrangled.csv'), index_col = False)"
   ]
  },
  {
   "cell_type": "markdown",
   "id": "a3a2b7eb-3e1d-4659-8202-3910c845d088",
   "metadata": {},
   "source": [
    "### Test dataframe to deal with mixed datatypes"
   ]
  },
  {
   "cell_type": "code",
   "execution_count": 3,
   "id": "734da1c6-d283-4521-820e-873bee0c24f7",
   "metadata": {},
   "outputs": [
    {
     "data": {
      "text/html": [
       "<div>\n",
       "<style scoped>\n",
       "    .dataframe tbody tr th:only-of-type {\n",
       "        vertical-align: middle;\n",
       "    }\n",
       "\n",
       "    .dataframe tbody tr th {\n",
       "        vertical-align: top;\n",
       "    }\n",
       "\n",
       "    .dataframe thead th {\n",
       "        text-align: right;\n",
       "    }\n",
       "</style>\n",
       "<table border=\"1\" class=\"dataframe\">\n",
       "  <thead>\n",
       "    <tr style=\"text-align: right;\">\n",
       "      <th></th>\n",
       "      <th>mix</th>\n",
       "    </tr>\n",
       "  </thead>\n",
       "  <tbody>\n",
       "    <tr>\n",
       "      <th>0</th>\n",
       "      <td>a</td>\n",
       "    </tr>\n",
       "    <tr>\n",
       "      <th>1</th>\n",
       "      <td>b</td>\n",
       "    </tr>\n",
       "    <tr>\n",
       "      <th>2</th>\n",
       "      <td>1</td>\n",
       "    </tr>\n",
       "    <tr>\n",
       "      <th>3</th>\n",
       "      <td>True</td>\n",
       "    </tr>\n",
       "  </tbody>\n",
       "</table>\n",
       "</div>"
      ],
      "text/plain": [
       "    mix\n",
       "0     a\n",
       "1     b\n",
       "2     1\n",
       "3  True"
      ]
     },
     "execution_count": 3,
     "metadata": {},
     "output_type": "execute_result"
    }
   ],
   "source": [
    "df_test = pd.DataFrame()\n",
    "df_test['mix'] = ['a', 'b', 1, True]\n",
    "df_test.head()"
   ]
  },
  {
   "cell_type": "code",
   "execution_count": 4,
   "id": "4391a2c6-b641-4b47-9eba-d388213e3698",
   "metadata": {},
   "outputs": [
    {
     "name": "stdout",
     "output_type": "stream",
     "text": [
      "mix\n"
     ]
    }
   ],
   "source": [
    "#check for mixed datatypes\n",
    "\n",
    "for col in df_test.columns.tolist():\n",
    "  weird = (df_test[[col]].map(type) != df_test[[col]].iloc[0].apply(type)).any(axis = 1)\n",
    "  if len (df_test[weird]) > 0:\n",
    "    print (col)"
   ]
  },
  {
   "cell_type": "code",
   "execution_count": 5,
   "id": "228cdc34-d47c-4b48-a951-209bb8e1e91d",
   "metadata": {},
   "outputs": [],
   "source": [
    "df_test['mix'] = df_test['mix'].astype('str')"
   ]
  },
  {
   "cell_type": "code",
   "execution_count": 6,
   "id": "12549464-152d-4275-81e0-666502c521f1",
   "metadata": {},
   "outputs": [],
   "source": [
    "#checking again for mixed datatypes\n",
    "\n",
    "for col in df_test.columns.tolist():\n",
    "  weird = (df_test[[col]].map(type) != df_test[[col]].iloc[0].apply(type)).any(axis = 1)\n",
    "  if len (df_test[weird]) > 0:\n",
    "    print (col)"
   ]
  },
  {
   "cell_type": "markdown",
   "id": "8d76f250-43e0-46f3-876c-774e63cbaa1d",
   "metadata": {},
   "source": [
    "No return, it means that the column mix was fixed in terms of datatype"
   ]
  },
  {
   "cell_type": "code",
   "execution_count": 7,
   "id": "1a25d738-426c-4a9f-8c7e-b4cbb87c048d",
   "metadata": {},
   "outputs": [],
   "source": [
    "#on a review process of the notebooks, I know by now that I won't need aisle_id for anything in my analysis.\n",
    "#therefore, I'm dropping it, to ensure i'm saving as much memory as possible in the future\n",
    "\n",
    "df_prods.drop('aisle_id',axis=1,inplace=True)"
   ]
  },
  {
   "cell_type": "code",
   "execution_count": 8,
   "id": "86fcf9ae-af73-4a5e-8eb9-094e3dbfcc39",
   "metadata": {},
   "outputs": [
    {
     "data": {
      "text/plain": [
       "product_id        0\n",
       "product_name     16\n",
       "department_id     0\n",
       "prices            0\n",
       "dtype: int64"
      ]
     },
     "execution_count": 8,
     "metadata": {},
     "output_type": "execute_result"
    }
   ],
   "source": [
    "df_prods.isnull().sum()"
   ]
  },
  {
   "cell_type": "code",
   "execution_count": 9,
   "id": "f874916f-6485-4400-bbb9-025de1b57724",
   "metadata": {},
   "outputs": [
    {
     "data": {
      "text/html": [
       "<div>\n",
       "<style scoped>\n",
       "    .dataframe tbody tr th:only-of-type {\n",
       "        vertical-align: middle;\n",
       "    }\n",
       "\n",
       "    .dataframe tbody tr th {\n",
       "        vertical-align: top;\n",
       "    }\n",
       "\n",
       "    .dataframe thead th {\n",
       "        text-align: right;\n",
       "    }\n",
       "</style>\n",
       "<table border=\"1\" class=\"dataframe\">\n",
       "  <thead>\n",
       "    <tr style=\"text-align: right;\">\n",
       "      <th></th>\n",
       "      <th>product_id</th>\n",
       "      <th>product_name</th>\n",
       "      <th>department_id</th>\n",
       "      <th>prices</th>\n",
       "    </tr>\n",
       "  </thead>\n",
       "  <tbody>\n",
       "    <tr>\n",
       "      <th>33</th>\n",
       "      <td>34</td>\n",
       "      <td>NaN</td>\n",
       "      <td>14</td>\n",
       "      <td>12.2</td>\n",
       "    </tr>\n",
       "    <tr>\n",
       "      <th>68</th>\n",
       "      <td>69</td>\n",
       "      <td>NaN</td>\n",
       "      <td>7</td>\n",
       "      <td>11.8</td>\n",
       "    </tr>\n",
       "    <tr>\n",
       "      <th>115</th>\n",
       "      <td>116</td>\n",
       "      <td>NaN</td>\n",
       "      <td>3</td>\n",
       "      <td>10.8</td>\n",
       "    </tr>\n",
       "    <tr>\n",
       "      <th>261</th>\n",
       "      <td>262</td>\n",
       "      <td>NaN</td>\n",
       "      <td>13</td>\n",
       "      <td>12.1</td>\n",
       "    </tr>\n",
       "    <tr>\n",
       "      <th>525</th>\n",
       "      <td>525</td>\n",
       "      <td>NaN</td>\n",
       "      <td>11</td>\n",
       "      <td>1.2</td>\n",
       "    </tr>\n",
       "    <tr>\n",
       "      <th>1511</th>\n",
       "      <td>1511</td>\n",
       "      <td>NaN</td>\n",
       "      <td>16</td>\n",
       "      <td>14.3</td>\n",
       "    </tr>\n",
       "    <tr>\n",
       "      <th>1780</th>\n",
       "      <td>1780</td>\n",
       "      <td>NaN</td>\n",
       "      <td>11</td>\n",
       "      <td>12.3</td>\n",
       "    </tr>\n",
       "    <tr>\n",
       "      <th>2240</th>\n",
       "      <td>2240</td>\n",
       "      <td>NaN</td>\n",
       "      <td>1</td>\n",
       "      <td>14.2</td>\n",
       "    </tr>\n",
       "    <tr>\n",
       "      <th>2586</th>\n",
       "      <td>2586</td>\n",
       "      <td>NaN</td>\n",
       "      <td>13</td>\n",
       "      <td>12.4</td>\n",
       "    </tr>\n",
       "    <tr>\n",
       "      <th>3159</th>\n",
       "      <td>3159</td>\n",
       "      <td>NaN</td>\n",
       "      <td>11</td>\n",
       "      <td>13.1</td>\n",
       "    </tr>\n",
       "    <tr>\n",
       "      <th>3230</th>\n",
       "      <td>3230</td>\n",
       "      <td>NaN</td>\n",
       "      <td>16</td>\n",
       "      <td>14.4</td>\n",
       "    </tr>\n",
       "    <tr>\n",
       "      <th>3736</th>\n",
       "      <td>3736</td>\n",
       "      <td>NaN</td>\n",
       "      <td>8</td>\n",
       "      <td>14.8</td>\n",
       "    </tr>\n",
       "    <tr>\n",
       "      <th>4283</th>\n",
       "      <td>4283</td>\n",
       "      <td>NaN</td>\n",
       "      <td>7</td>\n",
       "      <td>14.4</td>\n",
       "    </tr>\n",
       "    <tr>\n",
       "      <th>4790</th>\n",
       "      <td>4790</td>\n",
       "      <td>NaN</td>\n",
       "      <td>16</td>\n",
       "      <td>14.5</td>\n",
       "    </tr>\n",
       "    <tr>\n",
       "      <th>38187</th>\n",
       "      <td>38183</td>\n",
       "      <td>NaN</td>\n",
       "      <td>12</td>\n",
       "      <td>20.9</td>\n",
       "    </tr>\n",
       "    <tr>\n",
       "      <th>40444</th>\n",
       "      <td>40440</td>\n",
       "      <td>NaN</td>\n",
       "      <td>16</td>\n",
       "      <td>14.8</td>\n",
       "    </tr>\n",
       "  </tbody>\n",
       "</table>\n",
       "</div>"
      ],
      "text/plain": [
       "       product_id product_name  department_id  prices\n",
       "33             34          NaN             14    12.2\n",
       "68             69          NaN              7    11.8\n",
       "115           116          NaN              3    10.8\n",
       "261           262          NaN             13    12.1\n",
       "525           525          NaN             11     1.2\n",
       "1511         1511          NaN             16    14.3\n",
       "1780         1780          NaN             11    12.3\n",
       "2240         2240          NaN              1    14.2\n",
       "2586         2586          NaN             13    12.4\n",
       "3159         3159          NaN             11    13.1\n",
       "3230         3230          NaN             16    14.4\n",
       "3736         3736          NaN              8    14.8\n",
       "4283         4283          NaN              7    14.4\n",
       "4790         4790          NaN             16    14.5\n",
       "38187       38183          NaN             12    20.9\n",
       "40444       40440          NaN             16    14.8"
      ]
     },
     "execution_count": 9,
     "metadata": {},
     "output_type": "execute_result"
    }
   ],
   "source": [
    "df_nan = df_prods[df_prods['product_name'].isnull() == True]\n",
    "df_nan"
   ]
  },
  {
   "cell_type": "code",
   "execution_count": 10,
   "id": "088833e8-9d81-4ed0-82e1-b6a6d6dd447e",
   "metadata": {},
   "outputs": [
    {
     "data": {
      "text/plain": [
       "(49677, 4)"
      ]
     },
     "execution_count": 10,
     "metadata": {},
     "output_type": "execute_result"
    }
   ],
   "source": [
    "df_prods_clean = df_prods[df_prods['product_name'].isnull() == False]\n",
    "df_prods_clean.shape"
   ]
  },
  {
   "cell_type": "code",
   "execution_count": 11,
   "id": "871de28c-8684-4b2c-ae69-b682a853d6e2",
   "metadata": {},
   "outputs": [
    {
     "data": {
      "text/html": [
       "<div>\n",
       "<style scoped>\n",
       "    .dataframe tbody tr th:only-of-type {\n",
       "        vertical-align: middle;\n",
       "    }\n",
       "\n",
       "    .dataframe tbody tr th {\n",
       "        vertical-align: top;\n",
       "    }\n",
       "\n",
       "    .dataframe thead th {\n",
       "        text-align: right;\n",
       "    }\n",
       "</style>\n",
       "<table border=\"1\" class=\"dataframe\">\n",
       "  <thead>\n",
       "    <tr style=\"text-align: right;\">\n",
       "      <th></th>\n",
       "      <th>product_id</th>\n",
       "      <th>product_name</th>\n",
       "      <th>department_id</th>\n",
       "      <th>prices</th>\n",
       "    </tr>\n",
       "  </thead>\n",
       "  <tbody>\n",
       "    <tr>\n",
       "      <th>462</th>\n",
       "      <td>462</td>\n",
       "      <td>Fiber 4g Gummy Dietary Supplement</td>\n",
       "      <td>11</td>\n",
       "      <td>4.8</td>\n",
       "    </tr>\n",
       "    <tr>\n",
       "      <th>18459</th>\n",
       "      <td>18458</td>\n",
       "      <td>Ranger IPA</td>\n",
       "      <td>5</td>\n",
       "      <td>9.2</td>\n",
       "    </tr>\n",
       "    <tr>\n",
       "      <th>26810</th>\n",
       "      <td>26808</td>\n",
       "      <td>Black House Coffee Roasty Stout Beer</td>\n",
       "      <td>5</td>\n",
       "      <td>13.4</td>\n",
       "    </tr>\n",
       "    <tr>\n",
       "      <th>35309</th>\n",
       "      <td>35306</td>\n",
       "      <td>Gluten Free Organic Peanut Butter &amp; Chocolate ...</td>\n",
       "      <td>14</td>\n",
       "      <td>6.8</td>\n",
       "    </tr>\n",
       "    <tr>\n",
       "      <th>35495</th>\n",
       "      <td>35491</td>\n",
       "      <td>Adore Forever Body Wash</td>\n",
       "      <td>11</td>\n",
       "      <td>9.9</td>\n",
       "    </tr>\n",
       "  </tbody>\n",
       "</table>\n",
       "</div>"
      ],
      "text/plain": [
       "       product_id                                       product_name  \\\n",
       "462           462                  Fiber 4g Gummy Dietary Supplement   \n",
       "18459       18458                                         Ranger IPA   \n",
       "26810       26808               Black House Coffee Roasty Stout Beer   \n",
       "35309       35306  Gluten Free Organic Peanut Butter & Chocolate ...   \n",
       "35495       35491                            Adore Forever Body Wash   \n",
       "\n",
       "       department_id  prices  \n",
       "462               11     4.8  \n",
       "18459              5     9.2  \n",
       "26810              5    13.4  \n",
       "35309             14     6.8  \n",
       "35495             11     9.9  "
      ]
     },
     "execution_count": 11,
     "metadata": {},
     "output_type": "execute_result"
    }
   ],
   "source": [
    "df_dups = df_prods_clean[df_prods_clean.duplicated()]\n",
    "df_dups"
   ]
  },
  {
   "cell_type": "code",
   "execution_count": 12,
   "id": "1ad8d1f5-4729-4414-966d-849783c5ac4f",
   "metadata": {},
   "outputs": [
    {
     "data": {
      "text/plain": [
       "(49677, 4)"
      ]
     },
     "execution_count": 12,
     "metadata": {},
     "output_type": "execute_result"
    }
   ],
   "source": [
    "df_prods_clean.shape"
   ]
  },
  {
   "cell_type": "code",
   "execution_count": 13,
   "id": "c2986414-806f-4ef6-89ef-bd8e022d0b1d",
   "metadata": {},
   "outputs": [
    {
     "data": {
      "text/plain": [
       "(49672, 4)"
      ]
     },
     "execution_count": 13,
     "metadata": {},
     "output_type": "execute_result"
    }
   ],
   "source": [
    "df_prods_clean_no_dups = df_prods_clean.drop_duplicates()\n",
    "df_prods_clean_no_dups.shape"
   ]
  },
  {
   "cell_type": "code",
   "execution_count": 14,
   "id": "befb3f8f-56ac-48e1-96b6-48264c969dc3",
   "metadata": {},
   "outputs": [
    {
     "data": {
      "text/plain": [
       "product_id\n",
       "26520    2\n",
       "6800     2\n",
       "1        1\n",
       "33136    1\n",
       "33127    1\n",
       "        ..\n",
       "16576    1\n",
       "16577    1\n",
       "16578    1\n",
       "16579    1\n",
       "49688    1\n",
       "Name: count, Length: 49670, dtype: int64"
      ]
     },
     "execution_count": 14,
     "metadata": {},
     "output_type": "execute_result"
    }
   ],
   "source": [
    "df_prods_clean_no_dups['product_id'].value_counts(dropna=False)"
   ]
  },
  {
   "cell_type": "code",
   "execution_count": 15,
   "id": "6edb45c3-59dc-4c11-8fb8-a1ca7368eb1d",
   "metadata": {},
   "outputs": [
    {
     "name": "stderr",
     "output_type": "stream",
     "text": [
      "/tmp/ipykernel_32308/2137915878.py:2: SettingWithCopyWarning: \n",
      "A value is trying to be set on a copy of a slice from a DataFrame\n",
      "\n",
      "See the caveats in the documentation: https://pandas.pydata.org/pandas-docs/stable/user_guide/indexing.html#returning-a-view-versus-a-copy\n",
      "  df_prods_clean_no_dups.drop(index_dup_keys , inplace=True)\n"
     ]
    },
    {
     "data": {
      "text/plain": [
       "(49668, 4)"
      ]
     },
     "execution_count": 15,
     "metadata": {},
     "output_type": "execute_result"
    }
   ],
   "source": [
    "index_dup_keys = df_prods_clean_no_dups[df_prods_clean_no_dups['product_id'].isin([26520,6800])].index\n",
    "df_prods_clean_no_dups.drop(index_dup_keys , inplace=True)\n",
    "df_prods_clean_no_dups.shape"
   ]
  },
  {
   "cell_type": "code",
   "execution_count": 16,
   "id": "57827556-955a-433b-99a3-43da0699ac04",
   "metadata": {},
   "outputs": [],
   "source": [
    "df_sort_by_price = df_prods_clean_no_dups.sort_values('prices')"
   ]
  },
  {
   "cell_type": "code",
   "execution_count": 17,
   "id": "14166ab0-e6d9-437e-a9a5-9c09c0a0a992",
   "metadata": {},
   "outputs": [
    {
     "data": {
      "text/html": [
       "<div>\n",
       "<style scoped>\n",
       "    .dataframe tbody tr th:only-of-type {\n",
       "        vertical-align: middle;\n",
       "    }\n",
       "\n",
       "    .dataframe tbody tr th {\n",
       "        vertical-align: top;\n",
       "    }\n",
       "\n",
       "    .dataframe thead th {\n",
       "        text-align: right;\n",
       "    }\n",
       "</style>\n",
       "<table border=\"1\" class=\"dataframe\">\n",
       "  <thead>\n",
       "    <tr style=\"text-align: right;\">\n",
       "      <th></th>\n",
       "      <th>product_id</th>\n",
       "      <th>product_name</th>\n",
       "      <th>department_id</th>\n",
       "      <th>prices</th>\n",
       "    </tr>\n",
       "  </thead>\n",
       "  <tbody>\n",
       "    <tr>\n",
       "      <th>25580</th>\n",
       "      <td>25579</td>\n",
       "      <td>Naturally Smoked Trout Fillet</td>\n",
       "      <td>12</td>\n",
       "      <td>25.0</td>\n",
       "    </tr>\n",
       "    <tr>\n",
       "      <th>19392</th>\n",
       "      <td>19391</td>\n",
       "      <td>Turkey Breast Tenderloins</td>\n",
       "      <td>12</td>\n",
       "      <td>25.0</td>\n",
       "    </tr>\n",
       "    <tr>\n",
       "      <th>21468</th>\n",
       "      <td>21467</td>\n",
       "      <td>Wild Caught Raw Shrimp</td>\n",
       "      <td>12</td>\n",
       "      <td>25.0</td>\n",
       "    </tr>\n",
       "    <tr>\n",
       "      <th>21554</th>\n",
       "      <td>21553</td>\n",
       "      <td>Lowfat 2% Milkfat Cottage Cheese</td>\n",
       "      <td>16</td>\n",
       "      <td>14900.0</td>\n",
       "    </tr>\n",
       "    <tr>\n",
       "      <th>33666</th>\n",
       "      <td>33664</td>\n",
       "      <td>2 % Reduced Fat  Milk</td>\n",
       "      <td>16</td>\n",
       "      <td>99999.0</td>\n",
       "    </tr>\n",
       "  </tbody>\n",
       "</table>\n",
       "</div>"
      ],
      "text/plain": [
       "       product_id                      product_name  department_id   prices\n",
       "25580       25579     Naturally Smoked Trout Fillet             12     25.0\n",
       "19392       19391         Turkey Breast Tenderloins             12     25.0\n",
       "21468       21467            Wild Caught Raw Shrimp             12     25.0\n",
       "21554       21553  Lowfat 2% Milkfat Cottage Cheese             16  14900.0\n",
       "33666       33664             2 % Reduced Fat  Milk             16  99999.0"
      ]
     },
     "execution_count": 17,
     "metadata": {},
     "output_type": "execute_result"
    }
   ],
   "source": [
    "df_sort_by_price.tail()"
   ]
  },
  {
   "cell_type": "markdown",
   "id": "954fd54a-8128-4643-87f4-270261b9354c",
   "metadata": {},
   "source": [
    "We can see we have two products with completely illogical prices. After checking market prices, my educated guess is that these two products have their prices multiplied by 10000, and the real prices are respectively 1.49 and 9.99 (this is hard decision, as the product name doesn't uncover the quantity. For example: is the milk 1 Gallon? Is it one quarter?).\n",
    "\n",
    "Another option would be to simply remove these 2 products."
   ]
  },
  {
   "cell_type": "code",
   "execution_count": 18,
   "id": "25c8b6d5-09cb-4a6b-adde-b53e21fd9de5",
   "metadata": {},
   "outputs": [],
   "source": [
    "df_prods_clean_no_dups.loc[df_prods_clean_no_dups['product_id'] == 21553, 'prices'] = 1.49\n",
    "df_prods_clean_no_dups.loc[df_prods_clean_no_dups['product_id'] == 33664, 'prices'] = 9.99"
   ]
  },
  {
   "cell_type": "code",
   "execution_count": 19,
   "id": "773a78c8-4886-4eae-8d74-a8e5be7a39c0",
   "metadata": {},
   "outputs": [
    {
     "data": {
      "text/html": [
       "<div>\n",
       "<style scoped>\n",
       "    .dataframe tbody tr th:only-of-type {\n",
       "        vertical-align: middle;\n",
       "    }\n",
       "\n",
       "    .dataframe tbody tr th {\n",
       "        vertical-align: top;\n",
       "    }\n",
       "\n",
       "    .dataframe thead th {\n",
       "        text-align: right;\n",
       "    }\n",
       "</style>\n",
       "<table border=\"1\" class=\"dataframe\">\n",
       "  <thead>\n",
       "    <tr style=\"text-align: right;\">\n",
       "      <th></th>\n",
       "      <th>product_id</th>\n",
       "      <th>product_name</th>\n",
       "      <th>department_id</th>\n",
       "      <th>prices</th>\n",
       "    </tr>\n",
       "  </thead>\n",
       "  <tbody>\n",
       "    <tr>\n",
       "      <th>25580</th>\n",
       "      <td>25579</td>\n",
       "      <td>Naturally Smoked Trout Fillet</td>\n",
       "      <td>12</td>\n",
       "      <td>25.0</td>\n",
       "    </tr>\n",
       "    <tr>\n",
       "      <th>19392</th>\n",
       "      <td>19391</td>\n",
       "      <td>Turkey Breast Tenderloins</td>\n",
       "      <td>12</td>\n",
       "      <td>25.0</td>\n",
       "    </tr>\n",
       "    <tr>\n",
       "      <th>9020</th>\n",
       "      <td>9020</td>\n",
       "      <td>Boneless Skinless Chicken Thighs</td>\n",
       "      <td>12</td>\n",
       "      <td>25.0</td>\n",
       "    </tr>\n",
       "    <tr>\n",
       "      <th>40490</th>\n",
       "      <td>40486</td>\n",
       "      <td>Chicken Tenders</td>\n",
       "      <td>12</td>\n",
       "      <td>25.0</td>\n",
       "    </tr>\n",
       "    <tr>\n",
       "      <th>21468</th>\n",
       "      <td>21467</td>\n",
       "      <td>Wild Caught Raw Shrimp</td>\n",
       "      <td>12</td>\n",
       "      <td>25.0</td>\n",
       "    </tr>\n",
       "  </tbody>\n",
       "</table>\n",
       "</div>"
      ],
      "text/plain": [
       "       product_id                      product_name  department_id  prices\n",
       "25580       25579     Naturally Smoked Trout Fillet             12    25.0\n",
       "19392       19391         Turkey Breast Tenderloins             12    25.0\n",
       "9020         9020  Boneless Skinless Chicken Thighs             12    25.0\n",
       "40490       40486                   Chicken Tenders             12    25.0\n",
       "21468       21467            Wild Caught Raw Shrimp             12    25.0"
      ]
     },
     "execution_count": 19,
     "metadata": {},
     "output_type": "execute_result"
    }
   ],
   "source": [
    "df_sort_by_price = df_prods_clean_no_dups.sort_values('prices')\n",
    "df_sort_by_price.tail()"
   ]
  },
  {
   "cell_type": "code",
   "execution_count": 20,
   "id": "ab2eee22-7e14-4301-b369-aacfe3940a2f",
   "metadata": {},
   "outputs": [],
   "source": [
    "df_prods_clean_no_dups.to_csv(os.path.join(data_path,'2 Prepared Data', 'products_checked.csv'))"
   ]
  },
  {
   "cell_type": "markdown",
   "id": "c635ede4-b114-49e3-bd98-95b34100155e",
   "metadata": {},
   "source": [
    "# TASK"
   ]
  },
  {
   "cell_type": "markdown",
   "id": "2a19aa50-ca63-455b-86fd-5ed09a9d131e",
   "metadata": {},
   "source": [
    "### Step 2 - Run describe function over orders dataframe"
   ]
  },
  {
   "cell_type": "code",
   "execution_count": 21,
   "id": "afde11d8-36c2-4664-a5ae-270ac9338d0c",
   "metadata": {},
   "outputs": [
    {
     "data": {
      "text/html": [
       "<div>\n",
       "<style scoped>\n",
       "    .dataframe tbody tr th:only-of-type {\n",
       "        vertical-align: middle;\n",
       "    }\n",
       "\n",
       "    .dataframe tbody tr th {\n",
       "        vertical-align: top;\n",
       "    }\n",
       "\n",
       "    .dataframe thead th {\n",
       "        text-align: right;\n",
       "    }\n",
       "</style>\n",
       "<table border=\"1\" class=\"dataframe\">\n",
       "  <thead>\n",
       "    <tr style=\"text-align: right;\">\n",
       "      <th></th>\n",
       "      <th>order_id</th>\n",
       "      <th>user_id</th>\n",
       "      <th>customer_sequential_order_number</th>\n",
       "      <th>orders_day_of_week</th>\n",
       "      <th>order_hour_of_day</th>\n",
       "      <th>days_since_prior_order</th>\n",
       "    </tr>\n",
       "  </thead>\n",
       "  <tbody>\n",
       "    <tr>\n",
       "      <th>count</th>\n",
       "      <td>3.421083e+06</td>\n",
       "      <td>3.421083e+06</td>\n",
       "      <td>3.421083e+06</td>\n",
       "      <td>3.421083e+06</td>\n",
       "      <td>3.421083e+06</td>\n",
       "      <td>3.214874e+06</td>\n",
       "    </tr>\n",
       "    <tr>\n",
       "      <th>mean</th>\n",
       "      <td>1.710542e+06</td>\n",
       "      <td>1.029782e+05</td>\n",
       "      <td>1.715486e+01</td>\n",
       "      <td>2.776219e+00</td>\n",
       "      <td>1.345202e+01</td>\n",
       "      <td>1.111484e+01</td>\n",
       "    </tr>\n",
       "    <tr>\n",
       "      <th>std</th>\n",
       "      <td>9.875817e+05</td>\n",
       "      <td>5.953372e+04</td>\n",
       "      <td>1.773316e+01</td>\n",
       "      <td>2.046829e+00</td>\n",
       "      <td>4.226088e+00</td>\n",
       "      <td>9.206737e+00</td>\n",
       "    </tr>\n",
       "    <tr>\n",
       "      <th>min</th>\n",
       "      <td>1.000000e+00</td>\n",
       "      <td>1.000000e+00</td>\n",
       "      <td>1.000000e+00</td>\n",
       "      <td>0.000000e+00</td>\n",
       "      <td>0.000000e+00</td>\n",
       "      <td>0.000000e+00</td>\n",
       "    </tr>\n",
       "    <tr>\n",
       "      <th>25%</th>\n",
       "      <td>8.552715e+05</td>\n",
       "      <td>5.139400e+04</td>\n",
       "      <td>5.000000e+00</td>\n",
       "      <td>1.000000e+00</td>\n",
       "      <td>1.000000e+01</td>\n",
       "      <td>4.000000e+00</td>\n",
       "    </tr>\n",
       "    <tr>\n",
       "      <th>50%</th>\n",
       "      <td>1.710542e+06</td>\n",
       "      <td>1.026890e+05</td>\n",
       "      <td>1.100000e+01</td>\n",
       "      <td>3.000000e+00</td>\n",
       "      <td>1.300000e+01</td>\n",
       "      <td>7.000000e+00</td>\n",
       "    </tr>\n",
       "    <tr>\n",
       "      <th>75%</th>\n",
       "      <td>2.565812e+06</td>\n",
       "      <td>1.543850e+05</td>\n",
       "      <td>2.300000e+01</td>\n",
       "      <td>5.000000e+00</td>\n",
       "      <td>1.600000e+01</td>\n",
       "      <td>1.500000e+01</td>\n",
       "    </tr>\n",
       "    <tr>\n",
       "      <th>max</th>\n",
       "      <td>3.421083e+06</td>\n",
       "      <td>2.062090e+05</td>\n",
       "      <td>1.000000e+02</td>\n",
       "      <td>6.000000e+00</td>\n",
       "      <td>2.300000e+01</td>\n",
       "      <td>3.000000e+01</td>\n",
       "    </tr>\n",
       "  </tbody>\n",
       "</table>\n",
       "</div>"
      ],
      "text/plain": [
       "           order_id       user_id  customer_sequential_order_number  \\\n",
       "count  3.421083e+06  3.421083e+06                      3.421083e+06   \n",
       "mean   1.710542e+06  1.029782e+05                      1.715486e+01   \n",
       "std    9.875817e+05  5.953372e+04                      1.773316e+01   \n",
       "min    1.000000e+00  1.000000e+00                      1.000000e+00   \n",
       "25%    8.552715e+05  5.139400e+04                      5.000000e+00   \n",
       "50%    1.710542e+06  1.026890e+05                      1.100000e+01   \n",
       "75%    2.565812e+06  1.543850e+05                      2.300000e+01   \n",
       "max    3.421083e+06  2.062090e+05                      1.000000e+02   \n",
       "\n",
       "       orders_day_of_week  order_hour_of_day  days_since_prior_order  \n",
       "count        3.421083e+06       3.421083e+06            3.214874e+06  \n",
       "mean         2.776219e+00       1.345202e+01            1.111484e+01  \n",
       "std          2.046829e+00       4.226088e+00            9.206737e+00  \n",
       "min          0.000000e+00       0.000000e+00            0.000000e+00  \n",
       "25%          1.000000e+00       1.000000e+01            4.000000e+00  \n",
       "50%          3.000000e+00       1.300000e+01            7.000000e+00  \n",
       "75%          5.000000e+00       1.600000e+01            1.500000e+01  \n",
       "max          6.000000e+00       2.300000e+01            3.000000e+01  "
      ]
     },
     "execution_count": 21,
     "metadata": {},
     "output_type": "execute_result"
    }
   ],
   "source": [
    "df_orders.describe()"
   ]
  },
  {
   "cell_type": "markdown",
   "id": "429f0c43-8d13-48b0-a9f7-f15830315442",
   "metadata": {},
   "source": [
    "* **order_id** assumes values up to 3.421.083, which is according to what we saw as number of orders. Make sense.\n",
    "* **user_id** has no negatives, has values from 1 up to 206.209, which most likely is the number of existing customers (with orders recorded, of course)\n",
    "* **customer_sequential_order_number** assumes values from 1 up to 100. It means that the customer that placed more orders, placed 100 orders. It's plausible. To be noted that the average is only 11 (and the Q25 and Q75 are 5 and 23), which means this distribution is skewed, with many more customers with limited amount of orders, and few with many many orders. But in terms of consistency seems ok.\n",
    "* **orders_day_of_week** Values are ok, from 0 (Saturday) to 6 (Friday). Mean is exactly 3! with 3 millions records, might make sense...\n",
    "* **order_hour_of_day** minimum (0) and maximum (23) values make sense. Mean and quartiles show that half of the orders are made between 10 am and 4 pm (interval of 6 hours), while the other 18 hours of the day receive the remaining 50%. Everything looks fine in terms of consistency.\n",
    "* **days_since_prior_order** values vary from 0 (new order from a customer on the same day) up to 30 (took a month to make a new order). Nothing to suspect here as well"
   ]
  },
  {
   "cell_type": "markdown",
   "id": "f22c9c4f-08a6-4fcc-822d-c2f42d985eba",
   "metadata": {},
   "source": [
    "### Step 3 - verification of mixed datatypes in orders dataframe"
   ]
  },
  {
   "cell_type": "code",
   "execution_count": null,
   "id": "02bca4d7-69b4-477c-b6fe-b69cbad056e5",
   "metadata": {},
   "outputs": [],
   "source": [
    "#NOTE: following a warning while running the kernel, I've changed the function applymap to map, because the first is deprecated\n",
    "#Added a control flag to output something in case no columns are found\n",
    "\n",
    "col_with_mixed_types = False\n",
    "for col in df_orders.columns.tolist():\n",
    "  weird = (df_orders[[col]].map(type) != df_orders[[col]].iloc[0].apply(type)).any(axis = 1)\n",
    "  if len (df_orders[weird]) > 0:\n",
    "    print (col)\n",
    "    col_with_mixed_types = True\n",
    "if (not col_with_mixed_types):\n",
    "  print('No columns with mixed datatypes found')\n"
   ]
  },
  {
   "cell_type": "markdown",
   "id": "1eb829b7-57d4-438b-a69b-105e9bf0afff",
   "metadata": {},
   "source": [
    "### Step 5 - verification if there are missing values in orders dataframe"
   ]
  },
  {
   "cell_type": "code",
   "execution_count": null,
   "id": "54e0f747-2de7-4679-afff-e819c23738f1",
   "metadata": {},
   "outputs": [],
   "source": [
    "df_orders.isnull().sum()"
   ]
  },
  {
   "cell_type": "markdown",
   "id": "1095783c-9844-4643-9ce9-587f68578abb",
   "metadata": {},
   "source": [
    "It makes sense the number of Nulls found in *days_since_prior_order*. This number matched exactly the number of customers, and this is because on their very first order it can't be assigned any value (they haven't shopped with InstaCart yet).\n",
    "\n",
    "To change it a numeric value would be a mistake, and would jeopardize any numerical analysis I'll want to make with this field. when I want to perform statistics over this field, I should simply keep this in mind and filter out these values, for example making a subset where `customer_sequential_order_number != 1`."
   ]
  },
  {
   "cell_type": "markdown",
   "id": "a4d38c7b-3161-41a4-a3a9-b632dfa66eaf",
   "metadata": {},
   "source": [
    "### Step 6 - addressing missing values"
   ]
  },
  {
   "cell_type": "markdown",
   "id": "430f1210-51f5-4341-8d16-cce9f6db1fed",
   "metadata": {},
   "source": [
    "As explained above, I won't do any transformation. When it comes to operate over this column, I'll filter out the `Nan`."
   ]
  },
  {
   "cell_type": "markdown",
   "id": "b5b01897-7c32-4d3d-8936-3930a73892ad",
   "metadata": {},
   "source": [
    "### Step 7 - verification of existence of duplicates in orders dataframe"
   ]
  },
  {
   "cell_type": "code",
   "execution_count": null,
   "id": "7f07c574-0130-4f5d-951d-89d6f9728516",
   "metadata": {},
   "outputs": [],
   "source": [
    "df_dup_orders = df_orders[df_orders.duplicated()]\n",
    "df_dup_orders"
   ]
  },
  {
   "cell_type": "markdown",
   "id": "123c6a49-29f2-40cc-b822-f33cacac224f",
   "metadata": {},
   "source": [
    "No duplicated orders found!"
   ]
  },
  {
   "cell_type": "markdown",
   "id": "0ccc8843-57e3-4826-93cd-d7b6defe91e8",
   "metadata": {},
   "source": [
    "### Step 8 - addressing duplicate values"
   ]
  },
  {
   "cell_type": "markdown",
   "id": "2dd90014-98f0-4376-b061-5f8b54b5bfb0",
   "metadata": {},
   "source": [
    "N/A"
   ]
  },
  {
   "cell_type": "markdown",
   "id": "b7dface0-4cd1-46fe-a253-12f657ff9f67",
   "metadata": {},
   "source": [
    "### Step 9 - exporting cleaned datasets"
   ]
  },
  {
   "cell_type": "markdown",
   "id": "13ddb97d-1ca3-4859-89a9-d1ecb40053d4",
   "metadata": {},
   "source": [
    "**NOTE**: Products dataframe was exported by the end of the Exercise Walkthrough"
   ]
  },
  {
   "cell_type": "code",
   "execution_count": null,
   "id": "6bba72a6-5f36-4afe-b901-482576ceee58",
   "metadata": {},
   "outputs": [],
   "source": [
    "df_orders.to_csv(os.path.join(data_path,'2 Prepared Data', 'orders_checked.csv'), index = False)"
   ]
  },
  {
   "cell_type": "code",
   "execution_count": null,
   "id": "23b832bc-4e37-427d-963e-b233abe0debc",
   "metadata": {},
   "outputs": [],
   "source": []
  }
 ],
 "metadata": {
  "kernelspec": {
   "display_name": "Python 3 (ipykernel)",
   "language": "python",
   "name": "python3"
  },
  "language_info": {
   "codemirror_mode": {
    "name": "ipython",
    "version": 3
   },
   "file_extension": ".py",
   "mimetype": "text/x-python",
   "name": "python",
   "nbconvert_exporter": "python",
   "pygments_lexer": "ipython3",
   "version": "3.12.7"
  }
 },
 "nbformat": 4,
 "nbformat_minor": 5
}
