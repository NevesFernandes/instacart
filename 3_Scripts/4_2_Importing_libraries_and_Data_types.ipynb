{
 "cells": [
  {
   "cell_type": "markdown",
   "id": "516e10a8-8b76-4001-98d9-f113dcd4dc9b",
   "metadata": {},
   "source": [
    "# 01 Importing Libraries"
   ]
  },
  {
   "cell_type": "code",
   "execution_count": 9,
   "id": "3626906a-7804-47b6-a7bc-104edb2241c0",
   "metadata": {},
   "outputs": [],
   "source": [
    "#importing libraries\n",
    "import pandas as pd\n",
    "import numpy as np\n",
    "import os"
   ]
  },
  {
   "cell_type": "markdown",
   "id": "43241f87-3806-4496-bb50-ba7aa61490c2",
   "metadata": {},
   "source": [
    "# 02 Data types"
   ]
  },
  {
   "cell_type": "code",
   "execution_count": 10,
   "id": "c2f479bf-a6cb-42ba-909f-b77c72814a16",
   "metadata": {},
   "outputs": [
    {
     "name": "stdout",
     "output_type": "stream",
     "text": [
      "100\n",
      "100.0\n",
      "100\n"
     ]
    }
   ],
   "source": [
    "#Step 7\n",
    "one_hundred = 50 *2\n",
    "again_one_hundred = 10000 / 100\n",
    "another_time_one_hundred = 90 + 10\n",
    "print(one_hundred)\n",
    "print(again_one_hundred)\n",
    "print(another_time_one_hundred)"
   ]
  },
  {
   "cell_type": "code",
   "execution_count": 15,
   "id": "f019f830-09a7-49e4-8790-d47e19ef79fa",
   "metadata": {},
   "outputs": [
    {
     "name": "stdout",
     "output_type": "stream",
     "text": [
      "24.675324675324674\n"
     ]
    }
   ],
   "source": [
    "#Step 8\n",
    "numerator = 1900\n",
    "denominator = 77\n",
    "print(numerator/denominator)"
   ]
  },
  {
   "cell_type": "code",
   "execution_count": 12,
   "id": "fb7fa146-e2da-462a-97c6-7cf550029124",
   "metadata": {},
   "outputs": [
    {
     "name": "stdout",
     "output_type": "stream",
     "text": [
      "data\n"
     ]
    }
   ],
   "source": [
    "#Step 9\n",
    "word = 'da'+'ta'\n",
    "print(word)"
   ]
  },
  {
   "cell_type": "code",
   "execution_count": 13,
   "id": "59dc8196-c64c-498a-9932-ee99ffdef28b",
   "metadata": {},
   "outputs": [
    {
     "name": "stdout",
     "output_type": "stream",
     "text": [
      "Hello, my name is Vasco.\n",
      "I'm studying to become a Data Analyst!\n"
     ]
    }
   ],
   "source": [
    "#Step 10\n",
    "sentence = 'Hello, my name is Vasco.' + '\\nI\\'m studying to become a Data Analyst!'\n",
    "print(sentence)"
   ]
  },
  {
   "cell_type": "code",
   "execution_count": 14,
   "id": "4f0be430-771a-4fbb-8c68-42bcf4982187",
   "metadata": {},
   "outputs": [
    {
     "name": "stdout",
     "output_type": "stream",
     "text": [
      "datadatadatadatadatadatadatadatadatadatadatadatadatadatadatadatadatadatadatadatadatadatadatadatadatadatadatadatadatadatadatadatadatadatadatadatadatadatadatadatadatadatadatadatadatadatadatadatadatadatadatadatadatadatadatadatadatadatadatadatadatadatadatadatadatadatadatadatadatadatadatadatadatadatadatadatadatadatadatadatadatadatadatadatadatadatadatadatadatadatadatadatadatadatadatadatadatadatadatadata\n"
     ]
    }
   ],
   "source": [
    "#Step 12 - Bonus Task\n",
    "print (word*100)"
   ]
  },
  {
   "cell_type": "code",
   "execution_count": null,
   "id": "8c812c91-ba24-4164-8d91-32fb56919f28",
   "metadata": {},
   "outputs": [],
   "source": []
  }
 ],
 "metadata": {
  "kernelspec": {
   "display_name": "Python 3 (ipykernel)",
   "language": "python",
   "name": "python3"
  },
  "language_info": {
   "codemirror_mode": {
    "name": "ipython",
    "version": 3
   },
   "file_extension": ".py",
   "mimetype": "text/x-python",
   "name": "python",
   "nbconvert_exporter": "python",
   "pygments_lexer": "ipython3",
   "version": "3.12.7"
  }
 },
 "nbformat": 4,
 "nbformat_minor": 5
}
