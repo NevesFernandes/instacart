{
 "cells": [
  {
   "cell_type": "markdown",
   "id": "32a624e8-5a00-4df2-992c-dd810fc7968b",
   "metadata": {},
   "source": [
    "### Step 1 - Create a new notebook for this task. Be sure to import the relevant libraries, along with your dataframe, which should include your newly derived columns from the previous Exercise."
   ]
  },
  {
   "cell_type": "code",
   "execution_count": 1,
   "id": "e226c27a-6beb-415d-854f-d1618de97fe8",
   "metadata": {},
   "outputs": [],
   "source": [
    "# initial setup, import, defs, loading dataframe\n",
    "\n",
    "import pandas as pd\n",
    "import numpy as np\n",
    "import os\n",
    "data_path = r'/home/nevesfernandes/20250701 Instacart Basket Analysis/2 Data/'\n",
    "df_orders_products_merged = pd.read_pickle(os.path.join(data_path, '2 Prepared Data', 'orders_products_labeled.pkl'))"
   ]
  },
  {
   "cell_type": "code",
   "execution_count": 2,
   "id": "11d608ca-2585-48f6-8474-dfb17257c56a",
   "metadata": {},
   "outputs": [
    {
     "data": {
      "text/html": [
       "<div>\n",
       "<style scoped>\n",
       "    .dataframe tbody tr th:only-of-type {\n",
       "        vertical-align: middle;\n",
       "    }\n",
       "\n",
       "    .dataframe tbody tr th {\n",
       "        vertical-align: top;\n",
       "    }\n",
       "\n",
       "    .dataframe thead th {\n",
       "        text-align: right;\n",
       "    }\n",
       "</style>\n",
       "<table border=\"1\" class=\"dataframe\">\n",
       "  <thead>\n",
       "    <tr style=\"text-align: right;\">\n",
       "      <th></th>\n",
       "      <th>order_id</th>\n",
       "      <th>user_id</th>\n",
       "      <th>customer_sequential_order_number</th>\n",
       "      <th>orders_day_of_week</th>\n",
       "      <th>order_hour_of_day</th>\n",
       "      <th>days_since_prior_order</th>\n",
       "      <th>product_id</th>\n",
       "      <th>Unnamed: 0</th>\n",
       "      <th>product_name</th>\n",
       "      <th>department_id</th>\n",
       "      <th>prices</th>\n",
       "      <th>price_range_loc</th>\n",
       "      <th>busy</th>\n",
       "      <th>busy_days</th>\n",
       "      <th>busiest_period_of_day</th>\n",
       "    </tr>\n",
       "  </thead>\n",
       "  <tbody>\n",
       "    <tr>\n",
       "      <th>0</th>\n",
       "      <td>2539329</td>\n",
       "      <td>1</td>\n",
       "      <td>1</td>\n",
       "      <td>2</td>\n",
       "      <td>8</td>\n",
       "      <td>&lt;NA&gt;</td>\n",
       "      <td>196</td>\n",
       "      <td>195</td>\n",
       "      <td>Soda</td>\n",
       "      <td>7</td>\n",
       "      <td>9.0</td>\n",
       "      <td>2</td>\n",
       "      <td>2</td>\n",
       "      <td>2</td>\n",
       "      <td>2</td>\n",
       "    </tr>\n",
       "    <tr>\n",
       "      <th>1</th>\n",
       "      <td>2539329</td>\n",
       "      <td>1</td>\n",
       "      <td>1</td>\n",
       "      <td>2</td>\n",
       "      <td>8</td>\n",
       "      <td>&lt;NA&gt;</td>\n",
       "      <td>14084</td>\n",
       "      <td>14084</td>\n",
       "      <td>Organic Unsweetened Vanilla Almond Milk</td>\n",
       "      <td>16</td>\n",
       "      <td>12.5</td>\n",
       "      <td>2</td>\n",
       "      <td>2</td>\n",
       "      <td>2</td>\n",
       "      <td>2</td>\n",
       "    </tr>\n",
       "    <tr>\n",
       "      <th>2</th>\n",
       "      <td>2539329</td>\n",
       "      <td>1</td>\n",
       "      <td>1</td>\n",
       "      <td>2</td>\n",
       "      <td>8</td>\n",
       "      <td>&lt;NA&gt;</td>\n",
       "      <td>12427</td>\n",
       "      <td>12427</td>\n",
       "      <td>Original Beef Jerky</td>\n",
       "      <td>19</td>\n",
       "      <td>4.4</td>\n",
       "      <td>1</td>\n",
       "      <td>2</td>\n",
       "      <td>2</td>\n",
       "      <td>2</td>\n",
       "    </tr>\n",
       "    <tr>\n",
       "      <th>3</th>\n",
       "      <td>2539329</td>\n",
       "      <td>1</td>\n",
       "      <td>1</td>\n",
       "      <td>2</td>\n",
       "      <td>8</td>\n",
       "      <td>&lt;NA&gt;</td>\n",
       "      <td>26088</td>\n",
       "      <td>26089</td>\n",
       "      <td>Aged White Cheddar Popcorn</td>\n",
       "      <td>19</td>\n",
       "      <td>4.7</td>\n",
       "      <td>1</td>\n",
       "      <td>2</td>\n",
       "      <td>2</td>\n",
       "      <td>2</td>\n",
       "    </tr>\n",
       "    <tr>\n",
       "      <th>4</th>\n",
       "      <td>2539329</td>\n",
       "      <td>1</td>\n",
       "      <td>1</td>\n",
       "      <td>2</td>\n",
       "      <td>8</td>\n",
       "      <td>&lt;NA&gt;</td>\n",
       "      <td>26405</td>\n",
       "      <td>26406</td>\n",
       "      <td>XL Pick-A-Size Paper Towel Rolls</td>\n",
       "      <td>17</td>\n",
       "      <td>1.0</td>\n",
       "      <td>1</td>\n",
       "      <td>2</td>\n",
       "      <td>2</td>\n",
       "      <td>2</td>\n",
       "    </tr>\n",
       "  </tbody>\n",
       "</table>\n",
       "</div>"
      ],
      "text/plain": [
       "   order_id  user_id  customer_sequential_order_number  orders_day_of_week  \\\n",
       "0   2539329        1                                 1                   2   \n",
       "1   2539329        1                                 1                   2   \n",
       "2   2539329        1                                 1                   2   \n",
       "3   2539329        1                                 1                   2   \n",
       "4   2539329        1                                 1                   2   \n",
       "\n",
       "   order_hour_of_day  days_since_prior_order  product_id  Unnamed: 0  \\\n",
       "0                  8                    <NA>         196         195   \n",
       "1                  8                    <NA>       14084       14084   \n",
       "2                  8                    <NA>       12427       12427   \n",
       "3                  8                    <NA>       26088       26089   \n",
       "4                  8                    <NA>       26405       26406   \n",
       "\n",
       "                              product_name  department_id  prices  \\\n",
       "0                                     Soda              7     9.0   \n",
       "1  Organic Unsweetened Vanilla Almond Milk             16    12.5   \n",
       "2                      Original Beef Jerky             19     4.4   \n",
       "3               Aged White Cheddar Popcorn             19     4.7   \n",
       "4         XL Pick-A-Size Paper Towel Rolls             17     1.0   \n",
       "\n",
       "   price_range_loc  busy  busy_days  busiest_period_of_day  \n",
       "0                2     2          2                      2  \n",
       "1                2     2          2                      2  \n",
       "2                1     2          2                      2  \n",
       "3                1     2          2                      2  \n",
       "4                1     2          2                      2  "
      ]
     },
     "execution_count": 2,
     "metadata": {},
     "output_type": "execute_result"
    }
   ],
   "source": [
    "df_orders_products_merged.head()"
   ]
  },
  {
   "cell_type": "code",
   "execution_count": 3,
   "id": "26fd64f5-1c05-422b-b7f0-0664315143b1",
   "metadata": {},
   "outputs": [],
   "source": [
    "#dropping Unnamed: 0 column\n",
    "df_orders_products_merged.drop('Unnamed: 0', axis=1, inplace=True)"
   ]
  },
  {
   "cell_type": "markdown",
   "id": "9702953a-53d4-4e19-96e6-5ec7aba60984",
   "metadata": {},
   "source": [
    "### Step 2 - In this Exercise, you learned how to find the aggregated mean of the “order_number” column grouped by “department_id” for a subset of your dataframe. Now, repeat this process for the entire dataframe."
   ]
  },
  {
   "cell_type": "code",
   "execution_count": 4,
   "id": "264c7cc5-98c4-400a-ae47-fcb30949bc05",
   "metadata": {},
   "outputs": [
    {
     "data": {
      "text/html": [
       "<div>\n",
       "<style scoped>\n",
       "    .dataframe tbody tr th:only-of-type {\n",
       "        vertical-align: middle;\n",
       "    }\n",
       "\n",
       "    .dataframe tbody tr th {\n",
       "        vertical-align: top;\n",
       "    }\n",
       "\n",
       "    .dataframe thead tr th {\n",
       "        text-align: left;\n",
       "    }\n",
       "\n",
       "    .dataframe thead tr:last-of-type th {\n",
       "        text-align: right;\n",
       "    }\n",
       "</style>\n",
       "<table border=\"1\" class=\"dataframe\">\n",
       "  <thead>\n",
       "    <tr>\n",
       "      <th></th>\n",
       "      <th>customer_sequential_order_number</th>\n",
       "    </tr>\n",
       "    <tr>\n",
       "      <th></th>\n",
       "      <th>mean</th>\n",
       "    </tr>\n",
       "    <tr>\n",
       "      <th>department_id</th>\n",
       "      <th></th>\n",
       "    </tr>\n",
       "  </thead>\n",
       "  <tbody>\n",
       "    <tr>\n",
       "      <th>1</th>\n",
       "      <td>15.457838</td>\n",
       "    </tr>\n",
       "    <tr>\n",
       "      <th>2</th>\n",
       "      <td>17.277920</td>\n",
       "    </tr>\n",
       "    <tr>\n",
       "      <th>3</th>\n",
       "      <td>17.170395</td>\n",
       "    </tr>\n",
       "    <tr>\n",
       "      <th>4</th>\n",
       "      <td>17.811403</td>\n",
       "    </tr>\n",
       "    <tr>\n",
       "      <th>5</th>\n",
       "      <td>15.215751</td>\n",
       "    </tr>\n",
       "    <tr>\n",
       "      <th>6</th>\n",
       "      <td>16.439806</td>\n",
       "    </tr>\n",
       "    <tr>\n",
       "      <th>7</th>\n",
       "      <td>17.225814</td>\n",
       "    </tr>\n",
       "    <tr>\n",
       "      <th>8</th>\n",
       "      <td>15.340650</td>\n",
       "    </tr>\n",
       "    <tr>\n",
       "      <th>9</th>\n",
       "      <td>15.895474</td>\n",
       "    </tr>\n",
       "    <tr>\n",
       "      <th>10</th>\n",
       "      <td>20.197148</td>\n",
       "    </tr>\n",
       "    <tr>\n",
       "      <th>11</th>\n",
       "      <td>16.176945</td>\n",
       "    </tr>\n",
       "    <tr>\n",
       "      <th>12</th>\n",
       "      <td>15.887671</td>\n",
       "    </tr>\n",
       "    <tr>\n",
       "      <th>13</th>\n",
       "      <td>16.583536</td>\n",
       "    </tr>\n",
       "    <tr>\n",
       "      <th>14</th>\n",
       "      <td>16.773669</td>\n",
       "    </tr>\n",
       "    <tr>\n",
       "      <th>15</th>\n",
       "      <td>16.165037</td>\n",
       "    </tr>\n",
       "    <tr>\n",
       "      <th>16</th>\n",
       "      <td>17.666284</td>\n",
       "    </tr>\n",
       "    <tr>\n",
       "      <th>17</th>\n",
       "      <td>15.694469</td>\n",
       "    </tr>\n",
       "    <tr>\n",
       "      <th>18</th>\n",
       "      <td>19.310514</td>\n",
       "    </tr>\n",
       "    <tr>\n",
       "      <th>19</th>\n",
       "      <td>17.177343</td>\n",
       "    </tr>\n",
       "    <tr>\n",
       "      <th>20</th>\n",
       "      <td>16.473447</td>\n",
       "    </tr>\n",
       "    <tr>\n",
       "      <th>21</th>\n",
       "      <td>22.902379</td>\n",
       "    </tr>\n",
       "  </tbody>\n",
       "</table>\n",
       "</div>"
      ],
      "text/plain": [
       "              customer_sequential_order_number\n",
       "                                          mean\n",
       "department_id                                 \n",
       "1                                    15.457838\n",
       "2                                    17.277920\n",
       "3                                    17.170395\n",
       "4                                    17.811403\n",
       "5                                    15.215751\n",
       "6                                    16.439806\n",
       "7                                    17.225814\n",
       "8                                    15.340650\n",
       "9                                    15.895474\n",
       "10                                   20.197148\n",
       "11                                   16.176945\n",
       "12                                   15.887671\n",
       "13                                   16.583536\n",
       "14                                   16.773669\n",
       "15                                   16.165037\n",
       "16                                   17.666284\n",
       "17                                   15.694469\n",
       "18                                   19.310514\n",
       "19                                   17.177343\n",
       "20                                   16.473447\n",
       "21                                   22.902379"
      ]
     },
     "execution_count": 4,
     "metadata": {},
     "output_type": "execute_result"
    }
   ],
   "source": [
    "df_orders_products_merged.groupby('department_id').agg({'customer_sequential_order_number': ['mean']})"
   ]
  },
  {
   "cell_type": "markdown",
   "id": "b67a641e-75be-432e-9e98-3e649712e8c3",
   "metadata": {},
   "source": [
    "### Step 3 - Analyze the result. How do the results for the entire dataframe differ from those of the subset? Include your comments in a markdown cell below the executed code."
   ]
  },
  {
   "cell_type": "markdown",
   "id": "46760f33-9be6-4431-804f-ea37fb6c9098",
   "metadata": {},
   "source": [
    "Results are similar, some departments show average values a bit higher, other departments a bit lower.\n",
    "\n",
    "This is expected. What we did previously was to make a sample of 1 million records out of 32 million (the entire \"population\"). In statistical terms, assuming that the first million records are random enough, we could run a hipothesis test (with a z-test) for each department to check if the samples are part of a population. z-test is more appropriate here, because we could know the standard deviation of the population."
   ]
  },
  {
   "cell_type": "markdown",
   "id": "1e8fd8cd-d000-4cdd-8d41-0f5a82ea99fb",
   "metadata": {},
   "source": [
    "### Step 4 - Follow the instructions in the Exercise for creating a loyalty flag for existing customers using the transform() and loc() functions."
   ]
  },
  {
   "cell_type": "code",
   "execution_count": 5,
   "id": "ab65775b-1942-47bc-8656-6217b877e08d",
   "metadata": {},
   "outputs": [],
   "source": [
    "#first, we create a column called max_order that will store the maximum number of orders that each customer did\n",
    "df_orders_products_merged['max_order'] = df_orders_products_merged.groupby(['user_id'])['customer_sequential_order_number'].transform('max')"
   ]
  },
  {
   "cell_type": "markdown",
   "id": "2941ac48-5780-4f08-8ed5-4537b0ff3043",
   "metadata": {},
   "source": [
    "**Note**: in order to avoid a warning that was showing up, I've used as recommended the string `'max'` instead of `np.max`, as it was in the exercise"
   ]
  },
  {
   "cell_type": "code",
   "execution_count": 6,
   "id": "49665e49-5619-4b81-ac64-22553a54c56f",
   "metadata": {},
   "outputs": [],
   "source": [
    "#using loc method to create loyalty flag\n",
    "#The number convention here will be as described below. This number convention is to save memory. \n",
    "#Any future visualizations should have this for reference, to display something understandable to the user.\n",
    "# 1 = new customer\n",
    "# 2 = regular customer\n",
    "# 3 = Loyal customer\n",
    "\n",
    "df_orders_products_merged.loc[df_orders_products_merged['max_order'] > 40, 'loyalty_flag'] = 3\n",
    "df_orders_products_merged.loc[(df_orders_products_merged['max_order'] <= 40) & (df_orders_products_merged['max_order'] > 10), 'loyalty_flag'] = 2\n",
    "df_orders_products_merged.loc[df_orders_products_merged['max_order'] <= 10, 'loyalty_flag'] = 1"
   ]
  },
  {
   "cell_type": "code",
   "execution_count": 7,
   "id": "9b064ca3-10f9-4585-8ba1-5ee332b905dd",
   "metadata": {},
   "outputs": [],
   "source": [
    "#changing datatype to effectively save memory (field was a float64)\n",
    "df_orders_products_merged['loyalty_flag'] = df_orders_products_merged['loyalty_flag'].astype('int8')"
   ]
  },
  {
   "cell_type": "markdown",
   "id": "ceed8409-c7e6-4d8e-9861-0004267e8027",
   "metadata": {},
   "source": [
    "### Step 5 - The marketing team at Instacart wants to know whether there’s a difference between the spending habits of the three types of customers you identified. Use the loyalty flag you created and check the basic statistics of the product prices for each loyalty category (Loyal Customer, Regular Customer, and New Customer). What you’re trying to determine is whether the prices of products purchased by loyal customers differ from those purchased by regular or new customers."
   ]
  },
  {
   "cell_type": "code",
   "execution_count": 8,
   "id": "24223729-869e-4295-ac64-706d35e7d6c3",
   "metadata": {},
   "outputs": [],
   "source": [
    "#grouping records by loyalty flag and calculating average prices, used as_index flag as False because I want to rename values.\n",
    "df_grouped = df_orders_products_merged.groupby(['loyalty_flag'],as_index=False).mean('prices')"
   ]
  },
  {
   "cell_type": "code",
   "execution_count": 9,
   "id": "938df3c8-dea1-443a-9fb3-06411e696bf7",
   "metadata": {},
   "outputs": [],
   "source": [
    "#renaming rows to present meaningful stuff\n",
    "df_grouped['loyalty_flag'] = df_grouped['loyalty_flag'].replace({1:\"New customer\",2:\"Regular Customer\",3:\"Loyal Customer\"})"
   ]
  },
  {
   "cell_type": "code",
   "execution_count": 10,
   "id": "35d3aee3-d77d-430b-9af3-f67ea921baff",
   "metadata": {},
   "outputs": [],
   "source": [
    "#renaming prices column to something more meaningful\n",
    "df_grouped.rename(columns={'prices':'average_price'},inplace = True)"
   ]
  },
  {
   "cell_type": "code",
   "execution_count": 11,
   "id": "284e43f5-0a76-4c86-b199-9d172b6991be",
   "metadata": {},
   "outputs": [
    {
     "data": {
      "text/html": [
       "<style type=\"text/css\">\n",
       "</style>\n",
       "<table id=\"T_1fabb\">\n",
       "  <thead>\n",
       "    <tr>\n",
       "      <th id=\"T_1fabb_level0_col0\" class=\"col_heading level0 col0\" >loyalty_flag</th>\n",
       "      <th id=\"T_1fabb_level0_col1\" class=\"col_heading level0 col1\" >average_price</th>\n",
       "    </tr>\n",
       "  </thead>\n",
       "  <tbody>\n",
       "    <tr>\n",
       "      <td id=\"T_1fabb_row0_col0\" class=\"data row0 col0\" >New customer</td>\n",
       "      <td id=\"T_1fabb_row0_col1\" class=\"data row0 col1\" >7.800373</td>\n",
       "    </tr>\n",
       "    <tr>\n",
       "      <td id=\"T_1fabb_row1_col0\" class=\"data row1 col0\" >Regular Customer</td>\n",
       "      <td id=\"T_1fabb_row1_col1\" class=\"data row1 col1\" >7.797473</td>\n",
       "    </tr>\n",
       "    <tr>\n",
       "      <td id=\"T_1fabb_row2_col0\" class=\"data row2 col0\" >Loyal Customer</td>\n",
       "      <td id=\"T_1fabb_row2_col1\" class=\"data row2 col1\" >7.772843</td>\n",
       "    </tr>\n",
       "  </tbody>\n",
       "</table>\n"
      ],
      "text/plain": [
       "<pandas.io.formats.style.Styler at 0x7edfd26540>"
      ]
     },
     "execution_count": 11,
     "metadata": {},
     "output_type": "execute_result"
    }
   ],
   "source": [
    "#presenting results, hiding a meaningless index (0,1,2)\n",
    "df_grouped[['loyalty_flag','average_price']].style.hide(axis=\"index\")"
   ]
  },
  {
   "cell_type": "markdown",
   "id": "861c0c2e-5d64-41d1-8227-8b3f8addf288",
   "metadata": {},
   "source": [
    "There's virtually no difference between averages (the loyal customer average is even a tiny bit lower than others).\n",
    "\n",
    "This followed literally the directions of the task, although we could think of alternative metrics to check for differences in \"Spending Habits\" between types of customers."
   ]
  },
  {
   "cell_type": "markdown",
   "id": "ab69de8c-cd1f-4127-9f8e-27289d2d4da4",
   "metadata": {},
   "source": [
    "### Step 6 - The team now wants to target different types of spenders in their marketing campaigns. This can be achieved by looking at the prices of the items people are buying. Create a spending flag for each user based on the average price across all their orders using the following criteria:\n",
    "If the mean of the prices of products purchased by a user is lower than 10, then flag them as a “Low spender.”\n",
    "If the mean of the prices of products purchased by a user is higher than or equal to 10, then flag them as a “High spender.”"
   ]
  },
  {
   "cell_type": "code",
   "execution_count": 12,
   "id": "a2f21524-bbcf-4ce4-b72f-edc657533947",
   "metadata": {},
   "outputs": [],
   "source": [
    "#creating a column with the average price for all goods purchased by each customer\n",
    "df_orders_products_merged['avg_price_per_user'] = df_orders_products_merged.groupby(['user_id'])['prices'].transform('mean')"
   ]
  },
  {
   "cell_type": "code",
   "execution_count": 13,
   "id": "8a83d855-9798-4bde-9534-151a3d6ac02a",
   "metadata": {},
   "outputs": [],
   "source": [
    "#using loc method to create high spender flag\n",
    "#Since flag can only take 2 possible values, we'll use boolean here. This convention is to save memory. \n",
    "#Any future visualizations should have this for reference, to display something understandable to the user.\n",
    "# True = high spender\n",
    "# False = low spender\n",
    "\n",
    "df_orders_products_merged.loc[df_orders_products_merged['avg_price_per_user'] >= 10, 'high_spender_flag'] = True\n",
    "df_orders_products_merged.loc[df_orders_products_merged['avg_price_per_user'] < 10, 'high_spender_flag'] = False"
   ]
  },
  {
   "cell_type": "code",
   "execution_count": 14,
   "id": "4a5cdbfd-f519-44da-8552-8b5c1819d754",
   "metadata": {},
   "outputs": [],
   "source": [
    "#changing datatype to effectively save memory (field was an object)\n",
    "df_orders_products_merged['high_spender_flag'] = df_orders_products_merged['high_spender_flag'].astype('bool')"
   ]
  },
  {
   "cell_type": "markdown",
   "id": "793f999f-e314-4ffb-9b7b-c8622bc2d17f",
   "metadata": {},
   "source": [
    "While it's not requested in the exercise, I'm curious about how many spenders of each type we have"
   ]
  },
  {
   "cell_type": "code",
   "execution_count": 15,
   "id": "327077c3-218b-4d5b-8d24-a18735ccf130",
   "metadata": {},
   "outputs": [],
   "source": [
    "#grouping records by spender type, and counting how many unique users we have\n",
    "df_grouped = df_orders_products_merged.groupby(['high_spender_flag'], as_index = False)['user_id'].nunique()"
   ]
  },
  {
   "cell_type": "code",
   "execution_count": 16,
   "id": "97e9b013-5b5e-4541-bdcf-5377e633f8d8",
   "metadata": {},
   "outputs": [],
   "source": [
    "#renaming rows to present meaningful stuff\n",
    "df_grouped['high_spender_flag'] = df_grouped['high_spender_flag'].replace({True:\"High Spender\",False:\"Low Spender\"})"
   ]
  },
  {
   "cell_type": "code",
   "execution_count": 17,
   "id": "9e5501ac-53da-4445-bc77-69d999d2c11e",
   "metadata": {},
   "outputs": [],
   "source": [
    "#renaming user_id column to something more meaningful\n",
    "df_grouped.rename(columns={'user_id':'number_of_customers'},inplace = True)"
   ]
  },
  {
   "cell_type": "code",
   "execution_count": 18,
   "id": "619827ad-e2cb-4063-b6ae-cf6a1c5a219f",
   "metadata": {},
   "outputs": [
    {
     "data": {
      "text/html": [
       "<style type=\"text/css\">\n",
       "</style>\n",
       "<table id=\"T_3895c\">\n",
       "  <thead>\n",
       "    <tr>\n",
       "      <th id=\"T_3895c_level0_col0\" class=\"col_heading level0 col0\" >high_spender_flag</th>\n",
       "      <th id=\"T_3895c_level0_col1\" class=\"col_heading level0 col1\" >number_of_customers</th>\n",
       "    </tr>\n",
       "  </thead>\n",
       "  <tbody>\n",
       "    <tr>\n",
       "      <td id=\"T_3895c_row0_col0\" class=\"data row0 col0\" >Low Spender</td>\n",
       "      <td id=\"T_3895c_row0_col1\" class=\"data row0 col1\" >202822</td>\n",
       "    </tr>\n",
       "    <tr>\n",
       "      <td id=\"T_3895c_row1_col0\" class=\"data row1 col0\" >High Spender</td>\n",
       "      <td id=\"T_3895c_row1_col1\" class=\"data row1 col1\" >3387</td>\n",
       "    </tr>\n",
       "  </tbody>\n",
       "</table>\n"
      ],
      "text/plain": [
       "<pandas.io.formats.style.Styler at 0x7edfb46540>"
      ]
     },
     "execution_count": 18,
     "metadata": {},
     "output_type": "execute_result"
    }
   ],
   "source": [
    "#presenting results, hiding a meaningless index (0,1)\n",
    "df_grouped[['high_spender_flag','number_of_customers']].style.hide(axis=\"index\")"
   ]
  },
  {
   "cell_type": "markdown",
   "id": "401d16d4-f74e-495f-8a44-e166cd39256e",
   "metadata": {},
   "source": [
    "### Step 7 - In order to send relevant notifications to users within the app (for instance, asking users if they want to buy the same item again), the Instacart team wants you to determine frequent versus non-frequent customers. Create an order frequency flag that marks the regularity of a user’s ordering behavior according to the median in the “days_since_prior_order” column. The criteria for the flag should be as follows:\n",
    "* If the median of “days_since_prior_order” is higher than 20, then the customer should be labeled a “Non-frequent customer.”\n",
    "* If the median is higher than 10 and lower than or equal to 20, then the customer should be labeled a “Regular customer.”\n",
    "* If the median is lower than or equal to 10, then the customer should be labeled a “Frequent customer.”"
   ]
  },
  {
   "cell_type": "code",
   "execution_count": 19,
   "id": "a7b1328e-b1ff-41f5-90df-d0580f588ea5",
   "metadata": {},
   "outputs": [],
   "source": [
    "#creating a column with the median values for days_since_prior_order for each customer\n",
    "#To be noted here that by default, pandas ignores NaN when calculating median, which is in our case the desired behaviour\n",
    "\n",
    "df_orders_products_merged['median_days_between_orders'] = df_orders_products_merged.groupby(['user_id'])['days_since_prior_order'].transform('median')"
   ]
  },
  {
   "cell_type": "code",
   "execution_count": 20,
   "id": "fb14a386-b894-402f-a025-499b41e0e1b1",
   "metadata": {},
   "outputs": [],
   "source": [
    "#using loc method to create frequency flag. note that NaN on the median means that the customer never returned,\n",
    "#therefore,\n",
    "#The number convention here will be as described below. This number convention is to save memory. \n",
    "#Any future visualizations should have this for reference, to display something understandable to the user.\n",
    "# 1 = Non-frequent customer\n",
    "# 2 = Regular customer\n",
    "# 3 = Frequent customer\n",
    "\n",
    "df_orders_products_merged.loc[(df_orders_products_merged['median_days_between_orders'] > 20) | (df_orders_products_merged['median_days_between_orders'].isnull()), 'frequency_flag'] = 1\n",
    "df_orders_products_merged.loc[(df_orders_products_merged['median_days_between_orders'] <= 20) & (df_orders_products_merged['median_days_between_orders'] > 10), 'frequency_flag'] = 2\n",
    "df_orders_products_merged.loc[df_orders_products_merged['median_days_between_orders'] <= 10, 'frequency_flag'] = 3"
   ]
  },
  {
   "cell_type": "code",
   "execution_count": 21,
   "id": "bfbcd71a-1ed0-4ba9-a5dc-f21d8c754736",
   "metadata": {},
   "outputs": [],
   "source": [
    "#changing datatype to save memory\n",
    "df_orders_products_merged['frequency_flag'] = df_orders_products_merged['frequency_flag'].astype('int8')"
   ]
  },
  {
   "cell_type": "markdown",
   "id": "1352fd6e-c15d-473a-a032-bba958dcf230",
   "metadata": {},
   "source": [
    "As above, I'll investigate how the customers are distributed across this frequency flag."
   ]
  },
  {
   "cell_type": "code",
   "execution_count": 22,
   "id": "190ae2e3-41d0-4b53-84f0-b9c67f7c9e80",
   "metadata": {},
   "outputs": [],
   "source": [
    "#grouping records by frequency flag, and counting how many unique users we have\n",
    "df_grouped = df_orders_products_merged.groupby(['frequency_flag'], as_index = False)['user_id'].nunique()"
   ]
  },
  {
   "cell_type": "code",
   "execution_count": 23,
   "id": "7f6bb8d6-038a-4399-af01-5d0c0fcbe639",
   "metadata": {},
   "outputs": [],
   "source": [
    "#renaming rows to present meaningful stuff\n",
    "df_grouped['frequency_flag'] = df_grouped['frequency_flag'].replace({1:\"Non-frequent customer\",2:\"Regular customer\",3:\"Frequent customer\"})"
   ]
  },
  {
   "cell_type": "code",
   "execution_count": 24,
   "id": "01a1ee0c-6dd8-47ad-b62a-953c74f6b1df",
   "metadata": {},
   "outputs": [],
   "source": [
    "#renaming user_id column to something more meaningful\n",
    "df_grouped.rename(columns={'user_id':'number_of_customers'},inplace = True)"
   ]
  },
  {
   "cell_type": "code",
   "execution_count": 25,
   "id": "e05710c7-d5e8-449b-ad75-a0a53269c5ed",
   "metadata": {},
   "outputs": [
    {
     "data": {
      "text/html": [
       "<style type=\"text/css\">\n",
       "</style>\n",
       "<table id=\"T_70898\">\n",
       "  <thead>\n",
       "    <tr>\n",
       "      <th id=\"T_70898_level0_col0\" class=\"col_heading level0 col0\" >frequency_flag</th>\n",
       "      <th id=\"T_70898_level0_col1\" class=\"col_heading level0 col1\" >number_of_customers</th>\n",
       "    </tr>\n",
       "  </thead>\n",
       "  <tbody>\n",
       "    <tr>\n",
       "      <td id=\"T_70898_row0_col0\" class=\"data row0 col0\" >Non-frequent customer</td>\n",
       "      <td id=\"T_70898_row0_col1\" class=\"data row0 col1\" >59623</td>\n",
       "    </tr>\n",
       "    <tr>\n",
       "      <td id=\"T_70898_row1_col0\" class=\"data row1 col0\" >Regular customer</td>\n",
       "      <td id=\"T_70898_row1_col1\" class=\"data row1 col1\" >59992</td>\n",
       "    </tr>\n",
       "    <tr>\n",
       "      <td id=\"T_70898_row2_col0\" class=\"data row2 col0\" >Frequent customer</td>\n",
       "      <td id=\"T_70898_row2_col1\" class=\"data row2 col1\" >86594</td>\n",
       "    </tr>\n",
       "  </tbody>\n",
       "</table>\n"
      ],
      "text/plain": [
       "<pandas.io.formats.style.Styler at 0x7edfb80260>"
      ]
     },
     "execution_count": 25,
     "metadata": {},
     "output_type": "execute_result"
    }
   ],
   "source": [
    "#presenting results, hiding a meaningless index (0,1,2)\n",
    "df_grouped[['frequency_flag','number_of_customers']].style.hide(axis=\"index\")"
   ]
  },
  {
   "cell_type": "markdown",
   "id": "793e15b3-b527-45b1-8544-111678c27b71",
   "metadata": {},
   "source": [
    "The total number of customers here is **206209**, exactly the total amount of customers previously found!"
   ]
  },
  {
   "cell_type": "markdown",
   "id": "27603381-59d2-4edc-a335-f6ce0ef46074",
   "metadata": {},
   "source": [
    "### Step 9 - Export your dataframe as a pickle file and store it correctly in your “Prepared Data” folder."
   ]
  },
  {
   "cell_type": "code",
   "execution_count": 26,
   "id": "db0d1b15-62bb-4a92-ada5-304a1bca7eb0",
   "metadata": {},
   "outputs": [],
   "source": [
    "#exporting to pickle format\n",
    "df_orders_products_merged.to_pickle(os.path.join(data_path, '2 Prepared Data', 'orders_products_labeled_v2.pkl'))"
   ]
  },
  {
   "cell_type": "code",
   "execution_count": null,
   "id": "f4fd879c-702e-4bab-98c1-ae964b258d04",
   "metadata": {},
   "outputs": [],
   "source": []
  }
 ],
 "metadata": {
  "kernelspec": {
   "display_name": "Python 3 (ipykernel)",
   "language": "python",
   "name": "python3"
  },
  "language_info": {
   "codemirror_mode": {
    "name": "ipython",
    "version": 3
   },
   "file_extension": ".py",
   "mimetype": "text/x-python",
   "name": "python",
   "nbconvert_exporter": "python",
   "pygments_lexer": "ipython3",
   "version": "3.12.7"
  }
 },
 "nbformat": 4,
 "nbformat_minor": 5
}
