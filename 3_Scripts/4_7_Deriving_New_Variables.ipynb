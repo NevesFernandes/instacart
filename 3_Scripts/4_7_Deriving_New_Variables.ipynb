{
 "cells": [
  {
   "cell_type": "markdown",
   "id": "b2aeb083-6beb-49ba-b480-e109ec0a036e",
   "metadata": {},
   "source": [
    "# Exercise walkthrough"
   ]
  },
  {
   "cell_type": "code",
   "execution_count": null,
   "id": "9f640ef1-865b-4778-8653-2bf5c810926f",
   "metadata": {},
   "outputs": [],
   "source": [
    "# initial setup, import, defs, loading dataframe\n",
    "\n",
    "import pandas as pd\n",
    "import os\n",
    "prep_data_path = '../2_Data/2_Prepared_Data'\n",
    "df_orders_products_merged = pd.read_pickle(os.path.join(prep_data_path, 'orders_products_merged.pkl'))"
   ]
  },
  {
   "cell_type": "code",
   "execution_count": 2,
   "id": "7e7865d9-4b3d-4577-ad46-e08b69cc59af",
   "metadata": {},
   "outputs": [],
   "source": [
    "# slice first million rows\n",
    "df_sliced = df_orders_products_merged[:1000000]"
   ]
  },
  {
   "cell_type": "code",
   "execution_count": 3,
   "id": "f404a23c-e9b0-410d-8ae7-9382bd9cce51",
   "metadata": {},
   "outputs": [
    {
     "data": {
      "text/plain": [
       "(1000000, 11)"
      ]
     },
     "execution_count": 3,
     "metadata": {},
     "output_type": "execute_result"
    }
   ],
   "source": [
    "df_sliced.shape"
   ]
  },
  {
   "cell_type": "markdown",
   "id": "8ce2fac7-9821-4847-8eec-e4fc42d3210f",
   "metadata": {},
   "source": [
    "The output is not corresponding to the screenshot on the Exercise, since I've been optimizing the needed columns."
   ]
  },
  {
   "cell_type": "code",
   "execution_count": 4,
   "id": "08c081ed-0c4e-4a53-b06b-48cc35ce18a5",
   "metadata": {},
   "outputs": [],
   "source": [
    "#function to label products according defined price ranges\n",
    "#The meaning of numbers is as follows:\n",
    "# 1-low-range product\n",
    "# 2-mid-range product\n",
    "# 3-high-range product\n",
    "# 0-not enough data\n",
    "\n",
    "def price_label(row):\n",
    "\n",
    "  if row['prices'] <= 5:\n",
    "    return 1\n",
    "  elif (row['prices'] > 5) and (row['prices'] <= 15):\n",
    "    return 2\n",
    "  elif row['prices'] > 15:\n",
    "    return 3\n",
    "  else: return 0"
   ]
  },
  {
   "cell_type": "code",
   "execution_count": 5,
   "id": "593f5478-6ddc-43fe-b00b-ef7c724ca0e7",
   "metadata": {},
   "outputs": [
    {
     "name": "stderr",
     "output_type": "stream",
     "text": [
      "/tmp/ipykernel_2137/2891241100.py:3: SettingWithCopyWarning: \n",
      "A value is trying to be set on a copy of a slice from a DataFrame.\n",
      "Try using .loc[row_indexer,col_indexer] = value instead\n",
      "\n",
      "See the caveats in the documentation: https://pandas.pydata.org/pandas-docs/stable/user_guide/indexing.html#returning-a-view-versus-a-copy\n",
      "  df_sliced['price_range'] = df_sliced.apply(price_label, axis=1)\n"
     ]
    }
   ],
   "source": [
    "#applying the function to create a new column in df with the appropriate label\n",
    "\n",
    "df_sliced['price_range'] = df_sliced.apply(price_label, axis=1)"
   ]
  },
  {
   "cell_type": "code",
   "execution_count": 6,
   "id": "05677968-1da7-4106-9593-8e7808a938a1",
   "metadata": {},
   "outputs": [
    {
     "data": {
      "text/plain": [
       "price_range\n",
       "2    673200\n",
       "1    314531\n",
       "3     12269\n",
       "Name: count, dtype: int64"
      ]
     },
     "execution_count": 6,
     "metadata": {},
     "output_type": "execute_result"
    }
   ],
   "source": [
    "df_sliced['price_range'].value_counts()"
   ]
  },
  {
   "cell_type": "markdown",
   "id": "363b51b2-f17c-4ada-a667-3ec9eb23b169",
   "metadata": {},
   "source": [
    "The output does not match the expected output written in the exercise......"
   ]
  },
  {
   "cell_type": "code",
   "execution_count": 7,
   "id": "8bdfafdd-02cc-46e6-867f-49c7ecdcbcdc",
   "metadata": {},
   "outputs": [
    {
     "data": {
      "text/plain": [
       "25.0"
      ]
     },
     "execution_count": 7,
     "metadata": {},
     "output_type": "execute_result"
    }
   ],
   "source": [
    "df_sliced['prices'].max()"
   ]
  },
  {
   "cell_type": "markdown",
   "id": "f7f16774-974d-4320-915b-1871d6943126",
   "metadata": {},
   "source": [
    "After the correction in price of the 2 outlier prices, made in 4.5, now it's more consistent, with max prices as 25.0\n",
    "\n",
    "I decided to stop worrying about the issue of the counts not matching the screenshot in the exercise.\n",
    "\n",
    "This cannot be anything else than a complete disalignement between the content of the exercise and the content of the original dataset (that possibly was reworked meanwhile without having updated the content). I'll proceed as is."
   ]
  },
  {
   "cell_type": "code",
   "execution_count": 8,
   "id": "13dc9773-3c0c-4f3b-807c-477dfaa1e84e",
   "metadata": {},
   "outputs": [
    {
     "name": "stderr",
     "output_type": "stream",
     "text": [
      "/tmp/ipykernel_2137/2534489396.py:3: SettingWithCopyWarning: \n",
      "A value is trying to be set on a copy of a slice from a DataFrame.\n",
      "Try using .loc[row_indexer,col_indexer] = value instead\n",
      "\n",
      "See the caveats in the documentation: https://pandas.pydata.org/pandas-docs/stable/user_guide/indexing.html#returning-a-view-versus-a-copy\n",
      "  df_sliced.loc[df_sliced['prices'] > 15, 'price_range_loc'] = 3\n"
     ]
    }
   ],
   "source": [
    "#using same numbers as previously\n",
    "\n",
    "df_sliced.loc[df_sliced['prices'] > 15, 'price_range_loc'] = 3\n",
    "df_sliced.loc[(df_sliced['prices'] <= 15) & (df_sliced['prices'] > 5), 'price_range_loc'] = 2 \n",
    "df_sliced.loc[df_sliced['prices'] <= 5, 'price_range_loc'] = 1"
   ]
  },
  {
   "cell_type": "code",
   "execution_count": 9,
   "id": "9c31b82c-f023-4c19-b3e5-05efae7cab23",
   "metadata": {},
   "outputs": [
    {
     "data": {
      "text/plain": [
       "price_range_loc\n",
       "2.0    673200\n",
       "1.0    314531\n",
       "3.0     12269\n",
       "Name: count, dtype: int64"
      ]
     },
     "execution_count": 9,
     "metadata": {},
     "output_type": "execute_result"
    }
   ],
   "source": [
    "df_sliced['price_range_loc'].value_counts()"
   ]
  },
  {
   "cell_type": "markdown",
   "id": "9fdd508b-ed3b-4243-bcf9-6d951906d38d",
   "metadata": {},
   "source": [
    "The `loc` method provides exactly the same results as the function `price_label()`"
   ]
  },
  {
   "cell_type": "code",
   "execution_count": 10,
   "id": "7e21d60a-df3d-4014-836a-7b3f1fde41a8",
   "metadata": {},
   "outputs": [],
   "source": [
    "#repeating loc method to label products according to prices in the whole dataset\n",
    "\n",
    "df_orders_products_merged.loc[df_orders_products_merged['prices'] > 15, 'price_range_loc'] = 3\n",
    "df_orders_products_merged.loc[(df_orders_products_merged['prices'] <= 15) & (df_orders_products_merged['prices'] > 5), 'price_range_loc'] = 2 \n",
    "df_orders_products_merged.loc[df_orders_products_merged['prices'] <= 5, 'price_range_loc'] = 1"
   ]
  },
  {
   "cell_type": "code",
   "execution_count": 11,
   "id": "d52bdb4d-deea-463b-930a-d26af43ba4e5",
   "metadata": {},
   "outputs": [
    {
     "data": {
      "text/plain": [
       "price_range_loc\n",
       "2.0    21860980\n",
       "1.0    10130188\n",
       "3.0      412551\n",
       "Name: count, dtype: int64"
      ]
     },
     "execution_count": 11,
     "metadata": {},
     "output_type": "execute_result"
    }
   ],
   "source": [
    "df_orders_products_merged['price_range_loc'].value_counts()"
   ]
  },
  {
   "cell_type": "markdown",
   "id": "5019bba0-bd13-4727-9bb9-6e81ac79c876",
   "metadata": {},
   "source": [
    "This result confirms the previous conclusion. The figures here differ a lot from the ones in the screenshots in the exercise.\n",
    "\n",
    "Most likely, it's due to a rework on the dataset that was not updated in the content of the exercise!"
   ]
  },
  {
   "cell_type": "code",
   "execution_count": 12,
   "id": "d7fc3b48-91ca-4966-b225-bb69606b01cf",
   "metadata": {},
   "outputs": [],
   "source": [
    "#re-assigning datatype to optimal memory usage\n",
    "df_orders_products_merged['price_range_loc'] = df_orders_products_merged['price_range_loc'].astype('int8')"
   ]
  },
  {
   "cell_type": "code",
   "execution_count": 13,
   "id": "fdb55b43-419e-48b2-b1bd-485890f18fda",
   "metadata": {},
   "outputs": [
    {
     "data": {
      "text/plain": [
       "orders_day_of_week\n",
       "0    6203898\n",
       "1    5660040\n",
       "6    4496316\n",
       "2    4213690\n",
       "5    4205651\n",
       "3    3840418\n",
       "4    3783706\n",
       "Name: count, dtype: int64"
      ]
     },
     "execution_count": 13,
     "metadata": {},
     "output_type": "execute_result"
    }
   ],
   "source": [
    "df_orders_products_merged['orders_day_of_week'].value_counts(dropna=False)"
   ]
  },
  {
   "cell_type": "code",
   "execution_count": 14,
   "id": "51d1013b-3529-4bf1-a366-3b19817f6ba5",
   "metadata": {},
   "outputs": [],
   "source": [
    "# the number convention here will be:\n",
    "# 1 = least busy\n",
    "# 2 = regularly busy\n",
    "# 3 = busiest day\n",
    "\n",
    "busy_label = []\n",
    "\n",
    "for day_of_week in df_orders_products_merged[\"orders_day_of_week\"]:\n",
    "  if day_of_week == 0:\n",
    "    busy_label.append(3)\n",
    "  elif day_of_week == 4:\n",
    "    busy_label.append(1)\n",
    "  else:\n",
    "    busy_label.append(2)"
   ]
  },
  {
   "cell_type": "code",
   "execution_count": 15,
   "id": "2ab6e772-c104-4582-85c4-b9a0b31986f7",
   "metadata": {},
   "outputs": [],
   "source": [
    "df_orders_products_merged['busy'] = busy_label"
   ]
  },
  {
   "cell_type": "code",
   "execution_count": 16,
   "id": "1f791d0d-da72-4e70-bc6e-e625c0a28a63",
   "metadata": {},
   "outputs": [],
   "source": [
    "#re-assigning datatype to optimal memory usage\n",
    "df_orders_products_merged['busy'] = df_orders_products_merged['busy'].astype('int8')"
   ]
  },
  {
   "cell_type": "code",
   "execution_count": 17,
   "id": "ffad438c-1eb1-4e30-80aa-15f183168291",
   "metadata": {},
   "outputs": [
    {
     "data": {
      "text/plain": [
       "busy\n",
       "2    22416115\n",
       "3     6203898\n",
       "1     3783706\n",
       "Name: count, dtype: int64"
      ]
     },
     "execution_count": 17,
     "metadata": {},
     "output_type": "execute_result"
    }
   ],
   "source": [
    "df_orders_products_merged['busy'].value_counts(dropna=False)"
   ]
  },
  {
   "cell_type": "markdown",
   "id": "bee837bd-c5b2-42ae-9a8a-b370f10acfc4",
   "metadata": {},
   "source": [
    "The values of Saturday and Wednesday naturally show up as the values for Busiest day and Least busy, while all the others add up to Regularly busy category"
   ]
  },
  {
   "cell_type": "markdown",
   "id": "8f20c154-365d-420e-b98f-52673f7237ea",
   "metadata": {},
   "source": [
    "# TASK"
   ]
  },
  {
   "cell_type": "markdown",
   "id": "e668327c-8ff4-4ed3-a239-815b6015fcdc",
   "metadata": {},
   "source": [
    "### Step 2 - New labels for top 2 and bottom 2 busiest days"
   ]
  },
  {
   "cell_type": "code",
   "execution_count": 18,
   "id": "9b9187e5-b827-4890-82bd-127878816374",
   "metadata": {},
   "outputs": [],
   "source": [
    "# the number convention here will be:\n",
    "# 1 = slowest days\n",
    "# 2 = regular days\n",
    "# 3 = busiest days\n",
    "\n",
    "busy_days_label = []\n",
    "\n",
    "for day_of_week in df_orders_products_merged[\"orders_day_of_week\"]:\n",
    "  if day_of_week == 0 or day_of_week == 1:\n",
    "    busy_days_label.append(3)\n",
    "  elif day_of_week == 3 or day_of_week == 4:\n",
    "    busy_days_label.append(1)\n",
    "  else:\n",
    "    busy_days_label.append(2)"
   ]
  },
  {
   "cell_type": "code",
   "execution_count": 19,
   "id": "21a65fda-6949-4c25-856f-e4c796519fd8",
   "metadata": {},
   "outputs": [],
   "source": [
    "df_orders_products_merged['busy_days'] = busy_days_label"
   ]
  },
  {
   "cell_type": "code",
   "execution_count": 20,
   "id": "448b1813-87df-4bc8-9e00-9eb2acb80a8e",
   "metadata": {},
   "outputs": [],
   "source": [
    "df_orders_products_merged['busy_days'] = df_orders_products_merged['busy_days'].astype('int8')"
   ]
  },
  {
   "cell_type": "markdown",
   "id": "1808cbd2-eb55-4d41-b9be-dfdea1d66fd1",
   "metadata": {},
   "source": [
    "### Step 3 - Values verification"
   ]
  },
  {
   "cell_type": "code",
   "execution_count": 21,
   "id": "21547205-8458-48e8-a5ad-957409d7b7d1",
   "metadata": {},
   "outputs": [
    {
     "data": {
      "text/plain": [
       "busy_days\n",
       "2    12915657\n",
       "3    11863938\n",
       "1     7624124\n",
       "Name: count, dtype: int64"
      ]
     },
     "execution_count": 21,
     "metadata": {},
     "output_type": "execute_result"
    }
   ],
   "source": [
    "df_orders_products_merged['busy_days'].value_counts(dropna=False)"
   ]
  },
  {
   "cell_type": "markdown",
   "id": "cf4a122f-9406-49a1-8fc0-35a596bf6420",
   "metadata": {},
   "source": [
    "Busiest days match the sum of Saturday and Sunday, as expected.\n",
    "\n",
    "Slowest days match the sum of Wednesday and Tuesday, as expected.\n",
    "\n",
    "The remaining days add up in the regular days."
   ]
  },
  {
   "cell_type": "markdown",
   "id": "4f97c2a9-2031-4d87-9d5e-f6b98bb98e6f",
   "metadata": {},
   "source": [
    "### Step 4 - Periods of day with most orders"
   ]
  },
  {
   "cell_type": "code",
   "execution_count": 22,
   "id": "446b5b69-1003-46b0-ba5f-152838d4ffcf",
   "metadata": {},
   "outputs": [
    {
     "data": {
      "text/html": [
       "<div>\n",
       "<style scoped>\n",
       "    .dataframe tbody tr th:only-of-type {\n",
       "        vertical-align: middle;\n",
       "    }\n",
       "\n",
       "    .dataframe tbody tr th {\n",
       "        vertical-align: top;\n",
       "    }\n",
       "\n",
       "    .dataframe thead th {\n",
       "        text-align: right;\n",
       "    }\n",
       "</style>\n",
       "<table border=\"1\" class=\"dataframe\">\n",
       "  <thead>\n",
       "    <tr style=\"text-align: right;\">\n",
       "      <th></th>\n",
       "      <th>count</th>\n",
       "    </tr>\n",
       "    <tr>\n",
       "      <th>order_hour_of_day</th>\n",
       "      <th></th>\n",
       "    </tr>\n",
       "  </thead>\n",
       "  <tbody>\n",
       "    <tr>\n",
       "      <th>10</th>\n",
       "      <td>2761660</td>\n",
       "    </tr>\n",
       "    <tr>\n",
       "      <th>11</th>\n",
       "      <td>2736010</td>\n",
       "    </tr>\n",
       "    <tr>\n",
       "      <th>14</th>\n",
       "      <td>2689036</td>\n",
       "    </tr>\n",
       "    <tr>\n",
       "      <th>15</th>\n",
       "      <td>2662044</td>\n",
       "    </tr>\n",
       "    <tr>\n",
       "      <th>13</th>\n",
       "      <td>2660846</td>\n",
       "    </tr>\n",
       "    <tr>\n",
       "      <th>12</th>\n",
       "      <td>2618430</td>\n",
       "    </tr>\n",
       "    <tr>\n",
       "      <th>16</th>\n",
       "      <td>2535106</td>\n",
       "    </tr>\n",
       "    <tr>\n",
       "      <th>9</th>\n",
       "      <td>2454127</td>\n",
       "    </tr>\n",
       "    <tr>\n",
       "      <th>17</th>\n",
       "      <td>2087564</td>\n",
       "    </tr>\n",
       "    <tr>\n",
       "      <th>8</th>\n",
       "      <td>1718082</td>\n",
       "    </tr>\n",
       "    <tr>\n",
       "      <th>18</th>\n",
       "      <td>1636436</td>\n",
       "    </tr>\n",
       "    <tr>\n",
       "      <th>19</th>\n",
       "      <td>1258275</td>\n",
       "    </tr>\n",
       "    <tr>\n",
       "      <th>20</th>\n",
       "      <td>976134</td>\n",
       "    </tr>\n",
       "    <tr>\n",
       "      <th>7</th>\n",
       "      <td>891026</td>\n",
       "    </tr>\n",
       "    <tr>\n",
       "      <th>21</th>\n",
       "      <td>795619</td>\n",
       "    </tr>\n",
       "    <tr>\n",
       "      <th>22</th>\n",
       "      <td>634207</td>\n",
       "    </tr>\n",
       "    <tr>\n",
       "      <th>23</th>\n",
       "      <td>402314</td>\n",
       "    </tr>\n",
       "    <tr>\n",
       "      <th>6</th>\n",
       "      <td>290491</td>\n",
       "    </tr>\n",
       "    <tr>\n",
       "      <th>0</th>\n",
       "      <td>218763</td>\n",
       "    </tr>\n",
       "    <tr>\n",
       "      <th>1</th>\n",
       "      <td>115698</td>\n",
       "    </tr>\n",
       "    <tr>\n",
       "      <th>5</th>\n",
       "      <td>87957</td>\n",
       "    </tr>\n",
       "    <tr>\n",
       "      <th>2</th>\n",
       "      <td>69373</td>\n",
       "    </tr>\n",
       "    <tr>\n",
       "      <th>4</th>\n",
       "      <td>53240</td>\n",
       "    </tr>\n",
       "    <tr>\n",
       "      <th>3</th>\n",
       "      <td>51281</td>\n",
       "    </tr>\n",
       "  </tbody>\n",
       "</table>\n",
       "</div>"
      ],
      "text/plain": [
       "                     count\n",
       "order_hour_of_day         \n",
       "10                 2761660\n",
       "11                 2736010\n",
       "14                 2689036\n",
       "15                 2662044\n",
       "13                 2660846\n",
       "12                 2618430\n",
       "16                 2535106\n",
       "9                  2454127\n",
       "17                 2087564\n",
       "8                  1718082\n",
       "18                 1636436\n",
       "19                 1258275\n",
       "20                  976134\n",
       "7                   891026\n",
       "21                  795619\n",
       "22                  634207\n",
       "23                  402314\n",
       "6                   290491\n",
       "0                   218763\n",
       "1                   115698\n",
       "5                    87957\n",
       "2                    69373\n",
       "4                    53240\n",
       "3                    51281"
      ]
     },
     "execution_count": 22,
     "metadata": {},
     "output_type": "execute_result"
    }
   ],
   "source": [
    "#create a dataframe with the info we need\n",
    "\n",
    "busy_hours = df_orders_products_merged['order_hour_of_day'].value_counts(dropna=False)\n",
    "df_busy_hours = busy_hours.to_frame()\n",
    "df_busy_hours"
   ]
  },
  {
   "cell_type": "code",
   "execution_count": 23,
   "id": "b12ad963-20bf-4c7c-af0a-cc84c9ce383b",
   "metadata": {},
   "outputs": [
    {
     "data": {
      "text/plain": [
       "32403719"
      ]
     },
     "execution_count": 23,
     "metadata": {},
     "output_type": "execute_result"
    }
   ],
   "source": [
    "df_orders_products_merged.shape[0]"
   ]
  },
  {
   "cell_type": "markdown",
   "id": "433535a5-ee40-41ba-9036-16ce193ec18f",
   "metadata": {},
   "source": [
    "It's not mentioned in the exercise how many hours we should consider to label as \"Most orders\" or \"Fewest orders\".\n",
    "\n",
    "For this reason, I opted to define a function that you pass these as arguments"
   ]
  },
  {
   "cell_type": "code",
   "execution_count": 24,
   "id": "e7640345-0e56-468f-9e24-d0cfd36d01d4",
   "metadata": {},
   "outputs": [],
   "source": [
    "#This function takes as arguments:\n",
    "#   - series: an ordered series coming from value_counts \n",
    "#   - most_orders: the value for how many hours we want labeled as Most orders\n",
    "#   - fewest_orders: the value for how many hours we want labeled as Fewest orders\n",
    "#Output: two lists of values to check if hour of day is in one of those lists\n",
    "\n",
    "def labeling_hours_of_day(series, most_orders, fewest_orders):\n",
    "    most_ord_list = series.index[0:most_orders].to_list()\n",
    "    fewest_ord_list = series.index[series.shape[0]-fewest_orders:series.shape[0]].to_list()\n",
    "    return most_ord_list, fewest_ord_list\n",
    "        "
   ]
  },
  {
   "cell_type": "code",
   "execution_count": 25,
   "id": "d207f7fe-c688-4617-9c41-f589d8ece9ea",
   "metadata": {},
   "outputs": [],
   "source": [
    "#Testing function with top 4 hours as Most orders and 4 bottom as Fewest orders\n",
    "most_ord_list, fewest_ord_list = labeling_hours_of_day(busy_hours, 4, 4)"
   ]
  },
  {
   "cell_type": "code",
   "execution_count": 26,
   "id": "9bae5839-6b5c-4a03-bcc0-6c724dcf4cd8",
   "metadata": {},
   "outputs": [],
   "source": [
    "#running throught the dataframe, checking for each row if order_hour_of_day is inside each list and assigning the correct label\n",
    "# the number convention here will be:\n",
    "# 1 = fewest orders\n",
    "# 2 = average orders\n",
    "# 3 = most orders\n",
    "\n",
    "hour_label = []\n",
    "\n",
    "for hour in df_orders_products_merged[\"order_hour_of_day\"]:\n",
    "  if hour in most_ord_list:\n",
    "    hour_label.append(3)\n",
    "  elif hour in fewest_ord_list:\n",
    "    hour_label.append(1)\n",
    "  else:\n",
    "    hour_label.append(2)"
   ]
  },
  {
   "cell_type": "code",
   "execution_count": 27,
   "id": "0e9d8744-6ce7-4d3c-8e6e-d67c6402bb82",
   "metadata": {},
   "outputs": [],
   "source": [
    "#adding column to the main dataframe\n",
    "\n",
    "df_orders_products_merged['busiest_period_of_day'] = hour_label"
   ]
  },
  {
   "cell_type": "code",
   "execution_count": 28,
   "id": "b70ac216-fa1c-4d6e-8bed-6a11a7b2b97b",
   "metadata": {},
   "outputs": [],
   "source": [
    "df_orders_products_merged['busiest_period_of_day'] = df_orders_products_merged['busiest_period_of_day'].astype('int8')"
   ]
  },
  {
   "cell_type": "code",
   "execution_count": 29,
   "id": "a4d4afbb-b3e5-48e6-9fc0-e8b5f46d3bde",
   "metadata": {},
   "outputs": [
    {
     "data": {
      "text/plain": [
       "busiest_period_of_day\n",
       "2    21293118\n",
       "3    10848750\n",
       "1      261851\n",
       "Name: count, dtype: int64"
      ]
     },
     "execution_count": 29,
     "metadata": {},
     "output_type": "execute_result"
    }
   ],
   "source": [
    "df_orders_products_merged['busiest_period_of_day'].value_counts(dropna=False)"
   ]
  },
  {
   "cell_type": "markdown",
   "id": "13946556-659b-454c-aa56-9430d0752c05",
   "metadata": {},
   "source": [
    "Picking up a calculator, the values match:\n",
    "- Most orders correspond to the sum of orders in the hours 10, 11, 14 and 15\n",
    "- Fewest orders correspond to the sum of orders in the hours 5, 2, 4 and 3"
   ]
  },
  {
   "cell_type": "code",
   "execution_count": 30,
   "id": "fdaa334d-4248-4f4b-85f2-5e999dd7a8cb",
   "metadata": {},
   "outputs": [],
   "source": [
    "#exporting to pickle format\n",
    "df_orders_products_merged.to_pickle(os.path.join(prep_data_path, 'orders_products_labeled.pkl'))"
   ]
  },
  {
   "cell_type": "code",
   "execution_count": null,
   "id": "46bd5cca-bccf-4e57-81a4-f2a40f6d3453",
   "metadata": {},
   "outputs": [],
   "source": []
  }
 ],
 "metadata": {
  "kernelspec": {
   "display_name": "Python 3 (ipykernel)",
   "language": "python",
   "name": "python3"
  },
  "language_info": {
   "codemirror_mode": {
    "name": "ipython",
    "version": 3
   },
   "file_extension": ".py",
   "mimetype": "text/x-python",
   "name": "python",
   "nbconvert_exporter": "python",
   "pygments_lexer": "ipython3",
   "version": "3.12.2"
  }
 },
 "nbformat": 4,
 "nbformat_minor": 5
}
